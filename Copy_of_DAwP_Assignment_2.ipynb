{
  "nbformat": 4,
  "nbformat_minor": 0,
  "metadata": {
    "colab": {
      "name": "Copy of DAwP_Assignment_2.ipynb",
      "provenance": [],
      "collapsed_sections": [],
      "include_colab_link": true
    },
    "language_info": {
      "codemirror_mode": {
        "name": "ipython",
        "version": 3
      },
      "file_extension": ".py",
      "mimetype": "text/x-python",
      "name": "python",
      "nbconvert_exporter": "python",
      "pygments_lexer": "ipython3",
      "version": "3.6.5"
    },
    "kernelspec": {
      "display_name": "Python 3",
      "language": "python",
      "name": "python3"
    }
  },
  "cells": [
    {
      "cell_type": "markdown",
      "metadata": {
        "id": "view-in-github",
        "colab_type": "text"
      },
      "source": [
        "<a href=\"https://colab.research.google.com/github/tienmai65/coderschool/blob/master/Copy_of_DAwP_Assignment_2.ipynb\" target=\"_parent\"><img src=\"https://colab.research.google.com/assets/colab-badge.svg\" alt=\"Open In Colab\"/></a>"
      ]
    },
    {
      "cell_type": "markdown",
      "metadata": {
        "id": "kL9VPYin9nOD",
        "colab_type": "text"
      },
      "source": [
        "![](https://i.imgur.com/0AUxkXt.png)\n",
        "\n",
        "# SF Salaries Exercise \n",
        "\n",
        "Explore San Francisco city employee salary data.\n",
        "\n",
        "## Overview\n",
        "\n",
        "One way to understand how a city government works is by looking at who it employs and how its employees are compensated. This data contains the names, job title, and compensation for San Francisco city employees on an annual basis from 2011 to 2014.\n",
        "\n",
        "\n",
        "\n",
        "Just follow along and complete the tasks outlined in bold below. The tasks will get harder and harder as you go along.\n",
        "\n",
        "## Resourses\n",
        "\n",
        "[Pandas API Reference](https://pandas.pydata.org/pandas-docs/stable/api.html)\n",
        "\n",
        "[NumPy Reference](https://docs.scipy.org/doc/numpy/reference/)\n",
        "\n",
        "[Visualization with Seaborn](https://jakevdp.github.io/PythonDataScienceHandbook/04.14-visualization-with-seaborn.html)\n"
      ]
    },
    {
      "cell_type": "markdown",
      "metadata": {
        "id": "ueY1PMBl9nOF",
        "colab_type": "text"
      },
      "source": [
        "**Import libraries**"
      ]
    },
    {
      "cell_type": "code",
      "metadata": {
        "id": "Guy0oVyMlPBD",
        "colab_type": "code",
        "colab": {}
      },
      "source": [
        "import pandas as pd\n",
        "import numpy as np"
      ],
      "execution_count": 0,
      "outputs": []
    },
    {
      "cell_type": "code",
      "metadata": {
        "id": "dnwk5LCx9nOG",
        "colab_type": "code",
        "colab": {}
      },
      "source": [
        ""
      ],
      "execution_count": 0,
      "outputs": []
    },
    {
      "cell_type": "markdown",
      "metadata": {
        "id": "jiOt1hEM9nOJ",
        "colab_type": "text"
      },
      "source": [
        "**Read `Salaries.csv` as a dataframe called `sal`.**"
      ]
    },
    {
      "cell_type": "code",
      "metadata": {
        "id": "FtA68BoY9nOJ",
        "colab_type": "code",
        "colab": {}
      },
      "source": [
        "link = \"https://s3-ap-southeast-1.amazonaws.com/intro-to-ml-minhdh/Salaries.csv\"\n",
        "sal = pd.read_csv(link)\n",
        "sal1=pd.DataFrame(data=sal)"
      ],
      "execution_count": 0,
      "outputs": []
    },
    {
      "cell_type": "markdown",
      "metadata": {
        "id": "QW6hV4iv9nOM",
        "colab_type": "text"
      },
      "source": [
        "**Check the head of the DataFrame.**"
      ]
    },
    {
      "cell_type": "code",
      "metadata": {
        "id": "oa2JHHJ99nON",
        "colab_type": "code",
        "outputId": "608f0d64-dc02-4d4b-deaf-14cbedb6a4aa",
        "colab": {
          "base_uri": "https://localhost:8080/",
          "height": 204
        }
      },
      "source": [
        "print(sal.head())\n",
        "print(sal.columns.values)\n",
        "print(sal.index)"
      ],
      "execution_count": 3,
      "outputs": [
        {
          "output_type": "stream",
          "text": [
            "   Id       EmployeeName  ...         Agency  Status\n",
            "0   1     NATHANIEL FORD  ...  San Francisco     NaN\n",
            "1   2       GARY JIMENEZ  ...  San Francisco     NaN\n",
            "2   3     ALBERT PARDINI  ...  San Francisco     NaN\n",
            "3   4  CHRISTOPHER CHONG  ...  San Francisco     NaN\n",
            "4   5    PATRICK GARDNER  ...  San Francisco     NaN\n",
            "\n",
            "[5 rows x 13 columns]\n",
            "['Id' 'EmployeeName' 'JobTitle' 'BasePay' 'OvertimePay' 'OtherPay'\n",
            " 'Benefits' 'TotalPay' 'TotalPayBenefits' 'Year' 'Notes' 'Agency' 'Status']\n",
            "RangeIndex(start=0, stop=148654, step=1)\n"
          ],
          "name": "stdout"
        }
      ]
    },
    {
      "cell_type": "markdown",
      "metadata": {
        "id": "LgRIzJ_l9nOP",
        "colab_type": "text"
      },
      "source": [
        "**Use the .info() method to find out how many entries there are.**"
      ]
    },
    {
      "cell_type": "code",
      "metadata": {
        "id": "JuwgdTfz9nOP",
        "colab_type": "code",
        "outputId": "a437a9aa-4ca3-444a-fe0d-eaa0f26179d1",
        "colab": {
          "base_uri": "https://localhost:8080/",
          "height": 340
        }
      },
      "source": [
        "print(sal.info())"
      ],
      "execution_count": 4,
      "outputs": [
        {
          "output_type": "stream",
          "text": [
            "<class 'pandas.core.frame.DataFrame'>\n",
            "RangeIndex: 148654 entries, 0 to 148653\n",
            "Data columns (total 13 columns):\n",
            "Id                  148654 non-null int64\n",
            "EmployeeName        148654 non-null object\n",
            "JobTitle            148654 non-null object\n",
            "BasePay             148045 non-null float64\n",
            "OvertimePay         148650 non-null float64\n",
            "OtherPay            148650 non-null float64\n",
            "Benefits            112491 non-null float64\n",
            "TotalPay            148654 non-null float64\n",
            "TotalPayBenefits    148654 non-null float64\n",
            "Year                148654 non-null int64\n",
            "Notes               0 non-null float64\n",
            "Agency              148654 non-null object\n",
            "Status              0 non-null float64\n",
            "dtypes: float64(8), int64(2), object(3)\n",
            "memory usage: 14.7+ MB\n",
            "None\n"
          ],
          "name": "stdout"
        }
      ]
    },
    {
      "cell_type": "markdown",
      "metadata": {
        "id": "RgO49aNW9nOR",
        "colab_type": "text"
      },
      "source": [
        "**What is the average BasePay ?**\n",
        "\n",
        "Keyword: [mean](https://pandas.pydata.org/pandas-docs/stable/generated/pandas.DataFrame.mean.html)"
      ]
    },
    {
      "cell_type": "code",
      "metadata": {
        "id": "twQu_3xj9nOS",
        "colab_type": "code",
        "outputId": "16063e68-4d82-4767-9595-e53ee0e2fbaf",
        "colab": {
          "base_uri": "https://localhost:8080/",
          "height": 34
        }
      },
      "source": [
        "sal['BasePay'].mean()"
      ],
      "execution_count": 0,
      "outputs": [
        {
          "output_type": "execute_result",
          "data": {
            "text/plain": [
              "66325.44884050643"
            ]
          },
          "metadata": {
            "tags": []
          },
          "execution_count": 8
        }
      ]
    },
    {
      "cell_type": "markdown",
      "metadata": {
        "id": "qQc-OERD9nOU",
        "colab_type": "text"
      },
      "source": [
        "**What is the lowest and highest amount of BasePay?**\n",
        "\n",
        "Keyword: \n",
        "[min](https://pandas.pydata.org/pandas-docs/stable/generated/pandas.DataFrame.min.html) , \n",
        "[max](https://pandas.pydata.org/pandas-docs/stable/generated/pandas.DataFrame.max.html)"
      ]
    },
    {
      "cell_type": "code",
      "metadata": {
        "id": "22XKRdg49nOV",
        "colab_type": "code",
        "outputId": "f9f374a8-f4a5-4044-fdd0-d497922d63a1",
        "colab": {
          "base_uri": "https://localhost:8080/",
          "height": 34
        }
      },
      "source": [
        "print(sal['BasePay'].max())"
      ],
      "execution_count": 0,
      "outputs": [
        {
          "output_type": "stream",
          "text": [
            "319275.01\n"
          ],
          "name": "stdout"
        }
      ]
    },
    {
      "cell_type": "code",
      "metadata": {
        "id": "R-yPM0ZU9nOX",
        "colab_type": "code",
        "outputId": "3dcae05f-9d62-4613-9162-9cad3639c65b",
        "colab": {
          "base_uri": "https://localhost:8080/",
          "height": 34
        }
      },
      "source": [
        "print(sal['BasePay'].min())"
      ],
      "execution_count": 0,
      "outputs": [
        {
          "output_type": "stream",
          "text": [
            "-166.01\n"
          ],
          "name": "stdout"
        }
      ]
    },
    {
      "cell_type": "markdown",
      "metadata": {
        "id": "-MdkKp6U9nOa",
        "colab_type": "text"
      },
      "source": [
        "**How about OvertimePay in the dataset? What is the average, lowest, highest amount?**"
      ]
    },
    {
      "cell_type": "code",
      "metadata": {
        "id": "Og2yxCil9nOb",
        "colab_type": "code",
        "outputId": "ca6ab023-d57c-48a1-a525-5437b963e2b2",
        "colab": {
          "base_uri": "https://localhost:8080/",
          "height": 34
        }
      },
      "source": [
        "print(sal['OvertimePay'].min())\n"
      ],
      "execution_count": 0,
      "outputs": [
        {
          "output_type": "stream",
          "text": [
            "-0.01\n"
          ],
          "name": "stdout"
        }
      ]
    },
    {
      "cell_type": "code",
      "metadata": {
        "id": "_1KbqFBzmxFN",
        "colab_type": "code",
        "outputId": "99c40301-8e86-4cb0-d9e7-0cdb08ab46c6",
        "colab": {
          "base_uri": "https://localhost:8080/",
          "height": 34
        }
      },
      "source": [
        "print(sal['OvertimePay'].max())"
      ],
      "execution_count": 0,
      "outputs": [
        {
          "output_type": "stream",
          "text": [
            "245131.88\n"
          ],
          "name": "stdout"
        }
      ]
    },
    {
      "cell_type": "markdown",
      "metadata": {
        "id": "mF0zrXXh9nOf",
        "colab_type": "text"
      },
      "source": [
        "**What is the job title of  JOSEPH DRISCOLL ? Note: Use all caps, otherwise you may get an answer that doesn't match up (there is also a lowercase Joseph Driscoll).**"
      ]
    },
    {
      "cell_type": "code",
      "metadata": {
        "id": "wbqO05iu9nOh",
        "colab_type": "code",
        "outputId": "ed9d338b-6bcd-4453-b6c5-fc76f0c18728",
        "colab": {
          "base_uri": "https://localhost:8080/",
          "height": 51
        }
      },
      "source": [
        "print(sal.loc[sal['EmployeeName']=='JOSEPH DRISCOLL','JobTitle'])"
      ],
      "execution_count": 0,
      "outputs": [
        {
          "output_type": "stream",
          "text": [
            "24    CAPTAIN, FIRE SUPPRESSION\n",
            "Name: JobTitle, dtype: object\n"
          ],
          "name": "stdout"
        }
      ]
    },
    {
      "cell_type": "code",
      "metadata": {
        "id": "MwzxTlI29nOl",
        "colab_type": "code",
        "outputId": "18030756-46f8-4fe9-85bc-3132b92d31b1",
        "colab": {
          "base_uri": "https://localhost:8080/",
          "height": 51
        }
      },
      "source": [
        "# Now try to select Employees who have name \"GARY JIMENEZ\"\n",
        "# Your code here\n",
        "print(sal.loc[sal['EmployeeName']=='GARY JIMENEZ','JobTitle'])"
      ],
      "execution_count": 0,
      "outputs": [
        {
          "output_type": "stream",
          "text": [
            "1    CAPTAIN III (POLICE DEPARTMENT)\n",
            "Name: JobTitle, dtype: object\n"
          ],
          "name": "stdout"
        }
      ]
    },
    {
      "cell_type": "markdown",
      "metadata": {
        "id": "0nrHI4iu9nOn",
        "colab_type": "text"
      },
      "source": [
        "**How much does JOSEPH DRISCOLL make (including benefits)?**"
      ]
    },
    {
      "cell_type": "code",
      "metadata": {
        "id": "TUZlBSDE9nOo",
        "colab_type": "code",
        "outputId": "ce352fca-b3a0-4d2e-cfdd-53c064b1d62f",
        "colab": {
          "base_uri": "https://localhost:8080/",
          "height": 51
        }
      },
      "source": [
        "print(sal.loc[sal['EmployeeName']=='JOSEPH DRISCOLL','TotalPayBenefits'])"
      ],
      "execution_count": 0,
      "outputs": [
        {
          "output_type": "stream",
          "text": [
            "24    270324.91\n",
            "Name: TotalPayBenefits, dtype: float64\n"
          ],
          "name": "stdout"
        }
      ]
    },
    {
      "cell_type": "markdown",
      "metadata": {
        "id": "1thjd2GC9nOq",
        "colab_type": "text"
      },
      "source": [
        "**What is the name of highest paid person (including benefits)?**"
      ]
    },
    {
      "cell_type": "code",
      "metadata": {
        "id": "msrq-7Ww9nOr",
        "colab_type": "code",
        "outputId": "96c0e664-3a45-4d2a-bcbd-4de3a330c96b",
        "colab": {
          "base_uri": "https://localhost:8080/",
          "height": 68
        }
      },
      "source": [
        "#take only the column of total pay and name\n",
        "df=sal[['TotalPayBenefits','EmployeeName']]\n",
        "#print(df)\n",
        "#find the max pay\n",
        "maxPay=df['TotalPayBenefits'].max()\n",
        "print(maxPay)\n",
        "#find the name that has that max pay\n",
        "highestPay=sal.loc[sal['TotalPayBenefits']==maxPay,'EmployeeName']\n",
        "print(highestPay)"
      ],
      "execution_count": 0,
      "outputs": [
        {
          "output_type": "stream",
          "text": [
            "567595.43\n",
            "0    NATHANIEL FORD\n",
            "Name: EmployeeName, dtype: object\n"
          ],
          "name": "stdout"
        }
      ]
    },
    {
      "cell_type": "markdown",
      "metadata": {
        "id": "uF2kX93x9nOu",
        "colab_type": "text"
      },
      "source": [
        "**What is the name of lowest paid person (including benefits)? Do you notice something strange about how much he or she is paid?**"
      ]
    },
    {
      "cell_type": "code",
      "metadata": {
        "id": "htAfatTl9nOv",
        "colab_type": "code",
        "outputId": "7a722ef1-2f54-44c1-ae37-88306f06116f",
        "colab": {
          "base_uri": "https://localhost:8080/",
          "height": 68
        }
      },
      "source": [
        "#take only the column of total pay and name\n",
        "df=sal[['TotalPayBenefits','EmployeeName']]\n",
        "#print(df)\n",
        "#find the max pay\n",
        "minPay=df['TotalPayBenefits'].min()\n",
        "print(minPay)\n",
        "#find the name that has that max pay\n",
        "lowestPay=sal.loc[sal['TotalPayBenefits']==minPay,'EmployeeName']\n",
        "print(lowestPay)\n",
        "#the negative number is weird"
      ],
      "execution_count": 0,
      "outputs": [
        {
          "output_type": "stream",
          "text": [
            "-618.13\n",
            "148653    Joe Lopez\n",
            "Name: EmployeeName, dtype: object\n"
          ],
          "name": "stdout"
        }
      ]
    },
    {
      "cell_type": "markdown",
      "metadata": {
        "id": "WB0HTvjM9nOx",
        "colab_type": "text"
      },
      "source": [
        "**What was the average (mean) BasePay of all employees per year? (2011-2014) ?**\n",
        "Keyword: _groupby_"
      ]
    },
    {
      "cell_type": "code",
      "metadata": {
        "id": "6Y5mUYir9nOy",
        "colab_type": "code",
        "outputId": "e34a9ddb-9f65-4e55-c0ab-c73fdb691ee7",
        "colab": {
          "base_uri": "https://localhost:8080/",
          "height": 34
        }
      },
      "source": [
        "sal.groupby('BasePay')['BasePay'].sum().mean()"
      ],
      "execution_count": 0,
      "outputs": [
        {
          "output_type": "execute_result",
          "data": {
            "text/plain": [
              "89681.62165688575"
            ]
          },
          "metadata": {
            "tags": []
          },
          "execution_count": 39
        }
      ]
    },
    {
      "cell_type": "markdown",
      "metadata": {
        "id": "k8Qzx9MD9nO0",
        "colab_type": "text"
      },
      "source": [
        "**How many unique job titles are there?**\n",
        "\n",
        "Keyword: _unique, nunique_"
      ]
    },
    {
      "cell_type": "code",
      "metadata": {
        "id": "mvzwZ5Mb9nO1",
        "colab_type": "code",
        "outputId": "bdd1acff-c586-48a1-e034-50a48513662b",
        "colab": {
          "base_uri": "https://localhost:8080/",
          "height": 34
        }
      },
      "source": [
        "sal['JobTitle'].nunique()"
      ],
      "execution_count": 0,
      "outputs": [
        {
          "output_type": "execute_result",
          "data": {
            "text/plain": [
              "2159"
            ]
          },
          "metadata": {
            "tags": []
          },
          "execution_count": 44
        }
      ]
    },
    {
      "cell_type": "markdown",
      "metadata": {
        "id": "0dkyZe-39nO4",
        "colab_type": "text"
      },
      "source": [
        "**What are the top 5 most common jobs?**\n",
        "\n",
        "Keyword: *value_counts*"
      ]
    },
    {
      "cell_type": "code",
      "metadata": {
        "id": "PVSDr3Ww9nO7",
        "colab_type": "code",
        "outputId": "46947a68-f69e-4be5-fc94-e84c4b3aed57",
        "colab": {
          "base_uri": "https://localhost:8080/",
          "height": 88
        }
      },
      "source": [
        "jobCount=sal.groupby('JobTitle')['JobTitle'].value_counts().sort_values(ascending=False)\n",
        "commonJob=jobCount.head(5)\n",
        "print(commonJob.index)"
      ],
      "execution_count": 0,
      "outputs": [
        {
          "output_type": "stream",
          "text": [
            "MultiIndex(levels=[['ACCOUNT CLERK', 'ACCOUNTANT', 'ACCOUNTANT INTERN', 'ACPO,JuvP, Juv Prob (SFERS)', 'ACUPUNCTURIST', 'ADMINISTRATIVE ANALYST', 'ADMINISTRATIVE ANALYST II', 'ADMINISTRATIVE ANALYST III', 'ADMINISTRATIVE ENGINEER', 'ADMINISTRATIVE SERVICES MANAGER', 'ADMINISTRATOR, SFGH MEDICAL CENTER', 'AFFIRMATIVE ACTION SPECIALIST', 'AGRICULTURAL INSPECTOR', 'AIRPORT ASSISTANT DEPUTY DIRECTOR, BUSINESS ADMINI', 'AIRPORT ASSISTANT DEPUTY DIRECTOR, OPERATIONS', 'AIRPORT COMMUNICATIONS OPERATOR', 'AIRPORT COMMUNICATIONS SUPERVISOR', 'AIRPORT ECONOMIC PLANNER', 'AIRPORT ELECTRICIAN', 'AIRPORT ELECTRICIAN SUPERVISOR', 'AIRPORT EMERGENCY PLANNING COORDINATOR', 'AIRPORT MECHANICAL MAINTENANCE SUPERVISOR', 'AIRPORT NOISE ABATEMENT SPECIALIST', 'AIRPORT OPERATIONS SUPERVISOR', 'AIRPORT POLICE SERVICES AIDE', 'AIRPORT PROPERTY SPECIALIST I', 'AIRPORT SAFETY OFFICER', 'ANESTHETIST', 'ANIMAL CARE ASSISTANT SUPERVISOR', 'ANIMAL CARE ATTENDANT', 'ANIMAL CARE SUPERVISOR', 'ANIMAL CONTROL OFFICER', 'ANIMAL HEALTH TECHNICIAN', 'ANIMAL KEEPER', 'APPRENTICE GARDENER', 'APPRENTICE STATIONARY ENGINEER', 'APPRENTICE STATIONARY ENGINEER, SEWAGE PLANT', 'APPRENTICE STATIONARY ENGINEER,WATER TREATMENT PLN', 'ARCHITECT', 'ARCHITECTURAL ADMINISTRATOR', 'ARCHITECTURAL ASSISTANT  I', 'ARCHITECTURAL ASSISTANT II', 'ARCHITECTURAL ASSOCIATE  I', 'ARCHITECTURAL ASSOCIATE II', 'AREA SUPERVISOR, PARKS, SQUARES AND FACILITIES', 'ARTS PROGRAM ASSISTANT', 'ASPHALT FINISHER', 'ASPHALT FINISHER SUPERVISOR I', 'ASPHALT PLANT SUPERVISOR I', 'ASPHALT WORKER', 'ASR Senior Office Specialist', 'ASR-Office Assistant', 'ASSESSMENT CLERK', 'ASSESSOR', 'ASSISTANT CHIEF ATTORNEY I', 'ASSISTANT CHIEF ATTORNEY II', 'ASSISTANT CHIEF DISTRICT ATTORNEY'S INVESTIGATOR', 'ASSISTANT CHIEF OF DEPARTMENT, (FIRE DEPARTMENT)', 'ASSISTANT CHIEF VICTIM/WITNESS INVESTIGATOR', 'ASSISTANT CLERK, BOARD OF SUPERVISORS', 'ASSISTANT CONSTRUCTION INSPECTOR', 'ASSISTANT COOK', 'ASSISTANT COUNSELOR', 'ASSISTANT COURT REPORTER COORDINATOR', 'ASSISTANT DEPUTY CHIEF II', 'ASSISTANT DEPUTY DIRECTOR, PORT', 'ASSISTANT DIRECTOR OF CLINICAL SERVICES I', 'ASSISTANT DIRECTOR OF CLINICAL SERVICES II', 'ASSISTANT DIRECTOR, JUVENILE HALL', 'ASSISTANT DIRECTOR, LOG CABIN RANCH', 'ASSISTANT ELECTRONIC MAINTENANCE TECHNICIAN', 'ASSISTANT ENGINEER', 'ASSISTANT FORENSIC TOXICOLOGIST I', 'ASSISTANT GENERAL SERVICES MANAGER', 'ASSISTANT HEALTH EDUCATOR', 'ASSISTANT INDUSTRIAL HYGIENIST', 'ASSISTANT INSPECTOR (POLICE DEPARTMENT)', 'ASSISTANT INSPECTOR II (POLICE DEPARTMENT)', 'ASSISTANT INSPECTOR III (POLICE DEPARTMENT)', 'ASSISTANT LAW LIBRARIAN', 'ASSISTANT MATERIALS COORDINATOR', 'ASSISTANT MEDICAL EXAMINER', 'ASSISTANT POWER HOUSE OPERATOR', 'ASSISTANT PURCHASER', 'ASSISTANT RECREATION DIRECTOR', 'ASSISTANT RECREATION SUPERVISOR', 'ASSISTANT RENTAL MANAGER, PORT', 'ASSISTANT RETIREMENT ANALYST', 'ASSISTANT SHERIFF', 'ASSISTANT STOREKEEPER', 'ASSISTANT SUPERINTENDENT RECREATION', 'ASSISTANT TO THE DIRECTOR, PUBLIC AFFAIRS       RS', 'ASSOCIATE AFFIRMATIVE ACTION COORDINATOR', 'ASSOCIATE AUDITOR', 'ASSOCIATE ENGINEER', 'ASSOCIATE HUMAN RESOURCES ANALYST', 'ASSOCIATE MUSEUM CONSERVATOR, ASIAN ART MUSEUM', 'ASSOCIATE MUSEUM REGISTRAR', 'ASSOCIATE PERFORMANCE AUDITOR', 'ASST. CHIEF PROBATION OFFICER-JUVENILE PROBATION', 'ASST. CHIEF, BUREAU OF CLAIMS INVEST. & ADMIN', 'ATTORNEY (CIVIL/CRIMINAL)', 'ATTORNEY FOR THE PUBLIC ADMINISTRATOR', 'ATTORNEY, TAX COLLECTOR', 'AUDIOLOGIST', 'AUDIOMETRIST', 'AUTOMOTIVE BODY AND FENDER WORKER', 'AUTOMOTIVE BODY AND FENDER WORKER SUPERVISOR I', 'AUTOMOTIVE MACHINIST', 'AUTOMOTIVE MACHINIST ASSISTANT SUPERVISOR', 'AUTOMOTIVE MACHINIST SUPERVISOR I', 'AUTOMOTIVE MECHANIC', 'AUTOMOTIVE MECHANIC ASSISTANT SUPERVISOR', 'AUTOMOTIVE MECHANIC SUPERVISOR I', 'AUTOMOTIVE SERVICE WORKER', 'AUTOMOTIVE SERVICE WORKER ASSISTANT SUPERVISOR', 'AUTOMOTIVE TRANSIT SHOP SUPERVISOR I', 'Account Clerk', 'Accountant I', 'Accountant II', 'Accountant III', 'Accountant IV', 'Accountant Intern', 'Acupuncturist', 'Adm, SFGH Medical Center', 'Admin Analyst 3', 'Admin Hearing Examiner', 'Administrative Analyst', 'Administrative Analyst I', 'Administrative Analyst II', 'Administrative Engineer', 'Administrative Hearing Sup', 'Administrative Services Mgr', 'Administrator, DPH', 'Admission Attendant', 'Agricultural Inspector', 'Airport Communications Disp', 'Airport Communications Officer', 'Airport Economic Planner', 'Airport Electrician', 'Airport Electrician Supervisor', 'Airport Emerg Planning Coord', 'Airport Mechanical Maint Sprv', 'Airport Noise Abatement Spec', 'Airport Operations Supervisor', 'Airport Property Specialist 1', 'Airport Safety Officer', 'Airports Communications Sprv', 'Anesthetist', 'Animal Care Asst Supv', 'Animal Care Attendant', 'Animal Care Supervisor', 'Animal Control Officer', 'Animal Control Supervisor', 'Animal Health Technician', 'Animal Keeper', 'Apprentice Cement Mason I', 'Apprentice Gardener', 'Apprentice Stationary Engineer', 'Aprntc Statnry Eng, Sew Plant', 'AprntcStatnry Eng,WtrTreatPlnt', 'Aquatics Facility Asst Supv', 'Aquatics Facility Supervisor', 'Arborist Technician', 'Arborist Technician Supervisor', 'Arborist Technician Supv II', 'Architect', 'Architectural Administrator', 'Architectural Assistant 1', 'Architectural Assistant 2', 'Architectural Associate 1', 'Architectural Associate 2', 'Area Sprv Parks, Squares & Fac', 'Arts Program Assistant', 'Asphalt Finisher', 'Asphalt Finisher Supervisor 1', 'Asphalt Plant Supervisor 1', 'Asphalt Worker', 'Assessment Clerk', 'Assessor', 'Assessor-Recorder Office Spec', 'Assistant Chief Attorney 1', 'Assistant Chief Attorney 2', 'Assistant Const Inspector', 'Assistant Cook', 'Assistant Counselor', 'Assistant Deputy Chief 2', 'Assistant Director, Probate', 'Assistant Health Educator', 'Assistant Industrial Hygienist', 'Assistant Inspector', 'Assistant Inspector 2', 'Assistant Inspector 3', 'Assistant Law Librarian', 'Assistant Power House Operator', 'Assistant Purchaser', 'Assistant Recreation Director', 'Assistant Retirement Analyst', 'Assistant Sheriff', 'Assistant Storekeeper', 'Assoc Engineer', 'Assoc Musm Cnsrvt, AAM', 'Associate Museum Registrar', 'Asst Chf Dist Atty's Invstgtor', 'Asst Chf Prob Ofc, Juv Prob', 'Asst Chf Victim/Wit Invstgtor', 'Asst Chf of Dept (Fire Dept)', 'Asst Chf, Bur Clm Invest&Admin', 'Asst Clk, Board of Supervisors', 'Asst Dir Clinical Svcs 2', 'Asst Dir of Clinical Svcs 1', 'Asst Dir, Log Cabin Rnch', 'Asst Director, Juvenile Hall', 'Asst Electronic Main Tech', 'Asst Engr', 'Asst Forensic Toxicologist 1', 'Asst General Services Manager', 'Asst Materials Coordinator', 'Asst Med Examiner', 'Asst Superintendent Rec', 'Asst.Dep.Dir., Port', 'Attorney (Civil/Criminal)', 'Attorney, Tax Collector', 'Audiologist', 'Audiometrist', 'Auditor I', 'Auditor II', 'Auditor III', 'Auto Body & Fender Wrk Sprv 1', 'Auto Body&Fender Wrk Asst Sprv', 'Auto Machinist Asst Sprv', 'Auto Svc Wrk Asst Sprv', 'Automotive Body & Fender Wrk', 'Automotive Machinist', 'Automotive Machinist Sprv 1', 'Automotive Mechanic', 'Automotive Mechanic Asst Sprv', 'Automotive Mechanic Sprv 1', 'Automotive Service Worker', 'Automotive Trnst Shop Sprv 1', 'BACTERIOLOGICAL LABORATORY ASSISTANT', 'BAKER', 'BARBER', 'BATTALION CHIEF, (FIRE DEPARTMENT)', 'BEAUTICIAN', 'BENEFITS ANALYST', 'BENEFITS SUPERVISOR', 'BENEFITS TECHNICIAN', 'BIOLOGIST I/II', 'BIOLOGIST III', 'BOARD COMMISSION MEMBER, $200 PER MEETING', 'BOARD SECRETARY - MUNICIPAL TRANSPORTATION AGENC', 'BOARD/COMMISSION MEMBER, GROUP II', 'BOARD/COMMISSION MEMBER, GROUP III', 'BOARD/COMMISSION MEMBER, GROUP V', 'BOARD/COMMISSION SECRETARY III', 'BOOK REPAIRER', 'BRAILLIST', 'BRICKLAYER', 'BUILDING AND GROUNDS PATROL OFFICER', 'BUILDING INSPECTOR', 'BUILDING PLANS ENGINEER', 'BUILDING SERVICES TECHNICIAN', 'BUILDINGS AND GROUNDS MAINTENANCE SUPERINTENDENT', 'BUILDINGS AND GROUNDS MAINTENANCE SUPERVISOR', 'Baker', 'Barber', 'Battalion Chief, Fire Suppress', 'Battlion Chief, Fire Suppressi', 'Bd/Comm Secretary 3', 'BdComm Mbr, Grp2,M=$25/Mtg', 'BdComm Mbr, Grp3,M=$50/Mtg', 'BdComm Mbr, Grp5,M$100/Mo', 'Beautician', 'Benefits Analyst', 'Benefits Supervisor', 'Benefits Technician', 'Biologist', 'Biologist I/II', 'Biologist III', 'Bldg & Grounds Maint Sprv', 'Bldg & Grounds Patrol Officer', 'Bldgs & Grounds Maint Supt', 'Board Scty, MTA', 'Book Repairer', 'Braillist', 'Brd Comm Mbr, M=$200/Mtg', 'Bricklayer', 'Building Inspector', 'Building Plans Engineer', 'Building Services Technician', 'CABLE SPLICER', 'CAMP ASSISTANT', 'CAPTAIN III (POLICE DEPARTMENT)', 'CAPTAIN, BUREAU OF FIRE PREVENTION AND PUBLIC SAFE', 'CAPTAIN, EMERGENCYCY MEDICAL SERVICES', 'CAPTAIN, FIRE SUPPRESSION', 'CAR AND AUTO PAINTER', 'CARPENTER', 'CARPENTER SUPERVISOR I', 'CARPENTER SUPERVISOR II', 'CASHIER I', 'CASHIER II', 'CASHIER III', 'CEMENT FINISHER SUPERVISOR I', 'CEMENT FINISHER SUPERVISOR II', 'CEMENT MASON', 'CENTRAL PROCESSING AND DISTRIBUTION TECHNICIAN', 'CHEF', 'CHEMIST I/II', 'CHEMIST III', 'CHIEF ADULT PROBATION OFFICER', 'CHIEF ATTORNEY I (CIVIL & CRIMINAL)', 'CHIEF BUILDING INSPECTOR', 'CHIEF CLERK', 'CHIEF DEPUTY ADULT PROBATION OFFICER', 'CHIEF DEPUTY SHERIFF', 'CHIEF DIETITIAN', 'CHIEF DISTRICT ATTORNEY'S INVESTIGATOR', 'CHIEF ELECTRICAL INSPECTOR', 'CHIEF FIRE ALARM DISPATCHER', 'CHIEF HOUSING INSPECTOR', 'CHIEF MICROBIOLOGIST', 'CHIEF NURSERY SPECIALIST', 'CHIEF OF DEPARTMENT, (FIRE DEPARTMENT)', 'CHIEF OF POLICE', 'CHIEF PAYROLL AND PERSONNEL CLERK', 'CHIEF PLUMBING INSPECTOR', 'CHIEF PREPARATOR', 'CHIEF PROBATION OFFICER, JUVENILE COURT', 'CHIEF STATIONARY ENGINEER', 'CHIEF STATIONARY ENGINEER, SEWAGE PLANT', 'CHIEF STATIONARY ENGINEER, WATER TREATMENT PLANT', 'CHIEF SURVEYOR', 'CHIEF TELEPHONE OPERATOR', 'CHIEF VICTIM/WITNESS INVESTIGATOR', 'CHIEF WATER SERVICE INSPECTOR', 'CHILD CARE SPECIALIST', 'CHILD SUPPORT OFFICER II', 'CHILD SUPPORT OFFICER III', 'CITIZENS COMPLAINT OFFICER', 'CITY ATTORNEY', 'CITY PLANNING GRAPHICS SUPERVISOR', 'CITY PLANNING INTERN', 'CITY SHOPS ASSISTANT SUPERINTENDENT', 'CIVIL ENGINEERING ASSISTANT', 'CIVIL ENGINEERING ASSOCIATE I', 'CLAIMS ADJUSTER', 'CLAIMS INVESTIGATOR', 'CLAIMS INVESTIGATOR CITY ATTORNEYS OFFICE', 'CLAIMS PROCESS CLERK', 'CLERK', 'CLERK TYPIST', 'CLINICAL NURSE SPECIALIST', 'CLINICAL PHARMACIST', 'CLINICAL PSYCHOLOGIST', 'COLLECTIONS OFFICER', 'COMMANDER III, (POLICE DEPARTMENT)', 'COMMERCIAL DIVISION ASSISTANT SUPERVISOR', 'COMMISSIONER', 'COMMUNICATION LINE SUPERVISOR I', 'COMMUNICATIONS DIRECTOR', 'COMMUNICATIONS DISPATCHER I', 'COMMUNICATIONS DISPATCHER II', 'COMMUNICATIONS LINE WORKER SUPERVISOR II', 'COMMUNICATIONS SYSTEMS TECHNICIAN', 'COMMUNITY DEVELOPMENT ASSISTANT', 'COMMUNITY DEVELOPMENT SPECIALIST', 'CONFIDENTIAL CHIEF ATTORNEY II (CIVIL & CRIMINAL)', 'CONFIDENTIAL SECRETARY CITY ATTORNEY', 'CONFIDENTIAL SECRETARY TO DISTRICT ATTORNEY', 'CONSERVATORSHIP/CASE MGNT SUPV', 'CONSTRUCTION INSPECTOR', 'CONTRACT COMPLIANCE OFFICER I', 'CONTRACT COMPLIANCE OFFICER II', 'COOK', 'COORDINATOR OF CITIZEN INVOLVEMENT', 'COORDINATOR, HUMAN RIGHTS COMMISSION', 'COUNSELOR II', 'COUNSELOR, FAMILY COURT SERVICE', 'COUNSELOR, JUVENILE HALL', 'COUNSELOR, LOG CABIN RANCH', 'COURT AD RESOLUTION COORDINATOR', 'COURT ADMINISTRATIVE SECRETARY', 'COURT ADMINISTRATOR', 'COURT ALTERNATIVE SPECIALIST I', 'COURT ASSISTANT - SENIOR, SUPERIOR COURT', 'COURT ASSISTANT, SUPERIOR COURT', 'COURT CLERK', 'COURT COMMISSIONER', 'COURT COMPUTER APPLICATIONS ANALYST', 'COURT COMPUTER APPLICATIONS PROGRAMMER', 'COURT COMPUTER FACILITIES COORDINATOR', 'COURT COMPUTER SYSTEMS ENGINEER II', 'COURT COMPUTER SYSTEMS MANAGER', 'COURT EXECUTIVE OFFICER', 'COURT INTERPRETER', 'COURT INTERPRETER SUPERVISOR', 'COURT INVESTIGATOR', 'COURT MANAGER', 'COURT PARALEGAL', 'COURT REPORTER', 'COURT REPORTER COORDINATOR', 'COURT STAFF ATTORNEY II', 'COURT SUPERVISOR I', 'COURT SUPERVISOR II', 'COURT TRAINING SPECIALIST', 'CRAFTS INSTRUCTOR', 'CRANE MECHANIC SUPERVISOR', 'CRIME LABORATORY MANAGER', 'CRIMINAL JUSTICE SPECIALIST II', 'CRIMINALIST I', 'CRIMINALIST II', 'CRIMINALIST III', 'CURATOR I', 'CURATOR II', 'CURATOR III', 'CURATOR IV', 'CUSTODIAL ASSISTANT SUPERVISOR', 'CUSTODIAL SUPERVISOR', 'CUSTODIAN', 'CUSTOMER SERVICE AGENT SUPERVISOR', 'CUSTOMER SERVICE AGENT TRAINEE', 'Cable Splicer', 'Camp Assistant', 'Capt,Fire Prev or Fire Invsgtn', 'Captain 3', 'Captain, (Fire Department)', 'Captain, Emergency Med Svcs', 'Captain, Fire Suppression', 'Car and Auto Painter', 'Carpenter', 'Carpenter Supervisor 1', 'Carpenter Supervisor 2', 'Cashier 1', 'Cashier 2', 'Cashier 3', 'Cement Finisher Supervisor 1', 'Cement Finisher Supervisor 2', 'Cement Mason', 'Central Processing & Dist Tech', 'Cfdntal Chf Atty 2,(Cvl&Crmnl)', 'Cfdntal Sctry to City Atty', 'Cfdntal Sctry to Distric Atty', 'Chef', 'Chemist', 'Chemist I/II', 'Chemist III', 'Chf District Atty Investigator', 'Chf Payroll & Personnel Clerk', 'Chf Prob Ofc, Juv Court', 'Chf Stationary Eng, Sew Plant', 'Chf Statnry Eng,WtrTreat Plnt', 'Chf Victim/Witness Invstgtor', 'Chief Adult Probation Officer', 'Chief Atty1 (Civil & Criminal)', 'Chief Building Inspector', 'Chief Clerk', 'Chief Dep Adlt Prob Of (SFERS)', 'Chief Deputy Adlt Probation Of', 'Chief Deputy Sheriff', 'Chief Dietitian', 'Chief Electrical Inspector', 'Chief Fire Alarm Dispatcher', 'Chief Forensic Toxicologist', 'Chief Housing Inspector', 'Chief Investment Officer', 'Chief Nursery Specialist', 'Chief Plumbing Inspector', 'Chief Preparator', 'Chief Stationary Engineer', 'Chief Surveyor', 'Chief Telephone Operator', 'Chief Water Service Inspector', 'Chief of Police', 'Chief, Fire Department', 'Child Care Specialist', 'Child Support Officer I', 'Child Support Officer II', 'Child Support Officer III', 'Citizens Complaint Officer', 'City Attorney', 'City Planning Intern', 'City Shops Asst Superintendent', 'Civil Case Settlmnt Specialist', 'Claims Adjuster', 'Claims Investigator', 'Claims Investigator, CA', 'Claims Process Clerk', 'Clerk', 'Clerk Typist', 'Clinical Nurse Specialist', 'Clinical Pharmacist', 'Clinical Psychologist', 'Collection Supervisor', 'Collections Officer', 'Comm Pol Svcs Aide Supervisor', 'Commander 3', 'Commercial Div Asst Sprv', 'Commissioner 16.700c, No Pay', 'Commissioner No Benefits', 'Communication Line Sprv1', 'Communications Director', 'Communications Dispatcher 1', 'Communications Dispatcher 2', 'Communications Line Wrk Sprv 2', 'Communications Systems Tech', 'Community Development Asst', 'Community Development Spec', 'Community Police Services Aide', 'Conservatorship/Case Mgt Sprv', 'Construction Inspector', 'Contract Compliance Officer 1', 'Contract Compliance Officer 2', 'Controller', 'Conversion', 'Cook', 'Coord of Citizen Involvement', 'Coord, Human Rights Comm', 'Counselor 2', 'Counselor, Family Court Svc', 'Counselor, Juvenile Hall', 'Counselor, Juvenile Hall SFERS', 'Counselor, Log Cabin Ranch', 'Counselor,Log Cabin Rnch SFERS', 'Court Administrative Secretary', 'Court Administrator', 'Court Alternative Specialist 1', 'Court Asst-Sr, Superior Court', 'Court Asst., Superior Court', 'Court Clerk', 'Court Commissioner', 'Court Computer Sys Manager', 'Court Executive Officer', 'Court Interpreter', 'Court Interpreter Supervisor', 'Court Invstgtor, Superior Crt', 'Court Manager', 'Court Paralegal', 'Court Reporter', 'Court Reporter Coordinator', 'Court Staff Attorney II', 'Court Supervisor I', 'Court Supervisor II', 'Court Training Specialist', 'Crafts Instructor', 'Crane Mechanic Supervisor', 'Crime Lab Mgr', 'Criminal Justice Specialist 2', 'Criminalist I', 'Criminalist II', 'Criminalist III', 'Ct Comp App Analyst', 'Ct Comp App Programmer', 'Ct Comp Facilities Coord', 'Ct Comp Sys Engineer II', 'Curator 1', 'Curator 2', 'Curator 3', 'Curator 4', 'Custodial Assistant Supervisor', 'Custodial Supervisor', 'Custodian', 'Customer Service Agent', 'Customer Service Agent Supv', 'Customer Service Agent Trainee', 'DA Investigative Assist', 'DENTAL AIDE', 'DENTAL HYGIENIST', 'DENTIST', 'DEPARTMENT HEAD I', 'DEPARTMENT HEAD II', 'DEPARTMENT HEAD III', 'DEPARTMENT HEAD IV', 'DEPARTMENT HEAD V', 'DEPUTY CHIEF III (POLICE DEPARTMENT)', 'DEPUTY CHIEF OF DEPARTMENT,(FIRE DEPARTMENT)', 'DEPUTY COURT CLERK I', 'DEPUTY COURT CLERK II', 'DEPUTY COURT CLERK III', 'DEPUTY DIRECTOR I', 'DEPUTY DIRECTOR I - MUNICIPAL TRANSPORTATION AGE', 'DEPUTY DIRECTOR II', 'DEPUTY DIRECTOR II - MUNICIPAL TRANSPORTATION AG', 'DEPUTY DIRECTOR III', 'DEPUTY DIRECTOR IV', 'DEPUTY DIRECTOR OF INVESTMENTS', 'DEPUTY DIRECTOR V', 'DEPUTY PROBATION OFFICER', 'DEPUTY SEALER OF WEIGHTS AND MEASURES', 'DEPUTY SHERIFF', 'DIAGNOSTIC IMAGING TECH I', 'DIAGNOSTIC IMAGING TECH II', 'DIAGNOSTIC IMAGING TECH III', 'DIAGNOSTIC IMAGING TECH IV', 'DIETETIC TECHNICIAN', 'DIETITIAN', 'DIRECTOR OF ACTIVITIES, THERAPY AND VOLUNTEER SERV', 'DIRECTOR, EMPLOYEE RELATIONS DIVISION', 'DIRECTOR, FISCAL SERVICES', 'DIRECTOR, HUMAN RESOURCES', 'DIRECTOR, INFORMATION TECHNOLOGY GROUP', 'DIRECTOR, JUVENILE HALL', 'DIRECTOR, PROBATE', 'DIRECTOR, PROBATION SERVICES', 'DISABILITY ACCESS COORDINATOR', 'DISEASE CONTROL INVESTIGATOR', 'DISTRICT ATTORNEY', 'DISTRICT ATTORNEY'S INVESTIGATIVE ASSISTANT', 'DISTRICT ATTORNEY'S INVESTIGATOR', 'DIVISION DIRECTOR ADULT PROBATION', 'DOCUMENT EXAMINER TECHNICIAN', 'Dental Aide', 'Dental Hygienist', 'Dentist', 'Dep Chf of Dept (Fire Dept)', 'Dep Dir I', 'Dep Dir II', 'Dep Dir III', 'Dep Dir IV', 'Dep Dir V', 'Dep Dir for Investments, Ret', 'Dept Head I', 'Dept Head II', 'Dept Head III', 'Dept Head IV', 'Dept Head V', 'Depty Sealer of Weights & Meas', 'Deputy Chief 3', 'Deputy Court Clerk I', 'Deputy Court Clerk II', 'Deputy Court Clerk III', 'Deputy Dir I, MTA', 'Deputy Dir II, MTA', 'Deputy Probation Officer', 'Deputy Probation Officer SFERS', 'Deputy Sheriff', 'Deputy Sheriff (SFERS)', 'Deputy Sheriff 1', 'Diagnostic Imaging Tech I', 'Diagnostic Imaging Tech II', 'Diagnostic Imaging Tech III', 'Diagnostic Imaging Tech IV', 'Dietetic Technician', 'Dietitian', 'Dir Emp Relations Div', 'Dir of Act, Therapy & Vol Svcs', 'Dir, Log Cabin Ranch (SFERS)', 'Director, Fiscal Services', 'Director, Human Resources', 'Director, Info Tech Group', 'Director, Juvenile Hall', 'Director, Probate', 'Director, Probation Services', 'Disability Access Coordinator', 'Disease Control Investigator', 'Dist Atty Investigator (SFERS)', 'District Attorney', 'District Attry's Investigator', 'Div Director, Adult Probation', 'Document Examiner Technician', 'Drug Court Coordinator', 'Duty Officer', 'EEO Programs Specialist', 'EEO Senior Specialist', 'ELECTIONS CLERK', 'ELECTIONS WORKER', 'ELECTRIC MOTOR REPAIR SUPERVISOR I', 'ELECTRIC MOTOR REPAIRER', 'ELECTRICAL ENGINEERING ASSOCIATE I', 'ELECTRICAL INSPECTOR', 'ELECTRICAL LINE HELPER', 'ELECTRICAL LINE WORKER', 'ELECTRICAL TRANSIT MECHANIC SUPERVISOR I', 'ELECTRICAL TRANSIT MECHANIC, ASSISTANT SUPERVISOR', 'ELECTRICAL TRANSIT SHOP SUPERVISOR I', 'ELECTRICAL TRANSIT SYSTEM MECHANIC', 'ELECTRICIAN', 'ELECTRICIAN SUPERVISOR I', 'ELECTRICIAN SUPERVISOR II', 'ELECTROENCEPHALOGRAPH TECHNICIAN I', 'ELECTRONIC INSTRUMENTATION TECHNICIAN,WTR PLTNCN', 'ELECTRONIC MAINTENANCE TECHNICIAN', 'ELECTRONIC MAINTENANCE TECHNICIAN ASSISTANT SUPERV', 'ELEVATOR AND CRANE TECHNICIAN', 'ELIGIBILITY WORKER', 'ELIGIBILITY WORKER SUPERVISOR', 'EMERGENCY MEDICAL SERVICES AGENCY SPECIALIST', 'EMERGENCY PLANNING COORDINATOR', 'EMERGENCY PROTECTIVE ORDERS COMMISSIONER', 'EMPLOYEE ASSISTANCE COUNSELOR', 'EMPLOYEE RELATIONS REPRESENTATIVE', 'EMPLOYMENT & TRAINING SPECIALIST II', 'EMPLOYMENT & TRAINING SPECIALIST IV', 'EMPLOYMENT AND TRAINING SPECIALIST I', 'EMPLOYMENT AND TRAINING SPECIALIST III', 'EMPLOYMENT AND TRAINING SPECIALIST V', 'EMPLOYMENT AND TRAINING SPECIALIST VI', 'EMT/Paramedic/Firefighter', 'ENGINEER', 'ENGINEERING ASSOCIATE II', 'ENVIRONMENT HEALTH TECHNICIAN II', 'ENVIRONMENT SPECIALIST', 'ENVIRONMENTAL ASSISTANT', 'ENVIRONMENTAL HEALTH INSPECTOR', 'ENVIRONMENTAL HEALTH TECHNICIAN I', 'ENVIRONMENTAL SERVICE WORKER', 'EPIDEMIOLOGIST I', 'EPIDEMIOLOGIST II', 'ESTATE INVESTIGATOR', 'EXECUTIVE ASSISTANT TO THE ADMINISTRATOR, S.F.G.H.', 'EXECUTIVE ASSISTANT TO THE GENERAL MANAGER, RETIRE', 'EXECUTIVE CONTRACT EMPLOYEE', 'EXECUTIVE DIRECTOR, SOUTHEAST COMMUNITY FACILITY', 'EXECUTIVE SECRETARY I', 'EXECUTIVE SECRETARY II', 'EXECUTIVE SECRETARY III', 'EXECUTIVE SECRETARY TO THE CONTROLLER', 'Elections Clerk', 'Elections Worker', 'Electr Instrmntn Tech Wtr Poll', 'Electr Maint Tech Asst Sprv', 'Electric Motor Repair Sprv 1', 'Electric Motor Repairer', 'Electrical Inspector', 'Electrical Line Helper', 'Electrical Line Worker', 'Electrical Transit Shop Sprv 1', 'Electrical Transit System Mech', 'Electrical Trnst Mech Sprv 1', 'Electrical Trnst Shop Sprv 1', 'Electrician', 'Electrician Supervisor 1', 'Electrician Supervisor 2', 'Electrician Supervisor II', 'Electrl Trnst Mech, Asst Sprv', 'Electroencephalograph Tech 1', 'Electronic Maintenance Tech', 'Elevator and Crane Technician', 'Eligibility Worker', 'Eligibility Worker Supervisor', 'Emergency Med Svcs Agency Spec', 'Emergency Medical Svcs Chief', 'Emergency Planning Coordinator', 'Emergency Services Assistant', 'Emergency Services Coord I', 'Emergency Services Coord II', 'Emergency Services Coord III', 'Emergency Services Coord IV', 'Emp & Training Spec 2', 'Emp & Training Spec 4', 'Employee Assistance Counselor', 'Employee Relations Representat', 'Employment & Training Spec 1', 'Employment & Training Spec 3', 'Employment & Training Spec 5', 'Employment & Training Spec 6', 'Eng/Arch/Landscape Arch Sr', 'Engineer', 'Engineer/Architect Principal', 'Engineering Assistant', 'Engineering Associate 1', 'Engineering Associate 2', 'Environmental Assistant', 'Environmental Health Inspector', 'Environmental Hlth Tech 1', 'Environmental Hlth Tech 2', 'Environmental Service Worker', 'Environmental Spec', 'Epidemiologist 1', 'Epidemiologist 2', 'Estate Investigator', 'Events & Facilities Specialist', 'Ex Asst to Admin, SFGH', 'Ex Asst to Ex Dir, Retirement', 'Ex Asst to the Controller', 'Ex Dir, SE Com Fac Comm', 'Executive Contract Employee', 'Executive Secretary 1', 'Executive Secretary 2', 'Executive Secretary 3', 'FARE COLLECTIONS RECEIVER', 'FARE INSPECTIONS SUPERVISOR/INVESTIGATOR', 'FARMER', 'FEASIBILITY ANALYST, PORT', 'FIELD SERVICES ASSISTANT SUPERVISOR', 'FINGERPRINT TECHNICIAN I', 'FINGERPRINT TECHNICIAN II', 'FINGERPRINT TECHNICIAN III', 'FIRE ALARM DISPATCHER', 'FIRE FIGHTER PARAMEDIC', 'FIRE PROTECTION ENGINEER', 'FIRE RESCUE PARAMEDIC', 'FIRE SAFETY INSPECTOR II', 'FIREFIGHTER', 'FISCAL SERVICES COORDINATOR', 'FISCAL TECHNICIAN', 'FOOD SERVICE MANAGER ADMINISTRATOR', 'FOOD SERVICE SUPERVISOR', 'FOOD SERVICE WORKER', 'FORENSIC AUTOPSY TECHNICIAN', 'FORENSIC LABORATORY TECHNICIAN', 'FORENSIC TOXICOLOGIST', 'FORESTER', 'FUSION WELDER', 'Fare Collections Receiver', 'Farmer', 'Feasibility Analyst, Port', 'Field Svcs Asst Supv', 'Fingerprint Technician 1', 'Fingerprint Technician 2', 'Fingerprint Technician 3', 'Fire Alarm Dispatcher', 'Fire Protection Engineer', 'Fire Rescue Paramedic', 'Fire Safety Inspector 2', 'Firefighter', 'Fiscal Services Supervisor', 'Fiscal Technician', 'Food Service Mgr Administrator', 'Food Service Supervisor', 'Food Service Worker', 'Forensic Autopsy Technician', 'Forensic Laboratory Technician', 'Forensic Toxicologist', 'Forensic Toxicologist Supervis', 'Forester', 'Fusion Welder', 'GARDENER', 'GENERAL LABORER', 'GENERAL LABORER SUPERVISOR I', 'GENERAL MANAGER-METROPOLITAN TRANSIT AUTHORITY', 'GENERAL UTILITY MECHANIC', 'GLAZIER', 'GLAZIER SUPERVISOR I', 'GOVERNMENT AND PUBLIC AFFAIRS MANAGER', 'GRAPHIC ARTIST', 'Gardener', 'Gen Mgr, Public Trnsp Dept', 'General Laborer', 'General Laborer Supervisor 1', 'General Utility Mechanic', 'Glazier', 'Glazier Supervisor 1', 'Govrnmt/Publ Affairs Mgr', 'Graphic Artist', 'Graphics Supervisor', 'HEAD AIRPORT ELECTRICIAN', 'HEAD ATTORNEY, CIVIL AND CRIMINAL', 'HEAD PARK PATROL OFFICER', 'HEAD PHOTOGRAPHER', 'HEALTH CARE ANALYST', 'HEALTH CARE BILLING CLERK I', 'HEALTH CARE BILLING CLERK II', 'HEALTH EDUCATOR', 'HEALTH PROGRAM COORDINATOR I', 'HEALTH PROGRAM COORDINATOR II', 'HEALTH PROGRAM COORDINATOR III', 'HEALTH PROGRAM PLANNER', 'HEALTH WORKER I', 'HEALTH WORKER II', 'HEALTH WORKER III', 'HEALTH WORKER IV', 'HEATING AND VENTILATING INSPECTOR', 'HEAVY EQUIPMENT OPERATIONS ASSISTANT SUPERVISOR', 'HEAVY EQUIPMENT OPERATIONS SUPERVISOR', 'HH Mechanical Shop Sprv', 'HODCARRIER', 'HOME HEALTH AIDE', 'HOSPITAL ELIGIBILITY WORKER', 'HOSPITAL ELIGIBILITY WORKER SUPERVISOR', 'HOUSEKEEPER/FOOD SERVICE CLEANER', 'HOUSING INSPECTOR', 'HSA Emp & Training Spec II', 'HSA Social Worker', 'HSA Sr Eligibility Worker', 'HUMAN RESOURCES DIRECTOR', 'HUMAN SERVICES TECHNICIAN', 'Head Airport Electrician', 'Head Atty, Civil & Criminal', 'Head Park Patrol Officer', 'Head Photographer', 'Health Care Analyst', 'Health Care Billing Clerk 1', 'Health Care Billing Clerk 2', 'Health Educator', 'Health Program Coordinator 1', 'Health Program Coordinator 2', 'Health Program Coordinator 3', 'Health Program Planner', 'Health Worker 1', 'Health Worker 2', 'Health Worker 3', 'Health Worker 4', 'Heating/Ventilating Inspector', 'Heavy Equip Ops Asst Sprv', 'Heavy Equipment Ops Sprv', 'Hodcarrier', 'Home Health Aide', 'Hospital Elig Wrk Supervisor', 'Hospital Eligibility Worker', 'Hospital Eligiblity Worker', 'Housekeeper/Food Service Clnr', 'Housing Inspector', 'Human Resources Director', 'Human Services Technician', 'ILLUSTRATOR AND ART DESIGNER', 'INCIDENT SUPPORT SPECIALIST', 'INDUSTRIAL HYGIENIST', 'INDUSTRIAL INJURY INVESTIGATOR', 'INFORMATION SERVICES MANAGER', 'INSPECTOR II, (POLICE DEPARTMENT)', 'INSPECTOR III, (POLICE DEPARTMENT)', 'INSPECTOR OF WEIGHTS AND MEASURES', 'INSPECTOR, (POLICE DEPARTMENT)', 'INSPECTOR, BUREAU OF FIRE PREVENTION AND PUBLIC SA', 'INSTITUTION UTILITY WORKER', 'INSTITUTIONAL POLICE LIEUTENANT', 'INSTITUTIONAL POLICE OFFICER', 'INSTITUTIONAL POLICE SERGEANT', 'INVENTORY CLERK', 'INVESTIGATOR, BUREAU OF FIRE INVESTIGATION', 'INVESTIGATOR, OFFICE OF CITIZEN COMPLAINTS', 'INVESTIGATOR, TAX COLLECTOR', 'INVESTIGATOR, TAXI & ACCESS SVCS', 'IS ADMINISTRATOR - SUPERVISOR', 'IS ADMINISTRATOR I', 'IS ADMINISTRATOR II', 'IS ADMINISTRATOR III', 'IS Administrator 1', 'IS Administrator 2', 'IS Administrator 3', 'IS Administrator-Supervisor', 'IS BUSINESS ANALYST', 'IS BUSINESS ANALYST - ASSISTANT', 'IS BUSINESS ANALYST - PRINCIPAL', 'IS BUSINESS ANALYST - SENIOR', 'IS Business Analyst', 'IS Business Analyst-Assistant', 'IS Business Analyst-Principal', 'IS Business Analyst-Senior', 'IS ENGINEER - ASSISTANT', 'IS ENGINEER - JOURNEY', 'IS ENGINEER - PRINCIPAL', 'IS ENGINEER - SENIOR', 'IS Engineer-Assistant', 'IS Engineer-Journey', 'IS Engineer-Principal', 'IS Engineer-Senior', 'IS Manager', 'IS OPERATOR - ANALYST', 'IS OPERATOR - JOURNEY', 'IS OPERATOR - SENIOR', 'IS OPERATOR - SUPERVISOR', 'IS Operator-Analyst', 'IS Operator-Journey', 'IS Operator-Senior', 'IS PROGRAMMER ANALYST', 'IS PROGRAMMER ANALYST - ASSISTANT', 'IS PROGRAMMER ANALYST - PRINCIPAL', 'IS PROGRAMMER ANALYST - SENIOR', 'IS PROJECT DIRECTOR', 'IS Prg Analyst-Principal', 'IS Program Analyst-Assistant', 'IS Programmer Analyst', 'IS Programmer Analyst-Senior', 'IS Project Director', 'IS TECHNICIAN - ASSISTANT', 'IS TECHNICIAN - JOURNEY', 'IS TECHNICIAN - SENIOR', 'IS TECHNICIAN - SUPERVISOR', 'IS TRAINER - ASSISTANT', 'IS TRAINER - JOURNEY', 'IS TRAINER - SENIOR', 'IS Technical-Journey', 'IS Technician Assistant', 'IS Technician-Senior', 'IS Technician-Supervisor', 'IS Trainer-Assistant', 'IS Trainer-Journey', 'IS Trainer-Senior', 'IT Operations Support Admin I', 'IT Operations Support Admin II', 'IT Operations Support Admin IV', 'IT Operations Support Admin V', 'IT Operations Support Admn III', 'Illustrator and Art Designer', 'Incident Support Specialist', 'Industrial Engineer', 'Industrial Hygienist', 'Industrial Injury Investigator', 'Insp, Fire Dept', 'Inspector 2', 'Inspector 3', 'Inspector, (Police Department)', 'Inspector, Weights & Measures', 'Institution Utility Worker', 'Institutional Police Officer', 'Institutional Police Sergeant', 'Instructional Designer', 'Integrated Pest Mgmt Specialst', 'Inventory Clerk', 'Investigator, Tax Collector', 'Investigator,Taxi & AccessSvcs', 'Investigator/Transit Fare Supv', 'Invstgtor Ofc Citizen Cmplnts', 'Invstgtor,Fire Dept', 'JANITORIAL SERVICES ASSISTANT SUPERVISOR', 'JANITORIAL SERVICES SUPERVISOR', 'JUNIOR ADMINISTRATIVE ANALYST', 'JUNIOR CLERK', 'JUNIOR CLERK TYPIST', 'JUNIOR ENGINEER', 'JUNIOR MANAGEMENT ASSISTANT', 'Janitorial Services Supervisor', 'Janitorial Svcs Asst Sprv', 'Junior Administrative Analyst', 'Junior Clerk', 'Junior Clerk Typist', 'Junior Engineer', 'Junior Management Assistant', 'LABORATORY HELPER', 'LABORATORY SERVICES MANAGER', 'LANDSCAPE ARCHITECT', 'LANDSCAPE ARCHITECTURAL ASSOCIATE I', 'LANDSCAPE ARCHITECTURAL ASSOCIATE II', 'LAW LIBRARIAN', 'LEGAL ASSISTANT', 'LEGAL PROCESS CLERK', 'LEGAL RESEARCH ASSISTANT', 'LEGAL SECRETARY I', 'LEGAL SECRETARY II', 'LEGISLATION CLERK', 'LEGISLATIVE ASSISTANT', 'LEGISLATIVE ASSISTANT, CITY ATTORNEY'S OFFICE', 'LEGISLATIVE CALENDAR CLERK', 'LIBRARIAN I', 'LIBRARIAN II', 'LIBRARIAN II - ASIAN ARTS', 'LIBRARIAN III', 'LIBRARY ASSISTANT', 'LIBRARY PAGE', 'LIBRARY TECHNICAL ASSISTANT I', 'LIBRARY TECHNICAL ASSISTANT II', 'LICENSED VOCATIONAL NURSE', 'LIEUTENANT I, (POLICE DEPARTMENT)', 'LIEUTENANT II (POLICE DEPARTMENT)', 'LIEUTENANT III (POLICE DEPARTMENT)', 'LIEUTENANT, BUREAU OF FIRE PREVENTION AND PUBLIC S', 'LIEUTENANT, FIRE DEPARTMENT', 'LIGHTING FIXTURE MAINTENANCE WORKER', 'LINE INSPECTOR', 'LOCKSMITH', 'LOCKSMITH SUPERVISOR I', 'Lab Svcs Mgr', 'Laboratory Technician I', 'Laboratory Technician II', 'Landscape Architect', 'Landscape Architect Assoc 1', 'Landscape Architect Assoc 2', 'Law Librarian', 'Legal Assistant', 'Legal Process Clerk', 'Legal Secretary 1', 'Legal Secretary 2', 'Legislation Clerk', 'Legislative Assistant', 'Legislative Asst City Atty Ofc', 'Legislative Calendar Clerk', 'Legislative Clerk', 'Librarian 1', 'Librarian 2', 'Librarian 2 - Asian Arts', 'Librarian 3', 'Library Assistant', 'Library Page', 'Library Technical Assistant 1', 'Library Technical Assistant 2', 'Licensed Vocational Nurse', 'Lieut,Fire Prev', 'Lieutenant (Police Department)', 'Lieutenant 2', 'Lieutenant 3', 'Lieutenant, Fire Suppression', 'Light Rail Vehicle Equip Eng', 'Lighting Fixture Maint Worker', 'Line Inspector', 'Locksmith', 'Locksmith Supervisor 1', 'MAIL AND REPRODUCTION SERVICE SUPERVISOR', 'MAINTENANCE CONTROLLER', 'MAINTENANCE ESTIMATOR AND SCHEDULER', 'MAINTENANCE MACHINIST', 'MAINTENANCE MACHINIST ASSISTANT SUPERVISOR', 'MAINTENANCE MACHINIST SUPERVISOR I', 'MAINTENANCE MANAGER', 'MAINTENANCE PLANNER', 'MANAGEMENT ASSISTANT', 'MANAGER I', 'MANAGER I - MUNICIPAL TRANSPORTATION AGENCY', 'MANAGER II', 'MANAGER II - MUNICIPAL TRANSPORTATION AGENCY', 'MANAGER III', 'MANAGER III - MUNICIPAL TRANSPORTATION AGENCY', 'MANAGER IV', 'MANAGER IV - MUNICIPAL TRANSPORTATION AGENCY', 'MANAGER V', 'MANAGER V - MUNICIPAL TRANSPORTATION AGENCY', 'MANAGER VI', 'MANAGER VI - MUNICIPAL TRANSPORTATION AGENCY', 'MANAGER VII', 'MANAGER VII - MUNICIPAL TRANSPORTATION AGENCY', 'MANAGER VIII', 'MANAGER VIII - MUNICIPAL TRANSPORTATION AGENCY', 'MANAGER, EMPLOYEE RELATIONS DIV', 'MANAGER, UNIFIED FAMILY COURT SERVICES', 'MARINA ASSISTANT MANAGER', 'MARINE ENGINEER OF FIRE BOATS', 'MARITIME MARKETING REPRESENTATIVE', 'MARKET RESEARCH SPECIALISTS, PORT', 'MARRIAGE, FAMILY & CHILD COUNSELOR (MFCC)', 'MATERIALS AND SUPPLIES SUPERVISOR', 'MATERIALS COORDINATOR', 'MATERIALS TESTING AIDE', 'MATERIALS TESTING TECHNICIAN', 'MAYOR', 'MAYOR'S PROGRAM MANAGER', 'MAYORAL STAFF II', 'MAYORAL STAFF IV', 'MAYORAL STAFF IX', 'MAYORAL STAFF V', 'MAYORAL STAFF VII', 'MAYORAL STAFF X', 'MAYORAL STAFF XI', 'MAYORAL STAFF XII', 'MAYORAL STAFF XIII', 'MAYORAL STAFF XIV', 'MAYORAL STAFF XV', 'MAYORAL STAFF XVI', 'MAYORAL STAFF XVII', 'MECHANICAL SHOP AND EQUIPMENT SUPERINTENDENT', 'MEDIA PRODUCTION SUPERVISOR', 'MEDIA PRODUCTION TECHNICIAN', 'MEDIA PROGRAMMING SPECIALIST', 'MEDIA TRAINING SPECIALIST', 'MEDIA/SECURITY SYSTEMS SPECIALIST', 'MEDIA/SECURITY SYSTEMS SUPERVISOR', 'MEDICAL EVALUATIONS ASSISTANT', 'MEDICAL EXAMINER'S INVESTIGATOR I', 'MEDICAL EXAMINER'S INVESTIGATOR II', 'MEDICAL EXAMINER'S INVESTIGATOR III', 'MEDICAL RECORDS CLERK', 'MEDICAL RECORDS TECHNICIAN', 'MEDICAL RECORDS TECHNICIAN SUPERVISOR', 'MEDICAL SOCIAL WORK SUPERVISOR', 'MEDICAL SOCIAL WORKER', 'MEDICAL STAFF SERVICES DEPARTMENT ANALYST', 'MEDICAL STAFF SERVICES DEPARTMENT SPECIALIST', 'MEDICAL TRANSCRIBER TYPIST', 'MEMBER, BOARD OF SUPERVISORS', 'MENTAL HEALTH HEARING OFFICER', 'MENTAL HEALTH REHABILITATION WORKER', 'MENTAL HEALTH TREATMENT SPECIALIST', 'METAL FABRICATOR', 'METALSMITH', 'METER READER', 'MICROBIOLOGIST', 'MICROPHOTO/IMAGING TECHNICIAN', 'MOBILE EQUIPMENT ASSISTANT SUPERVISOR', 'MOBILE EQUIPMENT SUPERVISOR', 'MORGUE ATTENDANT', 'MUNICIPAL STADIUM GROUNDSKEEPER', 'MUSEUM GUARD', 'MUSEUM PREPARATOR', 'MUSEUM REGISTRAR', 'MUSEUM SECURITY SUPERVISOR', 'Mail & Reproduction Svc Sprv', 'Main Machinist Asst Sprv', 'Maintenance Controller', 'Maintenance Machinist', 'Maintenance Machinist Sprv 1', 'Maintenance Manager', 'Maintenance Planner', 'Maintenance Scheduler', 'Management Assistant', 'Manager I', 'Manager II', 'Manager II, MTA', 'Manager III', 'Manager III, MTA', 'Manager IV', 'Manager IV, MTA', 'Manager V', 'Manager V, MTA', 'Manager VI', 'Manager VI, MTA', 'Manager VII', 'Manager VII, MTA', 'Manager VIII', 'Manager VIII, MTA', 'Manager, Dept Public Health', 'Manager,Employee Relations Div', 'Managing Attorney', 'Marina Assistant', 'Marina Assistant Manager', 'Marina Associate Manager', 'Marine Engineer of Fire Boats', 'Maritime Marketing Repr', 'Market Research Spec, Port', 'Marriage, Family & Child Cnslr', 'Materials Coordinator', 'Materials Testing Aide', 'Materials Testing Technician', 'Materials/Supplies Supervisor', 'Mayor', 'Mayoral Staff II', 'Mayoral Staff IV', 'Mayoral Staff IX', 'Mayoral Staff V', 'Mayoral Staff VII', 'Mayoral Staff X', 'Mayoral Staff XI', 'Mayoral Staff XII', 'Mayoral Staff XIII', 'Mayoral Staff XIV', 'Mayoral Staff XV', 'Mayoral Staff XVI', 'Mayoral Staff XVII', 'Mech Shop & Equip Supt', 'Med Examiner's Investigator I', 'Med Examiner's Investigator II', 'Med Examiner's InvestigatorIII', 'Med Staff Svcs Dept Anl', 'Med Staff Svcs Dept Spc', 'Media Production Specialist', 'Media Production Supv', 'Media Production Tech', 'Media Programming Spec', 'Media Training Specialist', 'Media/Security Sys Spec', 'Media/Security Syst Supv', 'Medical Evaluations Assistant', 'Medical Records Clerk', 'Medical Records Tech Sprv', 'Medical Records Technician', 'Medical Social Work Supervisor', 'Medical Social Worker', 'Medical Transcriber Typist', 'Member, Board of Supervisors', 'Mental Health Hearing Officer', 'Mental Hlth Treatment Spec', 'Metalsmith', 'Meter Reader', 'Mgr Museum Security Services', 'Mgr, Unified Family Court Svcs', 'Microbiologist', 'Microphoto/Imaging Technician', 'Mobile Equipment Supervisor', 'Morgue Attendant', 'Municipal Stadium Groundskpr', 'Museum Guard', 'Museum Preparator', 'Museum Registrar', 'Museum Sec Supv', 'Musm Exhibit Packer & Repairer', 'NURSE MANAGER', 'NURSE MIDWIFE', 'NURSE PRACTITIONER', 'NURSERY SPECIALIST', 'NURSES STAFFING ASSISTANT', 'NURSING ASSISTANT', 'NURSING SUPERVISOR', 'NURSING SUPERVISOR PSYCHIATRIC', 'NUTRITIONIST', 'Not provided', 'Nurse Manager', 'Nurse Midwife', 'Nurse Practitioner', 'Nursery Specialist', 'Nurses Staffing Assistant', 'Nursing Assistant', 'Nursing Supervisor', 'Nursing Supervisor Psychiatric', 'Nutritionist', 'OCCUPATIONAL THERAPIST', 'OFFSET MACHINE OPERATOR', 'OPERATING ENGINEER, UNIVERSAL', 'OPERATING ROOM NURSE', 'ORNAMENTAL IRON WORKER', 'ORNAMENTAL IRON WORKER SUPERVISOR I', 'ORTHOPEDIC TECHNICIAN I', 'ORTHOPEDIC TECHNICIAN II', 'Occupational Therapist', 'Offset Machine Operator', 'Operating Engineer, Universal', 'Operating Room Nurse', 'Ornamental Iron Worker', 'Ornamental Iron Wrk Sprv 1', 'Orthopedic Technician 1', 'Orthopedic Technician 2', 'PAINTER', 'PAINTER SUPERVISOR I', 'PAINTER SUPERVISOR II', 'PARK PATROL OFFICER', 'PARK SECTION SUPERVISOR', 'PARKING CONTROL OFFICER', 'PARKING ENFORCEMENT ADMINISTRATOR', 'PARKING HEARING EXAMINER', 'PARKING METER REPAIRER', 'PARKING METER REPAIRER SUPERVISOR I', 'PARTS STOREKEEPER', 'PATIENT ACCOUNTS ASSISTANT SUPERVISOR', 'PATIENT ACCOUNTS CLERK', 'PATIENT ACCOUNTS MANAGER', 'PATIENT ACCOUNTS SUPERVISOR', 'PATIENT SERVICES FINANCE TECHNICIAN', 'PATTERN MAKER', 'PAYROLL CLERK', 'PAYROLL SUPERVISOR', 'PERFORMANCE ANALYST III - PROJECT MANAGER', 'PERFORMING ARTS CENTER AIDE', 'PERMIT AND CITATION CLERK', 'PERSONAL PROPERTY AUDITOR', 'PERSONNEL ANALYST', 'PERSONNEL CLERK', 'PERSONNEL PAYROLL REPRESENTATIVE', 'PERSONNEL TECHNICIAN', 'PEST CONTROL SPECIALIST', 'PHARMACIST', 'PHARMACY HELPER', 'PHARMACY TECHNICIAN', 'PHOTOGRAPHER', 'PHYSICAL THERAPIST', 'PHYSICAL THERAPIST ASSISTANT', 'PHYSICAL THERAPY AIDE', 'PHYSICIAN ASSISTANT', 'PHYSICIAN SPECIALIST', 'PIANIST', 'PILE WORKER', 'PILEDRIVER ENGINE OPERATOR', 'PILEDRIVER SUPERVISOR I', 'PILOT OF FIRE BOATS', 'PIPE WELDER', 'PLANNER I', 'PLANNER II', 'PLANNER III', 'PLANNER III-ENVIRONMENTAL REVIEW', 'PLANNER IV', 'PLANNER IV-ENVIRONMENTAL REVIEW', 'PLANNER TECHNICIAN', 'PLANNER V', 'PLUMBER', 'PLUMBER SUPERVISOR I', 'PLUMBER SUPERVISOR II', 'PLUMBING INSPECTOR', 'POLICE COMMUNICATIONS SHIFT SUPERVISOR', 'POLICE OFFICER I', 'POLICE OFFICER II', 'POLICE OFFICER III', 'POLICE SERVICES AIDE', 'PORT DIRECTOR', 'PORTER', 'PORTER ASSISTANT SUPERVISOR', 'PORTER SUPERVISOR I', 'POWER GENERATION SUPERVISOR', 'POWER GENERATION TECHNICIAN I', 'POWER GENERATION TECHNICIAN II', 'POWER HOUSE ELECTRICIAN SUPERVISOR I', 'POWER HOUSE OPERATOR', 'POWER PLANT SUPERVISOR I', 'POWERHOUSE ELECTRICIAN SUPERVISOR II', 'PRINCIPAL ACCOUNT CLERK', 'PRINCIPAL ACCOUNTANT', 'PRINCIPAL ADMINISTRATIVE ANALYST', 'PRINCIPAL ADMINISTRATIVE ANAYLST II', 'PRINCIPAL CIVIL ENGINEER', 'PRINCIPAL CLERK', 'PRINCIPAL DISTRICT ATTORNEY'S INVESTIGATOR', 'PRINCIPAL ENVIRONMENTAL HEALTH INSPECTOR', 'PRINCIPAL ENVIRONMENTAL SPECIALIST', 'PRINCIPAL FARE COLLECTIONS RECEIVER', 'PRINCIPAL INVESTIGATOR, TAX COLLECTOR', 'PRINCIPAL MANAGEMENT ANALYST', 'PRINCIPAL MUSEUM PREPARATOR', 'PRINCIPAL PARTS STOREKEEPER', 'PRINCIPAL PAYROLL AND PERSONNEL CLERK', 'PRINCIPAL PERMIT AND CITATION CLERK', 'PRINCIPAL PERSONAL PROPERTY AUDITOR', 'PRINCIPAL PERSONNEL ANALYST', 'PRINCIPAL REAL PROPERTY APPRAISER', 'PRINCIPAL REAL PROPERTY OFFICER', 'PRINCIPAL RECREATION SUPERVISOR', 'PRINCIPAL WATER SERVICES CLERK', 'PROBATE EXAMINER', 'PROGRAM SPECIALIST', 'PROGRAM SPECIALIST SUPERVISOR', 'PROGRAM SUPPORT ANALYST', 'PROJECT MANAGER I', 'PROJECT MANAGER II', 'PROJECT MANAGER III', 'PROJECT MANAGER IV', 'PROTECTIVE SERVICES SUPERVISOR', 'PROTECTIVE SERVICES WORKER', 'PS Aide Health Services', 'PS Aide to Prof', 'PSYCHIATRIC SOCIAL WORKER', 'PSYCHIATRIC TECHNICIAN', 'PUBLIC DEFENDER', 'PUBLIC DEFENDER'S INVESTIGATOR', 'PUBLIC HEALTH NURSE', 'PUBLIC HEALTH TEAM LEADER', 'PUBLIC INFORMATION OFFICER', 'PUBLIC RELATIONS ASSISTANT', 'PUBLIC RELATIONS MANAGER', 'PUBLIC RELATIONS OFFICER', 'PUBLIC SAFETY COMMUNICATIONS DISPATCHER', 'PUBLIC SAFETY COMMUNICATIONS TECHNICIAN', 'PUBLIC SERVICE AIDE-ADMINISTRATIVE', 'PUBLIC SERVICE AIDE-ASSISTANT TO PROFESSIONALS', 'PUBLIC SERVICE AIDE-ASSOCIATE TO PROFESSIONALS', 'PUBLIC SERVICE AIDE-HEALTH SERVICES', 'PUBLIC SERVICE AIDE-SPECIAL PROGRAMS', 'PUBLIC SERVICE TRAINEE', 'PURCHASER', 'Painter', 'Painter Supervisor 1', 'Painter Supervisor 2', 'Park Patrol Officer', 'Park Section Supervisor', 'Parking Control Officer', 'Parking Enforcement Admin', 'Parking Hearing Examiner', 'Parking Meter Repairer', 'Parking Meter Repairer Sprv 1', 'Parts Storekeeper', 'Patient Accounts Asst Sprv', 'Patient Accounts Clerk', 'Patient Accounts Manager', 'Patient Accounts Supervisor', 'Patient Care Assistant', 'Patient Svcs Finance Tech', 'Pattern Maker', 'Payroll Clerk', 'Payroll Supervisor', 'Perf Analyst III Project Mgr', 'Performance Analyst I', 'Performance Analyst II', 'Permit and Citation Clerk', 'Personal Property Auditor', 'Personnel Analyst', 'Personnel Clerk', 'Personnel Technician', 'Personnel Trainee', 'Personnel/Payroll Repres', 'Pharmacist', 'Pharmacy Helper', 'Pharmacy Technician', 'Photographer', 'Physical Therapist', 'Physical Therapist Assistant', 'Physician Assistant', 'Physician Specialist', 'Pianist', 'Pile Worker', 'Piledriver Engine Operator', 'Piledriver Supervisor 1', 'Pilot of Fire Boats', 'Pipe Welder', 'Planner 1', 'Planner 2', 'Planner 3', 'Planner 3-Environmental Review', 'Planner 4', 'Planner 4-Environmental Review', 'Planner 5', 'Planner Technician', 'Plumber', 'Plumber Supervisor 1', 'Plumber Supervisor 2', 'Plumbing Inspector', 'Police Officer', 'Police Officer 2', 'Police Officer 3', 'Police Services Aide', 'Pool Lifeguard', 'Port Director', 'Porter', 'Porter Assistant Supervisor', 'Porter Supervisor 1', 'Power Generation Supervisor', 'Power Generation Technician 1', 'Power Generation Technician 2', 'Power House Operator', 'Power Plant Supervisor 1', 'Pr Administrative Analyst', 'Pr DistAtty Invstgtor,SpecUnit', 'Pr Environmental Hlth Insp', 'Pr Fare Collections Receiver', 'Pr Investigator, Tax Collector', 'Pr Payroll & Personnel Clerk', 'Pr Personal Property Auditor', 'Pr Real Property Appraiser', 'PrDAInvest,SpecUnit (SFERS)', 'Principal Account Clerk', 'Principal Clerk', 'Principal Environ Specialist', 'Principal Mgmt Analyst', 'Principal Museum Preparator', 'Principal Parts Storekeeper', 'Principal Personnel Analyst', 'Principal Real Property Ofc', 'Principal Recreation Sprv', 'Principal Water Services Clerk', 'Prnpl Admin Analyst II', 'Probate Examiner', 'Program Specialist', 'Program Specialist Supervisor', 'Program Support Analyst', 'Project Manager 1', 'Project Manager 2', 'Project Manager 3', 'Project Manager 4', 'Property Manager, Port', 'Protective Services Supervisor', 'Protective Services Worker', 'Prpl Permit and Citation Clerk', 'Psychiatric Social Worker', 'Psychiatric Technician', 'Pub Safety Communication Coord', 'Publ Svc Aide-Asst to Prof', 'Public Defender', 'Public Defender's Investigator', 'Public Health Nurse', 'Public Health Team Leader', 'Public Information Officer', 'Public Relations Assistant', 'Public Relations Mgr', 'Public Relations Officer', 'Public Safety Comm Tech', 'Public SafetyComm Disp', 'Public SafetyComm Supv', 'Public Service Aide-Admin', 'Public Service Aide-Technical', 'Public Service Trainee', 'Public Svc Aide-Public Works', 'Purchaser', 'RADIOLOGIC TECHNOLOGIST SUPERVISOR', 'REAL PROPERTY APPRAISER', 'REAL PROPERTY APPRAISER TRAINEE', 'REAL PROPERTY OFFICER', 'RECREATION COORDINATOR', 'RECREATION DIRECTOR', 'RECREATION LEADER', 'RECREATION SPECIALIST', 'RECREATION SUPERVISOR', 'REGISTERED NURSE', 'REGULATORY SPECIALIST', 'REHABILITATION COUNSELOR', 'REHABILITATION SERVICES COORDINATOR', 'RENT BOARD SUPERVISOR', 'REPRESENTATIVE, COMMISSION ON THE STATUS OF WOMEN', 'REPRESENTATIVE, HUMAN RIGHTS COMMISSION', 'RESEARCH ASSISTANT', 'RESEARCH PSYCHOLOGIST', 'RESPIRATORY CARE PRACTITIONER', 'RETIREMENT ANALYST', 'ROOFER', 'ROOFER SUPERVISOR I', 'Radiologic Tech Sprv', 'Real Estate Devt. Mgr, SFMTA', 'Real Property Appraiser', 'Real Property Manager', 'Recreation Coordinator', 'Recreation Director', 'Recreation Leader', 'Recreation Specialist', 'Recreation Supervisor', 'Registered Nurse', 'Regulatory Specialist', 'Rehabilitation Counselor', 'Rehabilitation Svcs Coord', 'Rent Board Supervisor', 'Rep, Comm Status of Women', 'Rep, Human Rights Comm', 'Research Assistant', 'Research Asst, Superior Court', 'Research Psychologist', 'Respiratory Care Practitioner', 'Roofer', 'Roofer Supervisor 1', 'SAFETY ANALYST', 'SAFETY OFFICER', 'SCHOOL CROSSING GUARD', 'SECRETARY I', 'SECRETARY II', 'SECRETARY TO THE PRESIDING JUDGE', 'SECRETARY, BUILDING INSPECTION COMMISSION', 'SECRETARY, COMMISSION ON THE ENVIRONMENT', 'SECRETARY, HEALTH COMMISSION', 'SECRETARY, HUMAN SERVICES COMMISSION', 'SECRETARY, LIBRARY COMMISSION', 'SECRETARY,JUVENILE PROBATION COMMISSION', 'SECURITY ANALYST', 'SECURITY GUARD', 'SENIOR ACCOUNT CLERK', 'SENIOR ACCOUNTANT', 'SENIOR ADMINISTRATIVE ANALYST', 'SENIOR AIRPORT COMMUNICATIONS DISPATCHER', 'SENIOR ASSESSMENT CLERK', 'SENIOR BOOK REPAIRER', 'SENIOR BUILDING INSPECTOR', 'SENIOR CENTRAL PROCESSING AND DISTRIBUTION TECHNIC', 'SENIOR CLAIMS INVESTIGATOR', 'SENIOR CLAIMS INVESTIGATOR,CITY ATTORNEY'S OFFICE', 'SENIOR CLERK', 'SENIOR CLERK TYPIST', 'SENIOR COLLECTIONS OFFICER', 'SENIOR COMMUNITY DEVELOPMENT SPECIALIST I', 'SENIOR COMMUNITY DEVELOPMENT SPECIALIST II', 'SENIOR CONSTRUCTION INSPECTOR', 'SENIOR COUNSELOR, JUVENILE HALL', 'SENIOR COURT STAFF ATTORNEY', 'SENIOR CUSTOMER SERVICE AGENT', 'SENIOR DATA ENTRY OPERATOR', 'SENIOR DEPUTY SHERIFF', 'SENIOR DISTRICT ATTORNEY'S INVESTIGATOR', 'SENIOR ELECTRICAL INSPECTOR', 'SENIOR ELIGIBILITY WORKER', 'SENIOR EMPLOYEE ASSISTANCE COUNSELOR', 'SENIOR EMPLOYEE RELATIONS REPRESENTATIVE', 'SENIOR ENGINEER', 'SENIOR ENVIRONMENT SPECIALIST', 'SENIOR ENVIRONMENTAL HEALTH INSPECTOR', 'SENIOR ESTATE INVESTIGATOR', 'SENIOR FARE COLLECTIONS RECEIVER', 'SENIOR FISCAL TECHNICIAN', 'SENIOR FOOD SERVICE SUPERVISOR', 'SENIOR FOOD SERVICE WORKER', 'SENIOR GENERAL UTILITY MECHANIC', 'SENIOR HEALTH EDUCATOR', 'SENIOR HEALTH PROGRAM PLANNER', 'SENIOR HOUSING INSPECTOR', 'SENIOR HUMAN RESOURCES ANALYST', 'SENIOR INDUSTRIAL HYGIENIST DEPT OF PUBLIC HEALTH', 'SENIOR INVESTIGATOR, OFFICE OF CITIZEN'S COMPLAINT', 'SENIOR LAUNDRY WORKER', 'SENIOR LEGAL PROCESS CLERK', 'SENIOR LIGHT RAIL VEHICLE EQUIPMENT ENGINEER', 'SENIOR MAINTENANCE CONTROLLER', 'SENIOR MANAGEMENT ASSISTANT', 'SENIOR MARRIAGE, FAMILY & CHILD COUNSELOR (MFCC)', 'SENIOR MATERIALS AND SUPPLIES SUPERVISOR', 'SENIOR MEDICAL SOCIAL WORKER', 'SENIOR MEDICAL TRANSCRIBER TYPIST', 'SENIOR MICROBIOLOGIST', 'SENIOR MICROPHOTO/IMAGING TECHNICIAN', 'SENIOR MORGUE ATTENDANT', 'SENIOR MUSEUM PREPARATOR', 'SENIOR MUSEUM REGISTRAR', 'SENIOR OCCUPATIONAL THERAPIST', 'SENIOR OFFSET MACHINE OPERATOR', 'SENIOR OPERATIONS MANAGER', 'SENIOR PARKING CONTROL OFFICER', 'SENIOR PARTS STOREKEEPER', 'SENIOR PAYROLL AND PERSONNEL CLERK', 'SENIOR PERMIT AND CITATION CLERK', 'SENIOR PERSONAL PROPERTY AUDITOR', 'SENIOR PERSONNEL ANALYST', 'SENIOR PERSONNEL CLERK', 'SENIOR PHARMACY HELPER', 'SENIOR PHYSICAL THERAPIST', 'SENIOR PHYSICIAN SPECIALIST', 'SENIOR PLAN CHECKER', 'SENIOR PLUMBING INSPECTOR', 'SENIOR POLICE COMMUNICATIONS DISPATCHER', 'SENIOR POWER GENERATION TECHNICIAN', 'SENIOR POWER HOUSE OPERATOR', 'SENIOR PROPERTY MANAGER, PORT', 'SENIOR PSYCHIATRIC ORDERLY', 'SENIOR PSYCHIATRIC SOCIAL WORKER', 'SENIOR PUBLIC DEFENDER'S INVESTIGATOR', 'SENIOR PURCHASER', 'SENIOR RADIO TECHNICIAN', 'SENIOR REAL PROPERTY APPRAISER', 'SENIOR REAL PROPERTY OFFICER', 'SENIOR SOCIAL WORKER', 'SENIOR STATIONARY ENGINEER', 'SENIOR STATIONARY ENGINEER, SEWAGE PLANT', 'SENIOR STATIONARY ENGINEER, WATER TREATMENT PLANT', 'SENIOR STOREKEEPER', 'SENIOR STREET INSPECTOR', 'SENIOR SUPERVISING PROBATION OFFICER, JUVENILE POU', 'SENIOR SWIMMING INSTRUCTOR', 'SENIOR SYSTEMS ACCOUNTANT', 'SENIOR TELEPHONE OPERATOR', 'SENIOR TRANSCRIBER TYPIST', 'SENIOR TRANSIT INFORMATION CLERK', 'SENIOR TRANSIT TRAFFIC CHECKER', 'SENIOR UNIT CLERK', 'SENIOR WATER SERVICE INSPECTOR', 'SENIOR WATER SERVICES CLERK', 'SERGEANT I (POLICE DEPARTMENT)', 'SERGEANT II (POLICE DEPARTMENT)', 'SERGEANT III (POLICE DEPARTMENT)', 'SEWAGE TREATMENT PLANT SUPERINTENDENT', 'SEWER MAINTENANCE WORKER', 'SEWER REPAIR SUPERVISOR', 'SEWER SERVICE WORKER', 'SHADE AND DRAPERY WORKER', 'SHEET METAL SUPERVISOR I', 'SHEET METAL WORKER', 'SHEET METAL WORKER SUPERVISOR II', 'SHELTER OFFICE ASSISTANT SUPERVISOR', 'SHELTER OFFICE SUPERVISOR', 'SHELTER SERVICE REPRESENTATIVE', 'SHELTER VETERINARIAN', 'SHERIFF', 'SHERIFF'S CADET', 'SHERIFF'S CAPTAIN', 'SHERIFF'S LIEUTENANT', 'SHERIFF'S PROPERTY KEEPER', 'SHERIFF'S SERGEANT', 'SIGN WORKER', 'SIGNAL AND SYSTEMS ENGINEER', 'SOCIAL WORK SPECIALIST', 'SOCIAL WORK SUPERVISOR', 'SOCIAL WORKER', 'SOFT FLOOR COVERER', 'SOFT FLOOR COVERER SUPERVISOR', 'SPECIAL ASSISTANT III', 'SPECIAL ASSISTANT XIV', 'SPECIAL ASSISTANT XV', 'SPECIAL ASSISTANT XVI', 'SPECIAL ASSISTANT XVIII', 'SPECIAL ASSISTANT XXII', 'SPECIAL EXAMINER', 'SPECIAL NURSE', 'SPECIALIST IN AGING II', 'SPEECH PATHOLOGIST', 'STABLE ATTENDANT', 'STAGE ELECTRICIAN', 'STATION AGENT, MUNICIPAL RAILWAY', 'STATION OFFICER', 'STATIONARY ENGINEER', 'STATIONARY ENGINEER, SEWAGE PLANT', 'STATIONARY ENGINEER, WATER TREATMENT PLANT', 'STATISTICIAN', 'STEAMFITTER', 'STEAMFITTER ASSISTANT SUPERVISOR', 'STOREKEEPER', 'STORES AND EQUIPMENT ASSISTANT SUPERVISOR', 'STREET ENVIRONMENTAL SERVICES OPERATIONS SUPERVI', 'STREET INSPECTION SUPERVISOR', 'STREET INSPECTOR', 'STREET REPAIR SUPERVISOR II', 'STRUCTURAL ENGINEER', 'STUDENT DESIGN TRAINEE 1/ARC-ENG-PLNG', 'STUDENT DESIGN TRAINEE 2/ARC-ENG-PLNG', 'STUDENT DESIGN TRAINEE 3/ARC-ENG-PLNG', 'SUPERINTENDENT OF WATER TREATMENT FACILITIES', 'SUPERIOR COURT JUDGE', 'SUPERVISING ADULT PROBATION OFFICER', 'SUPERVISING AUDITOR', 'SUPERVISING BIOLOGIST', 'SUPERVISING BUILDING AND GROUNDS PATROL OFFICER', 'SUPERVISING CHEMIST', 'SUPERVISING CLINICAL PSYCHOLOGIST', 'SUPERVISING COURT ADMINISTRATIVE SECRETARY', 'SUPERVISING ELECTRONIC MAINTENANCE TECHNICIAN', 'SUPERVISING PARTS STOREKEEPER', 'SUPERVISING PHARMACIST', 'SUPERVISING PHYSICIAN SPECIALIST', 'SUPERVISING PROBATION OFFICER, JUVENILE COURT', 'SUPERVISING PURCHASER', 'SUPERVISING WASTEWATER CONTROL INSPECTOR', 'SUPERVISING WELFARE FRAUD INVESTIGATOR', 'SUPERVISOR, TRAFFIC AND STREET SIGNS', 'SUPPLY ROOM ATTENDENT', 'SURGICAL PROCEDURES TECHNICIAN', 'SURVEY ASSISTANT II', 'SURVEY ASSISTNAT I', 'SURVEY ASSOCIATE', 'SWIMMING INSTRUCTOR/POOL LIFEGUARD', 'SWITCH REPAIRER', 'Safety Analyst', 'Safety Officer', 'School Crossing Guard', 'Sctry, Bldg Inspection Comm', 'Sctry, Human Svcs. Commission', 'Sctry, Juv Probation Comm', 'Secretary 1', 'Secretary 2', 'Secretary, Comm on the Environ', 'Secretary, Health Commission', 'Secretary, Library Commission', 'Security Analyst', 'Security Guard', 'Sen Hospital Eligibility Wrkr', 'Senior Account Clerk', 'Senior Administrative Analyst', 'Senior Assessment Clerk', 'Senior Benefits Analyst', 'Senior Book Repairer', 'Senior Building Inspector', 'Senior Claims Investigator', 'Senior Clerk', 'Senior Clerk Typist', 'Senior Collections Officer', 'Senior Comm Systems Technican', 'Senior Const Inspector', 'Senior Data Entry Operator', 'Senior Deputy Sheriff', 'Senior Electrical Inpsector', 'Senior Eligibility Worker', 'Senior Emp Relations Repres', 'Senior Estate Investigator', 'Senior Fiscal Technician', 'Senior Food Service Supervisor', 'Senior Food Service Worker', 'Senior Health Educator', 'Senior Health Program Planner', 'Senior Housing Inspector', 'Senior Industrial Hygienist', 'Senior Laundry Worker', 'Senior Legal Process Clerk', 'Senior Maintenance Controller', 'Senior Management Assistant', 'Senior Medical Social Worker', 'Senior Microbiologist', 'Senior Morgue Attendant', 'Senior Museum Preparator', 'Senior Museum Registrar', 'Senior Occupational Therapist', 'Senior Offset Machine Operator', 'Senior Parking Control Officer', 'Senior Parts Storekeeper', 'Senior Personnel Analyst', 'Senior Personnel Clerk', 'Senior Pharmacy Helper', 'Senior Physical Therapist', 'Senior Physician Specialist', 'Senior Plan Checker', 'Senior Plumbing Inspector', 'Senior Power House Operator', 'Senior Property Manager, Port', 'Senior Psychiatric Orderly', 'Senior Purchaser', 'Senior Real Property Appraiser', 'Senior Real Property Officer', 'Senior Social Worker', 'Senior Stationary Engineer', 'Senior Storekeeper', 'Senior Street Inspector', 'Senior Telephone Operator', 'Senior Transcriber Typist', 'Senior Transit Traffic Checker', 'Senior Unit Clerk', 'Senior Water Service Inspector', 'Senior Water Services Clerk', 'Sergeant 2', 'Sergeant 3', 'Sergeant, (Police Department)', 'Sewage Treatment Plant Supt', 'Sewer Maintenance Worker', 'Sewer Repair Supervisor', 'Sewer Service Worker', 'Shade and Drapery Worker', 'Sheet Metal Supervisor 1', 'Sheet Metal Worker', 'Sheet Metal Wrk Supervisor 2', 'Shelter Office Asst Supv', 'Shelter Officer Supervisor', 'Shelter Service Rep', 'Shelter Veterinarian', 'Sheriff', 'Sheriff (SFERS)', 'Sheriff's Cadet', 'Sheriff's Captain', 'Sheriff's Lieutenant', 'Sheriff's Property Keeper', 'Sheriff's Sergeant', 'Sign Worker', 'Signal and Systems Engineer', 'Snr Permit and Citation Clerk', 'Social Work Specialist', 'Social Work Supervisor', 'Social Worker', 'Soft Floor Coverer', 'Soft Floor Coverer Supvr I', 'Special Assistant 10', 'Special Assistant 11', 'Special Assistant 13', 'Special Assistant 14', 'Special Assistant 15', 'Special Assistant 16', 'Special Assistant 18', 'Special Assistant 19', 'Special Assistant 21', 'Special Assistant 22', 'Special Assistant 3', 'Special Assistant 8', 'Special Examiner', 'Special Nurse', 'Specialist in Aging 2', 'Speech Pathologist', 'Sprv Adult Prob Ofc (SFERS)', 'Sprv Adult Probation Ofc', 'Sprv Clincal Psychologist', 'Sprv Electronic Main Tech', 'Sprv Prob Ofc, Juv Court', 'Sprv Wastewater Cont Inspector', 'Sprv, Traffic & Street Signs', 'Sr Airport Communications Disp', 'Sr Cent Proc & Dist Tech', 'Sr Cnselor, Juv Hall (SFERS)', 'Sr Community Dev Spec 2', 'Sr Counselor, Juvenile Hall', 'Sr Court Staff Attorney', 'Sr District Atty Investigator', 'Sr Employee Asst Counselor', 'Sr Environmental Hlth Insp', 'Sr Fare Collections Receiver', 'Sr General Utility Mechanic', 'Sr Human Resources Analyst', 'Sr Investigator, OCC', 'Sr Light Rail Veh Equip Eng', 'Sr Marriage, Fam & Cld Cnslr', 'Sr Materials & Supplies Sprv', 'Sr Medical Transcriber Typist', 'Sr Opers Mgr', 'Sr Payroll & Personnel Clerk', 'Sr Personal Property Auditor', 'Sr Power Generation Tech', 'Sr Psychiatric Social Worker', 'Sr Public Defenders Invstgtor', 'Sr Sprv Prob Ofc, Juv Prob', 'Sr Statnry Eng, Wtr Treat Plnt', 'Sr Transit Information Clerk', 'Sr. Community Devl Spc 1', 'Sr. Environmental Spec', 'Sr. Microphoto/Imaging Tech.', 'Sr. Stationary Eng, Sew Plant', 'SrClaimsInvstgtor,Cty Atty Ofc', 'Stable Attendant', 'Stage Electrician', 'Station Agent, Muni Railway', 'Stationary Eng, Sewage Plant', 'Stationary Engineer', 'Statistician', 'Statnry Eng Water Treat Plant', 'StdntDsgn Train2/Arch/Eng/Plng', 'StdntDsgnTrain1, Arch/Eng/Plng', 'StdntDsgnTrain3, Arch/Eng/Plng', 'Steamfitter', 'Steamfitter Supervisor I', 'Storekeeper', 'Stores & Equip Asst Sprv', 'Street Environ Svcs Oprs Supv', 'Street Inspection Supervisor', 'Street Inspector', 'Street Repair Supervisor 2', 'Structural Engineer', 'Sup Ct Admin Secretary', 'Sup Welfare Fraud Investigator', 'Superior Court Judge', 'Supervising Mediator, UFCS', 'Supervising Parts Storekeeper', 'Supervising Pharmacist', 'Supervising Physician Spec', 'Supervising Purchaser', 'Supply Room Attendant', 'Supt Water Treatment Fac', 'Supv Biologist', 'Supv Bldg Grounds Patrol Ofcr', 'Supv Chemist', 'Surgical Procedures Technician', 'Survey Assistant I', 'Survey Assistant II', 'Survey Associate', 'Swimming Instr/Pool Lifeguard', 'Swimming Instructor', 'Switch Repairer', 'TELECOMMUNICATIONS TECHNICIAN SUPERVISOR', 'TELEPHONE OPERATOR', 'TESTING TECHNICIAN', 'TILE SETTER', 'TRACK MAINTENANCE SUPERINTENDENT,MUNICIPAL RAILWAY', 'TRACK MAINTENANCE WORKER', 'TRACK MAINTENANCE WORKER SUPERVISOR I', 'TRAF SIGNAL ELECTRICIAN SUP I', 'TRAF SIGNAL ELECTRICIAN SUP II', 'TRAFFIC HEARING OFFICER', 'TRAFFIC SIGN MANAGER', 'TRAFFIC SIGNAL ELECTRICIAN', 'TRAFFIC SIGNAL OPERATOR', 'TRAFFIC SURVEY TECHNICIAN', 'TRAIN CONTROLLER', 'TRAINING COORDINATOR', 'TRAINING OFFICER', 'TRAINING TECHNICIAN', 'TRANSCRIBER TYPIST', 'TRANSIT CAR CLEANER', 'TRANSIT CAR CLEANER ASSISTANT SUPERVISOR', 'TRANSIT FARE INSPECTOR', 'TRANSIT INFORMATION CLERK', 'TRANSIT MANAGER I', 'TRANSIT MANAGER II', 'TRANSIT OPERATIONS SPECIALIST', 'TRANSIT OPERATOR', 'TRANSIT PAINT SHOP SUPERVISOR I', 'TRANSIT PLANNER II', 'TRANSIT PLANNER III', 'TRANSIT PLANNER IV', 'TRANSIT POWER LINE SUPERVISOR I', 'TRANSIT POWER LINE WORKER', 'TRANSIT POWER LINE WORKER SUPERVISOR II', 'TRANSIT SUPERVISOR', 'TRANSIT TRAFFIC CHECKER', 'TRANSMISSION AND DISTRIBUTION LINE WORKER', 'TRANSMISSION LINE SUPERVISOR I', 'TRANSPORTATION SAFETY SPECIALIST', 'TREASURER', 'TREE TOPPER', 'TREE TOPPER SUPERVISOR I', 'TREE TOPPER SUPERVISOR II', 'TRIAL DELAY REDUCTION COORDINATOR', 'TRUCK DRIVER', 'Telecommunications Tech Supv', 'Telephone Operator', 'Testing Technician', 'Therapy Aide', 'Tile Setter', 'Track Maint Supt, Muni Railway', 'Track Maint Wrk Sprv 1', 'Track Maintenance Worker', 'Traf Signal Electrician Sup I', 'Traf Signal Electrician Sup II', 'Traffic Sign Manager', 'Traffic Signal Electrician', 'Traffic Signal Operator', 'Traffic Survey Technician', 'Train Controller', 'Training Coordinator', 'Training Officer', 'Training Technician', 'Trans Safety Specialist', 'Trans and Dist Line Worker', 'Transcriber Typist', 'Transit Car Cleaner', 'Transit Car Cleaner Asst Sprv', 'Transit Fare Insp. Sup/Invst.', 'Transit Fare Inspector', 'Transit Information Clerk', 'Transit Manager 1', 'Transit Manager 2', 'Transit Operations Specialist', 'Transit Operator', 'Transit Paint Shop Sprv1', 'Transit Planner 2', 'Transit Planner 4', 'Transit Planner III', 'Transit Power Cable Splicer', 'Transit Power Line Sprv1', 'Transit Power Line Worker', 'Transit Supervisor', 'Transit Traffic Checker', 'Transmission Line Supervisor 1', 'Transportation Planner II', 'Transportation Planner III', 'Transportation Planner IV', 'Treasurer', 'Trnst Power Line Wrk Sprv 2', 'Truck Driver', 'UNDERSHERIFF', 'UNIT CLERK', 'URBAN FORESTRY INSPECTOR', 'UTILITY ANALYST', 'UTILITY PLUMBER', 'UTILITY PLUMBER APPRENTICE', 'UTILITY PLUMBER SUPERVISOR I', 'UTILITY PLUMBER SUPERVISOR II', 'UTILITY SPECIALIST', 'Undersheriff', 'Undersheriff (SFERS)', 'Unit Clerk', 'Urban Forestry Inspector', 'Utility Analyst', 'Utility Plumber', 'Utility Plumber Apprentice', 'Utility Plumber Supervisor 1', 'Utility Plumber Supervisor 2', 'Utility Specialist', 'VENDOR', 'VETERNIARY LABORATORY TECHNOLOGIST', 'VICTIM & WITNESS TECHNICIAN', 'VICTIM/WITNESS INVESTIGATOR I', 'VICTIM/WITNESS INVESTIGATOR II', 'VICTIM/WITNESS INVESTIGATOR III', 'VOLUNTEER/OUTREACH COORDINATOR', 'Vet Laboratory Technologist', 'Victim & Witness Technician', 'Victim/Witness Investigator 1', 'Victim/Witness Investigator 2', 'Victim/Witness Investigator 3', 'Volunteer/Outreach Coord', 'WAREHOUSE WORKER', 'WASTEWATER CONTROL INSPECTOR', 'WATER AND POWER MAINTENANCE SUPERVISOR I', 'WATER CONSERVATION ADMINISTRATOR', 'WATER CONSTRUCTION AND MAINTENANCE SUPERINTENDENT', 'WATER METER REPAIRER', 'WATER OPERATIONS ANALYST', 'WATER QUALITY TECHNICIAN I/II', 'WATER QUALITY TECHNICIAN III', 'WATER SERVICE INSPECTOR', 'WATERSHED FORESTER MANAGER', 'WATERSHED KEEPER', 'WATERSHED KEEPER SUPERVISOR', 'WATERSHED WORKER (SEASONAL)', 'WELDER', 'WELFARE FRAUD INVESTIGATOR', 'WHARFINGER I', 'WHARFINGER II', 'WINDOW CLEANER', 'WINDOW CLEANER SUPERVISOR', 'WIRE ROPE CABLE MAINTENANCE MECHANIC', 'WIRE ROPE CABLE MAINTENANCE SUPERVISOR', 'WORKER'S COMPENSATION ADJUSTER', 'WORKER'S COMPENSATION SUPERVISOR I', 'Wastewater Control Inspector', 'Water & Power Maint Sprv 1', 'Water Conservation Admin', 'Water Const&Main Supt', 'Water Meter Repairer', 'Water Meter Shop Supervisor 1', 'Water Operations Analyst', 'Water Quality Tech III', 'Water Quality Technician', 'Water QualityTech I/II', 'Water Service Inspector', 'Watershed Forester', 'Watershed Keeper', 'Watershed Keeper Supervisor', 'Watershed Worker (Seasonal)', 'Welder', 'Welfare Fraud Investigator', 'Wharfinger 1', 'Wharfinger 2', 'Window Cleaner', 'Window Cleaner Supervisor', 'Wire Rope Cable Maint Mechanic', 'Wire Rope Cable Maint Sprv', 'Worker's Comp Supervisor 1', 'Worker's Compensation Adjuster', 'X-RAY LABORATORY AIDE', 'X-Ray Laboratory Aide', 'YOUTH COMMISSION ADVISOR, BOARD OF SUPERVISORS', 'Youth Comm Advisor', 'ZOO CURATOR'], ['ACCOUNT CLERK', 'ACCOUNTANT', 'ACCOUNTANT INTERN', 'ACPO,JuvP, Juv Prob (SFERS)', 'ACUPUNCTURIST', 'ADMINISTRATIVE ANALYST', 'ADMINISTRATIVE ANALYST II', 'ADMINISTRATIVE ANALYST III', 'ADMINISTRATIVE ENGINEER', 'ADMINISTRATIVE SERVICES MANAGER', 'ADMINISTRATOR, SFGH MEDICAL CENTER', 'AFFIRMATIVE ACTION SPECIALIST', 'AGRICULTURAL INSPECTOR', 'AIRPORT ASSISTANT DEPUTY DIRECTOR, BUSINESS ADMINI', 'AIRPORT ASSISTANT DEPUTY DIRECTOR, OPERATIONS', 'AIRPORT COMMUNICATIONS OPERATOR', 'AIRPORT COMMUNICATIONS SUPERVISOR', 'AIRPORT ECONOMIC PLANNER', 'AIRPORT ELECTRICIAN', 'AIRPORT ELECTRICIAN SUPERVISOR', 'AIRPORT EMERGENCY PLANNING COORDINATOR', 'AIRPORT MECHANICAL MAINTENANCE SUPERVISOR', 'AIRPORT NOISE ABATEMENT SPECIALIST', 'AIRPORT OPERATIONS SUPERVISOR', 'AIRPORT POLICE SERVICES AIDE', 'AIRPORT PROPERTY SPECIALIST I', 'AIRPORT SAFETY OFFICER', 'ANESTHETIST', 'ANIMAL CARE ASSISTANT SUPERVISOR', 'ANIMAL CARE ATTENDANT', 'ANIMAL CARE SUPERVISOR', 'ANIMAL CONTROL OFFICER', 'ANIMAL HEALTH TECHNICIAN', 'ANIMAL KEEPER', 'APPRENTICE GARDENER', 'APPRENTICE STATIONARY ENGINEER', 'APPRENTICE STATIONARY ENGINEER, SEWAGE PLANT', 'APPRENTICE STATIONARY ENGINEER,WATER TREATMENT PLN', 'ARCHITECT', 'ARCHITECTURAL ADMINISTRATOR', 'ARCHITECTURAL ASSISTANT  I', 'ARCHITECTURAL ASSISTANT II', 'ARCHITECTURAL ASSOCIATE  I', 'ARCHITECTURAL ASSOCIATE II', 'AREA SUPERVISOR, PARKS, SQUARES AND FACILITIES', 'ARTS PROGRAM ASSISTANT', 'ASPHALT FINISHER', 'ASPHALT FINISHER SUPERVISOR I', 'ASPHALT PLANT SUPERVISOR I', 'ASPHALT WORKER', 'ASR Senior Office Specialist', 'ASR-Office Assistant', 'ASSESSMENT CLERK', 'ASSESSOR', 'ASSISTANT CHIEF ATTORNEY I', 'ASSISTANT CHIEF ATTORNEY II', 'ASSISTANT CHIEF DISTRICT ATTORNEY'S INVESTIGATOR', 'ASSISTANT CHIEF OF DEPARTMENT, (FIRE DEPARTMENT)', 'ASSISTANT CHIEF VICTIM/WITNESS INVESTIGATOR', 'ASSISTANT CLERK, BOARD OF SUPERVISORS', 'ASSISTANT CONSTRUCTION INSPECTOR', 'ASSISTANT COOK', 'ASSISTANT COUNSELOR', 'ASSISTANT COURT REPORTER COORDINATOR', 'ASSISTANT DEPUTY CHIEF II', 'ASSISTANT DEPUTY DIRECTOR, PORT', 'ASSISTANT DIRECTOR OF CLINICAL SERVICES I', 'ASSISTANT DIRECTOR OF CLINICAL SERVICES II', 'ASSISTANT DIRECTOR, JUVENILE HALL', 'ASSISTANT DIRECTOR, LOG CABIN RANCH', 'ASSISTANT ELECTRONIC MAINTENANCE TECHNICIAN', 'ASSISTANT ENGINEER', 'ASSISTANT FORENSIC TOXICOLOGIST I', 'ASSISTANT GENERAL SERVICES MANAGER', 'ASSISTANT HEALTH EDUCATOR', 'ASSISTANT INDUSTRIAL HYGIENIST', 'ASSISTANT INSPECTOR (POLICE DEPARTMENT)', 'ASSISTANT INSPECTOR II (POLICE DEPARTMENT)', 'ASSISTANT INSPECTOR III (POLICE DEPARTMENT)', 'ASSISTANT LAW LIBRARIAN', 'ASSISTANT MATERIALS COORDINATOR', 'ASSISTANT MEDICAL EXAMINER', 'ASSISTANT POWER HOUSE OPERATOR', 'ASSISTANT PURCHASER', 'ASSISTANT RECREATION DIRECTOR', 'ASSISTANT RECREATION SUPERVISOR', 'ASSISTANT RENTAL MANAGER, PORT', 'ASSISTANT RETIREMENT ANALYST', 'ASSISTANT SHERIFF', 'ASSISTANT STOREKEEPER', 'ASSISTANT SUPERINTENDENT RECREATION', 'ASSISTANT TO THE DIRECTOR, PUBLIC AFFAIRS       RS', 'ASSOCIATE AFFIRMATIVE ACTION COORDINATOR', 'ASSOCIATE AUDITOR', 'ASSOCIATE ENGINEER', 'ASSOCIATE HUMAN RESOURCES ANALYST', 'ASSOCIATE MUSEUM CONSERVATOR, ASIAN ART MUSEUM', 'ASSOCIATE MUSEUM REGISTRAR', 'ASSOCIATE PERFORMANCE AUDITOR', 'ASST. CHIEF PROBATION OFFICER-JUVENILE PROBATION', 'ASST. CHIEF, BUREAU OF CLAIMS INVEST. & ADMIN', 'ATTORNEY (CIVIL/CRIMINAL)', 'ATTORNEY FOR THE PUBLIC ADMINISTRATOR', 'ATTORNEY, TAX COLLECTOR', 'AUDIOLOGIST', 'AUDIOMETRIST', 'AUTOMOTIVE BODY AND FENDER WORKER', 'AUTOMOTIVE BODY AND FENDER WORKER SUPERVISOR I', 'AUTOMOTIVE MACHINIST', 'AUTOMOTIVE MACHINIST ASSISTANT SUPERVISOR', 'AUTOMOTIVE MACHINIST SUPERVISOR I', 'AUTOMOTIVE MECHANIC', 'AUTOMOTIVE MECHANIC ASSISTANT SUPERVISOR', 'AUTOMOTIVE MECHANIC SUPERVISOR I', 'AUTOMOTIVE SERVICE WORKER', 'AUTOMOTIVE SERVICE WORKER ASSISTANT SUPERVISOR', 'AUTOMOTIVE TRANSIT SHOP SUPERVISOR I', 'Account Clerk', 'Accountant I', 'Accountant II', 'Accountant III', 'Accountant IV', 'Accountant Intern', 'Acupuncturist', 'Adm, SFGH Medical Center', 'Admin Analyst 3', 'Admin Hearing Examiner', 'Administrative Analyst', 'Administrative Analyst I', 'Administrative Analyst II', 'Administrative Engineer', 'Administrative Hearing Sup', 'Administrative Services Mgr', 'Administrator, DPH', 'Admission Attendant', 'Agricultural Inspector', 'Airport Communications Disp', 'Airport Communications Officer', 'Airport Economic Planner', 'Airport Electrician', 'Airport Electrician Supervisor', 'Airport Emerg Planning Coord', 'Airport Mechanical Maint Sprv', 'Airport Noise Abatement Spec', 'Airport Operations Supervisor', 'Airport Property Specialist 1', 'Airport Safety Officer', 'Airports Communications Sprv', 'Anesthetist', 'Animal Care Asst Supv', 'Animal Care Attendant', 'Animal Care Supervisor', 'Animal Control Officer', 'Animal Control Supervisor', 'Animal Health Technician', 'Animal Keeper', 'Apprentice Cement Mason I', 'Apprentice Gardener', 'Apprentice Stationary Engineer', 'Aprntc Statnry Eng, Sew Plant', 'AprntcStatnry Eng,WtrTreatPlnt', 'Aquatics Facility Asst Supv', 'Aquatics Facility Supervisor', 'Arborist Technician', 'Arborist Technician Supervisor', 'Arborist Technician Supv II', 'Architect', 'Architectural Administrator', 'Architectural Assistant 1', 'Architectural Assistant 2', 'Architectural Associate 1', 'Architectural Associate 2', 'Area Sprv Parks, Squares & Fac', 'Arts Program Assistant', 'Asphalt Finisher', 'Asphalt Finisher Supervisor 1', 'Asphalt Plant Supervisor 1', 'Asphalt Worker', 'Assessment Clerk', 'Assessor', 'Assessor-Recorder Office Spec', 'Assistant Chief Attorney 1', 'Assistant Chief Attorney 2', 'Assistant Const Inspector', 'Assistant Cook', 'Assistant Counselor', 'Assistant Deputy Chief 2', 'Assistant Director, Probate', 'Assistant Health Educator', 'Assistant Industrial Hygienist', 'Assistant Inspector', 'Assistant Inspector 2', 'Assistant Inspector 3', 'Assistant Law Librarian', 'Assistant Power House Operator', 'Assistant Purchaser', 'Assistant Recreation Director', 'Assistant Retirement Analyst', 'Assistant Sheriff', 'Assistant Storekeeper', 'Assoc Engineer', 'Assoc Musm Cnsrvt, AAM', 'Associate Museum Registrar', 'Asst Chf Dist Atty's Invstgtor', 'Asst Chf Prob Ofc, Juv Prob', 'Asst Chf Victim/Wit Invstgtor', 'Asst Chf of Dept (Fire Dept)', 'Asst Chf, Bur Clm Invest&Admin', 'Asst Clk, Board of Supervisors', 'Asst Dir Clinical Svcs 2', 'Asst Dir of Clinical Svcs 1', 'Asst Dir, Log Cabin Rnch', 'Asst Director, Juvenile Hall', 'Asst Electronic Main Tech', 'Asst Engr', 'Asst Forensic Toxicologist 1', 'Asst General Services Manager', 'Asst Materials Coordinator', 'Asst Med Examiner', 'Asst Superintendent Rec', 'Asst.Dep.Dir., Port', 'Attorney (Civil/Criminal)', 'Attorney, Tax Collector', 'Audiologist', 'Audiometrist', 'Auditor I', 'Auditor II', 'Auditor III', 'Auto Body & Fender Wrk Sprv 1', 'Auto Body&Fender Wrk Asst Sprv', 'Auto Machinist Asst Sprv', 'Auto Svc Wrk Asst Sprv', 'Automotive Body & Fender Wrk', 'Automotive Machinist', 'Automotive Machinist Sprv 1', 'Automotive Mechanic', 'Automotive Mechanic Asst Sprv', 'Automotive Mechanic Sprv 1', 'Automotive Service Worker', 'Automotive Trnst Shop Sprv 1', 'BACTERIOLOGICAL LABORATORY ASSISTANT', 'BAKER', 'BARBER', 'BATTALION CHIEF, (FIRE DEPARTMENT)', 'BEAUTICIAN', 'BENEFITS ANALYST', 'BENEFITS SUPERVISOR', 'BENEFITS TECHNICIAN', 'BIOLOGIST I/II', 'BIOLOGIST III', 'BOARD COMMISSION MEMBER, $200 PER MEETING', 'BOARD SECRETARY - MUNICIPAL TRANSPORTATION AGENC', 'BOARD/COMMISSION MEMBER, GROUP II', 'BOARD/COMMISSION MEMBER, GROUP III', 'BOARD/COMMISSION MEMBER, GROUP V', 'BOARD/COMMISSION SECRETARY III', 'BOOK REPAIRER', 'BRAILLIST', 'BRICKLAYER', 'BUILDING AND GROUNDS PATROL OFFICER', 'BUILDING INSPECTOR', 'BUILDING PLANS ENGINEER', 'BUILDING SERVICES TECHNICIAN', 'BUILDINGS AND GROUNDS MAINTENANCE SUPERINTENDENT', 'BUILDINGS AND GROUNDS MAINTENANCE SUPERVISOR', 'Baker', 'Barber', 'Battalion Chief, Fire Suppress', 'Battlion Chief, Fire Suppressi', 'Bd/Comm Secretary 3', 'BdComm Mbr, Grp2,M=$25/Mtg', 'BdComm Mbr, Grp3,M=$50/Mtg', 'BdComm Mbr, Grp5,M$100/Mo', 'Beautician', 'Benefits Analyst', 'Benefits Supervisor', 'Benefits Technician', 'Biologist', 'Biologist I/II', 'Biologist III', 'Bldg & Grounds Maint Sprv', 'Bldg & Grounds Patrol Officer', 'Bldgs & Grounds Maint Supt', 'Board Scty, MTA', 'Book Repairer', 'Braillist', 'Brd Comm Mbr, M=$200/Mtg', 'Bricklayer', 'Building Inspector', 'Building Plans Engineer', 'Building Services Technician', 'CABLE SPLICER', 'CAMP ASSISTANT', 'CAPTAIN III (POLICE DEPARTMENT)', 'CAPTAIN, BUREAU OF FIRE PREVENTION AND PUBLIC SAFE', 'CAPTAIN, EMERGENCYCY MEDICAL SERVICES', 'CAPTAIN, FIRE SUPPRESSION', 'CAR AND AUTO PAINTER', 'CARPENTER', 'CARPENTER SUPERVISOR I', 'CARPENTER SUPERVISOR II', 'CASHIER I', 'CASHIER II', 'CASHIER III', 'CEMENT FINISHER SUPERVISOR I', 'CEMENT FINISHER SUPERVISOR II', 'CEMENT MASON', 'CENTRAL PROCESSING AND DISTRIBUTION TECHNICIAN', 'CHEF', 'CHEMIST I/II', 'CHEMIST III', 'CHIEF ADULT PROBATION OFFICER', 'CHIEF ATTORNEY I (CIVIL & CRIMINAL)', 'CHIEF BUILDING INSPECTOR', 'CHIEF CLERK', 'CHIEF DEPUTY ADULT PROBATION OFFICER', 'CHIEF DEPUTY SHERIFF', 'CHIEF DIETITIAN', 'CHIEF DISTRICT ATTORNEY'S INVESTIGATOR', 'CHIEF ELECTRICAL INSPECTOR', 'CHIEF FIRE ALARM DISPATCHER', 'CHIEF HOUSING INSPECTOR', 'CHIEF MICROBIOLOGIST', 'CHIEF NURSERY SPECIALIST', 'CHIEF OF DEPARTMENT, (FIRE DEPARTMENT)', 'CHIEF OF POLICE', 'CHIEF PAYROLL AND PERSONNEL CLERK', 'CHIEF PLUMBING INSPECTOR', 'CHIEF PREPARATOR', 'CHIEF PROBATION OFFICER, JUVENILE COURT', 'CHIEF STATIONARY ENGINEER', 'CHIEF STATIONARY ENGINEER, SEWAGE PLANT', 'CHIEF STATIONARY ENGINEER, WATER TREATMENT PLANT', 'CHIEF SURVEYOR', 'CHIEF TELEPHONE OPERATOR', 'CHIEF VICTIM/WITNESS INVESTIGATOR', 'CHIEF WATER SERVICE INSPECTOR', 'CHILD CARE SPECIALIST', 'CHILD SUPPORT OFFICER II', 'CHILD SUPPORT OFFICER III', 'CITIZENS COMPLAINT OFFICER', 'CITY ATTORNEY', 'CITY PLANNING GRAPHICS SUPERVISOR', 'CITY PLANNING INTERN', 'CITY SHOPS ASSISTANT SUPERINTENDENT', 'CIVIL ENGINEERING ASSISTANT', 'CIVIL ENGINEERING ASSOCIATE I', 'CLAIMS ADJUSTER', 'CLAIMS INVESTIGATOR', 'CLAIMS INVESTIGATOR CITY ATTORNEYS OFFICE', 'CLAIMS PROCESS CLERK', 'CLERK', 'CLERK TYPIST', 'CLINICAL NURSE SPECIALIST', 'CLINICAL PHARMACIST', 'CLINICAL PSYCHOLOGIST', 'COLLECTIONS OFFICER', 'COMMANDER III, (POLICE DEPARTMENT)', 'COMMERCIAL DIVISION ASSISTANT SUPERVISOR', 'COMMISSIONER', 'COMMUNICATION LINE SUPERVISOR I', 'COMMUNICATIONS DIRECTOR', 'COMMUNICATIONS DISPATCHER I', 'COMMUNICATIONS DISPATCHER II', 'COMMUNICATIONS LINE WORKER SUPERVISOR II', 'COMMUNICATIONS SYSTEMS TECHNICIAN', 'COMMUNITY DEVELOPMENT ASSISTANT', 'COMMUNITY DEVELOPMENT SPECIALIST', 'CONFIDENTIAL CHIEF ATTORNEY II (CIVIL & CRIMINAL)', 'CONFIDENTIAL SECRETARY CITY ATTORNEY', 'CONFIDENTIAL SECRETARY TO DISTRICT ATTORNEY', 'CONSERVATORSHIP/CASE MGNT SUPV', 'CONSTRUCTION INSPECTOR', 'CONTRACT COMPLIANCE OFFICER I', 'CONTRACT COMPLIANCE OFFICER II', 'COOK', 'COORDINATOR OF CITIZEN INVOLVEMENT', 'COORDINATOR, HUMAN RIGHTS COMMISSION', 'COUNSELOR II', 'COUNSELOR, FAMILY COURT SERVICE', 'COUNSELOR, JUVENILE HALL', 'COUNSELOR, LOG CABIN RANCH', 'COURT AD RESOLUTION COORDINATOR', 'COURT ADMINISTRATIVE SECRETARY', 'COURT ADMINISTRATOR', 'COURT ALTERNATIVE SPECIALIST I', 'COURT ASSISTANT - SENIOR, SUPERIOR COURT', 'COURT ASSISTANT, SUPERIOR COURT', 'COURT CLERK', 'COURT COMMISSIONER', 'COURT COMPUTER APPLICATIONS ANALYST', 'COURT COMPUTER APPLICATIONS PROGRAMMER', 'COURT COMPUTER FACILITIES COORDINATOR', 'COURT COMPUTER SYSTEMS ENGINEER II', 'COURT COMPUTER SYSTEMS MANAGER', 'COURT EXECUTIVE OFFICER', 'COURT INTERPRETER', 'COURT INTERPRETER SUPERVISOR', 'COURT INVESTIGATOR', 'COURT MANAGER', 'COURT PARALEGAL', 'COURT REPORTER', 'COURT REPORTER COORDINATOR', 'COURT STAFF ATTORNEY II', 'COURT SUPERVISOR I', 'COURT SUPERVISOR II', 'COURT TRAINING SPECIALIST', 'CRAFTS INSTRUCTOR', 'CRANE MECHANIC SUPERVISOR', 'CRIME LABORATORY MANAGER', 'CRIMINAL JUSTICE SPECIALIST II', 'CRIMINALIST I', 'CRIMINALIST II', 'CRIMINALIST III', 'CURATOR I', 'CURATOR II', 'CURATOR III', 'CURATOR IV', 'CUSTODIAL ASSISTANT SUPERVISOR', 'CUSTODIAL SUPERVISOR', 'CUSTODIAN', 'CUSTOMER SERVICE AGENT SUPERVISOR', 'CUSTOMER SERVICE AGENT TRAINEE', 'Cable Splicer', 'Camp Assistant', 'Capt,Fire Prev or Fire Invsgtn', 'Captain 3', 'Captain, (Fire Department)', 'Captain, Emergency Med Svcs', 'Captain, Fire Suppression', 'Car and Auto Painter', 'Carpenter', 'Carpenter Supervisor 1', 'Carpenter Supervisor 2', 'Cashier 1', 'Cashier 2', 'Cashier 3', 'Cement Finisher Supervisor 1', 'Cement Finisher Supervisor 2', 'Cement Mason', 'Central Processing & Dist Tech', 'Cfdntal Chf Atty 2,(Cvl&Crmnl)', 'Cfdntal Sctry to City Atty', 'Cfdntal Sctry to Distric Atty', 'Chef', 'Chemist', 'Chemist I/II', 'Chemist III', 'Chf District Atty Investigator', 'Chf Payroll & Personnel Clerk', 'Chf Prob Ofc, Juv Court', 'Chf Stationary Eng, Sew Plant', 'Chf Statnry Eng,WtrTreat Plnt', 'Chf Victim/Witness Invstgtor', 'Chief Adult Probation Officer', 'Chief Atty1 (Civil & Criminal)', 'Chief Building Inspector', 'Chief Clerk', 'Chief Dep Adlt Prob Of (SFERS)', 'Chief Deputy Adlt Probation Of', 'Chief Deputy Sheriff', 'Chief Dietitian', 'Chief Electrical Inspector', 'Chief Fire Alarm Dispatcher', 'Chief Forensic Toxicologist', 'Chief Housing Inspector', 'Chief Investment Officer', 'Chief Nursery Specialist', 'Chief Plumbing Inspector', 'Chief Preparator', 'Chief Stationary Engineer', 'Chief Surveyor', 'Chief Telephone Operator', 'Chief Water Service Inspector', 'Chief of Police', 'Chief, Fire Department', 'Child Care Specialist', 'Child Support Officer I', 'Child Support Officer II', 'Child Support Officer III', 'Citizens Complaint Officer', 'City Attorney', 'City Planning Intern', 'City Shops Asst Superintendent', 'Civil Case Settlmnt Specialist', 'Claims Adjuster', 'Claims Investigator', 'Claims Investigator, CA', 'Claims Process Clerk', 'Clerk', 'Clerk Typist', 'Clinical Nurse Specialist', 'Clinical Pharmacist', 'Clinical Psychologist', 'Collection Supervisor', 'Collections Officer', 'Comm Pol Svcs Aide Supervisor', 'Commander 3', 'Commercial Div Asst Sprv', 'Commissioner 16.700c, No Pay', 'Commissioner No Benefits', 'Communication Line Sprv1', 'Communications Director', 'Communications Dispatcher 1', 'Communications Dispatcher 2', 'Communications Line Wrk Sprv 2', 'Communications Systems Tech', 'Community Development Asst', 'Community Development Spec', 'Community Police Services Aide', 'Conservatorship/Case Mgt Sprv', 'Construction Inspector', 'Contract Compliance Officer 1', 'Contract Compliance Officer 2', 'Controller', 'Conversion', 'Cook', 'Coord of Citizen Involvement', 'Coord, Human Rights Comm', 'Counselor 2', 'Counselor, Family Court Svc', 'Counselor, Juvenile Hall', 'Counselor, Juvenile Hall SFERS', 'Counselor, Log Cabin Ranch', 'Counselor,Log Cabin Rnch SFERS', 'Court Administrative Secretary', 'Court Administrator', 'Court Alternative Specialist 1', 'Court Asst-Sr, Superior Court', 'Court Asst., Superior Court', 'Court Clerk', 'Court Commissioner', 'Court Computer Sys Manager', 'Court Executive Officer', 'Court Interpreter', 'Court Interpreter Supervisor', 'Court Invstgtor, Superior Crt', 'Court Manager', 'Court Paralegal', 'Court Reporter', 'Court Reporter Coordinator', 'Court Staff Attorney II', 'Court Supervisor I', 'Court Supervisor II', 'Court Training Specialist', 'Crafts Instructor', 'Crane Mechanic Supervisor', 'Crime Lab Mgr', 'Criminal Justice Specialist 2', 'Criminalist I', 'Criminalist II', 'Criminalist III', 'Ct Comp App Analyst', 'Ct Comp App Programmer', 'Ct Comp Facilities Coord', 'Ct Comp Sys Engineer II', 'Curator 1', 'Curator 2', 'Curator 3', 'Curator 4', 'Custodial Assistant Supervisor', 'Custodial Supervisor', 'Custodian', 'Customer Service Agent', 'Customer Service Agent Supv', 'Customer Service Agent Trainee', 'DA Investigative Assist', 'DENTAL AIDE', 'DENTAL HYGIENIST', 'DENTIST', 'DEPARTMENT HEAD I', 'DEPARTMENT HEAD II', 'DEPARTMENT HEAD III', 'DEPARTMENT HEAD IV', 'DEPARTMENT HEAD V', 'DEPUTY CHIEF III (POLICE DEPARTMENT)', 'DEPUTY CHIEF OF DEPARTMENT,(FIRE DEPARTMENT)', 'DEPUTY COURT CLERK I', 'DEPUTY COURT CLERK II', 'DEPUTY COURT CLERK III', 'DEPUTY DIRECTOR I', 'DEPUTY DIRECTOR I - MUNICIPAL TRANSPORTATION AGE', 'DEPUTY DIRECTOR II', 'DEPUTY DIRECTOR II - MUNICIPAL TRANSPORTATION AG', 'DEPUTY DIRECTOR III', 'DEPUTY DIRECTOR IV', 'DEPUTY DIRECTOR OF INVESTMENTS', 'DEPUTY DIRECTOR V', 'DEPUTY PROBATION OFFICER', 'DEPUTY SEALER OF WEIGHTS AND MEASURES', 'DEPUTY SHERIFF', 'DIAGNOSTIC IMAGING TECH I', 'DIAGNOSTIC IMAGING TECH II', 'DIAGNOSTIC IMAGING TECH III', 'DIAGNOSTIC IMAGING TECH IV', 'DIETETIC TECHNICIAN', 'DIETITIAN', 'DIRECTOR OF ACTIVITIES, THERAPY AND VOLUNTEER SERV', 'DIRECTOR, EMPLOYEE RELATIONS DIVISION', 'DIRECTOR, FISCAL SERVICES', 'DIRECTOR, HUMAN RESOURCES', 'DIRECTOR, INFORMATION TECHNOLOGY GROUP', 'DIRECTOR, JUVENILE HALL', 'DIRECTOR, PROBATE', 'DIRECTOR, PROBATION SERVICES', 'DISABILITY ACCESS COORDINATOR', 'DISEASE CONTROL INVESTIGATOR', 'DISTRICT ATTORNEY', 'DISTRICT ATTORNEY'S INVESTIGATIVE ASSISTANT', 'DISTRICT ATTORNEY'S INVESTIGATOR', 'DIVISION DIRECTOR ADULT PROBATION', 'DOCUMENT EXAMINER TECHNICIAN', 'Dental Aide', 'Dental Hygienist', 'Dentist', 'Dep Chf of Dept (Fire Dept)', 'Dep Dir I', 'Dep Dir II', 'Dep Dir III', 'Dep Dir IV', 'Dep Dir V', 'Dep Dir for Investments, Ret', 'Dept Head I', 'Dept Head II', 'Dept Head III', 'Dept Head IV', 'Dept Head V', 'Depty Sealer of Weights & Meas', 'Deputy Chief 3', 'Deputy Court Clerk I', 'Deputy Court Clerk II', 'Deputy Court Clerk III', 'Deputy Dir I, MTA', 'Deputy Dir II, MTA', 'Deputy Probation Officer', 'Deputy Probation Officer SFERS', 'Deputy Sheriff', 'Deputy Sheriff (SFERS)', 'Deputy Sheriff 1', 'Diagnostic Imaging Tech I', 'Diagnostic Imaging Tech II', 'Diagnostic Imaging Tech III', 'Diagnostic Imaging Tech IV', 'Dietetic Technician', 'Dietitian', 'Dir Emp Relations Div', 'Dir of Act, Therapy & Vol Svcs', 'Dir, Log Cabin Ranch (SFERS)', 'Director, Fiscal Services', 'Director, Human Resources', 'Director, Info Tech Group', 'Director, Juvenile Hall', 'Director, Probate', 'Director, Probation Services', 'Disability Access Coordinator', 'Disease Control Investigator', 'Dist Atty Investigator (SFERS)', 'District Attorney', 'District Attry's Investigator', 'Div Director, Adult Probation', 'Document Examiner Technician', 'Drug Court Coordinator', 'Duty Officer', 'EEO Programs Specialist', 'EEO Senior Specialist', 'ELECTIONS CLERK', 'ELECTIONS WORKER', 'ELECTRIC MOTOR REPAIR SUPERVISOR I', 'ELECTRIC MOTOR REPAIRER', 'ELECTRICAL ENGINEERING ASSOCIATE I', 'ELECTRICAL INSPECTOR', 'ELECTRICAL LINE HELPER', 'ELECTRICAL LINE WORKER', 'ELECTRICAL TRANSIT MECHANIC SUPERVISOR I', 'ELECTRICAL TRANSIT MECHANIC, ASSISTANT SUPERVISOR', 'ELECTRICAL TRANSIT SHOP SUPERVISOR I', 'ELECTRICAL TRANSIT SYSTEM MECHANIC', 'ELECTRICIAN', 'ELECTRICIAN SUPERVISOR I', 'ELECTRICIAN SUPERVISOR II', 'ELECTROENCEPHALOGRAPH TECHNICIAN I', 'ELECTRONIC INSTRUMENTATION TECHNICIAN,WTR PLTNCN', 'ELECTRONIC MAINTENANCE TECHNICIAN', 'ELECTRONIC MAINTENANCE TECHNICIAN ASSISTANT SUPERV', 'ELEVATOR AND CRANE TECHNICIAN', 'ELIGIBILITY WORKER', 'ELIGIBILITY WORKER SUPERVISOR', 'EMERGENCY MEDICAL SERVICES AGENCY SPECIALIST', 'EMERGENCY PLANNING COORDINATOR', 'EMERGENCY PROTECTIVE ORDERS COMMISSIONER', 'EMPLOYEE ASSISTANCE COUNSELOR', 'EMPLOYEE RELATIONS REPRESENTATIVE', 'EMPLOYMENT & TRAINING SPECIALIST II', 'EMPLOYMENT & TRAINING SPECIALIST IV', 'EMPLOYMENT AND TRAINING SPECIALIST I', 'EMPLOYMENT AND TRAINING SPECIALIST III', 'EMPLOYMENT AND TRAINING SPECIALIST V', 'EMPLOYMENT AND TRAINING SPECIALIST VI', 'EMT/Paramedic/Firefighter', 'ENGINEER', 'ENGINEERING ASSOCIATE II', 'ENVIRONMENT HEALTH TECHNICIAN II', 'ENVIRONMENT SPECIALIST', 'ENVIRONMENTAL ASSISTANT', 'ENVIRONMENTAL HEALTH INSPECTOR', 'ENVIRONMENTAL HEALTH TECHNICIAN I', 'ENVIRONMENTAL SERVICE WORKER', 'EPIDEMIOLOGIST I', 'EPIDEMIOLOGIST II', 'ESTATE INVESTIGATOR', 'EXECUTIVE ASSISTANT TO THE ADMINISTRATOR, S.F.G.H.', 'EXECUTIVE ASSISTANT TO THE GENERAL MANAGER, RETIRE', 'EXECUTIVE CONTRACT EMPLOYEE', 'EXECUTIVE DIRECTOR, SOUTHEAST COMMUNITY FACILITY', 'EXECUTIVE SECRETARY I', 'EXECUTIVE SECRETARY II', 'EXECUTIVE SECRETARY III', 'EXECUTIVE SECRETARY TO THE CONTROLLER', 'Elections Clerk', 'Elections Worker', 'Electr Instrmntn Tech Wtr Poll', 'Electr Maint Tech Asst Sprv', 'Electric Motor Repair Sprv 1', 'Electric Motor Repairer', 'Electrical Inspector', 'Electrical Line Helper', 'Electrical Line Worker', 'Electrical Transit Shop Sprv 1', 'Electrical Transit System Mech', 'Electrical Trnst Mech Sprv 1', 'Electrical Trnst Shop Sprv 1', 'Electrician', 'Electrician Supervisor 1', 'Electrician Supervisor 2', 'Electrician Supervisor II', 'Electrl Trnst Mech, Asst Sprv', 'Electroencephalograph Tech 1', 'Electronic Maintenance Tech', 'Elevator and Crane Technician', 'Eligibility Worker', 'Eligibility Worker Supervisor', 'Emergency Med Svcs Agency Spec', 'Emergency Medical Svcs Chief', 'Emergency Planning Coordinator', 'Emergency Services Assistant', 'Emergency Services Coord I', 'Emergency Services Coord II', 'Emergency Services Coord III', 'Emergency Services Coord IV', 'Emp & Training Spec 2', 'Emp & Training Spec 4', 'Employee Assistance Counselor', 'Employee Relations Representat', 'Employment & Training Spec 1', 'Employment & Training Spec 3', 'Employment & Training Spec 5', 'Employment & Training Spec 6', 'Eng/Arch/Landscape Arch Sr', 'Engineer', 'Engineer/Architect Principal', 'Engineering Assistant', 'Engineering Associate 1', 'Engineering Associate 2', 'Environmental Assistant', 'Environmental Health Inspector', 'Environmental Hlth Tech 1', 'Environmental Hlth Tech 2', 'Environmental Service Worker', 'Environmental Spec', 'Epidemiologist 1', 'Epidemiologist 2', 'Estate Investigator', 'Events & Facilities Specialist', 'Ex Asst to Admin, SFGH', 'Ex Asst to Ex Dir, Retirement', 'Ex Asst to the Controller', 'Ex Dir, SE Com Fac Comm', 'Executive Contract Employee', 'Executive Secretary 1', 'Executive Secretary 2', 'Executive Secretary 3', 'FARE COLLECTIONS RECEIVER', 'FARE INSPECTIONS SUPERVISOR/INVESTIGATOR', 'FARMER', 'FEASIBILITY ANALYST, PORT', 'FIELD SERVICES ASSISTANT SUPERVISOR', 'FINGERPRINT TECHNICIAN I', 'FINGERPRINT TECHNICIAN II', 'FINGERPRINT TECHNICIAN III', 'FIRE ALARM DISPATCHER', 'FIRE FIGHTER PARAMEDIC', 'FIRE PROTECTION ENGINEER', 'FIRE RESCUE PARAMEDIC', 'FIRE SAFETY INSPECTOR II', 'FIREFIGHTER', 'FISCAL SERVICES COORDINATOR', 'FISCAL TECHNICIAN', 'FOOD SERVICE MANAGER ADMINISTRATOR', 'FOOD SERVICE SUPERVISOR', 'FOOD SERVICE WORKER', 'FORENSIC AUTOPSY TECHNICIAN', 'FORENSIC LABORATORY TECHNICIAN', 'FORENSIC TOXICOLOGIST', 'FORESTER', 'FUSION WELDER', 'Fare Collections Receiver', 'Farmer', 'Feasibility Analyst, Port', 'Field Svcs Asst Supv', 'Fingerprint Technician 1', 'Fingerprint Technician 2', 'Fingerprint Technician 3', 'Fire Alarm Dispatcher', 'Fire Protection Engineer', 'Fire Rescue Paramedic', 'Fire Safety Inspector 2', 'Firefighter', 'Fiscal Services Supervisor', 'Fiscal Technician', 'Food Service Mgr Administrator', 'Food Service Supervisor', 'Food Service Worker', 'Forensic Autopsy Technician', 'Forensic Laboratory Technician', 'Forensic Toxicologist', 'Forensic Toxicologist Supervis', 'Forester', 'Fusion Welder', 'GARDENER', 'GENERAL LABORER', 'GENERAL LABORER SUPERVISOR I', 'GENERAL MANAGER-METROPOLITAN TRANSIT AUTHORITY', 'GENERAL UTILITY MECHANIC', 'GLAZIER', 'GLAZIER SUPERVISOR I', 'GOVERNMENT AND PUBLIC AFFAIRS MANAGER', 'GRAPHIC ARTIST', 'Gardener', 'Gen Mgr, Public Trnsp Dept', 'General Laborer', 'General Laborer Supervisor 1', 'General Utility Mechanic', 'Glazier', 'Glazier Supervisor 1', 'Govrnmt/Publ Affairs Mgr', 'Graphic Artist', 'Graphics Supervisor', 'HEAD AIRPORT ELECTRICIAN', 'HEAD ATTORNEY, CIVIL AND CRIMINAL', 'HEAD PARK PATROL OFFICER', 'HEAD PHOTOGRAPHER', 'HEALTH CARE ANALYST', 'HEALTH CARE BILLING CLERK I', 'HEALTH CARE BILLING CLERK II', 'HEALTH EDUCATOR', 'HEALTH PROGRAM COORDINATOR I', 'HEALTH PROGRAM COORDINATOR II', 'HEALTH PROGRAM COORDINATOR III', 'HEALTH PROGRAM PLANNER', 'HEALTH WORKER I', 'HEALTH WORKER II', 'HEALTH WORKER III', 'HEALTH WORKER IV', 'HEATING AND VENTILATING INSPECTOR', 'HEAVY EQUIPMENT OPERATIONS ASSISTANT SUPERVISOR', 'HEAVY EQUIPMENT OPERATIONS SUPERVISOR', 'HH Mechanical Shop Sprv', 'HODCARRIER', 'HOME HEALTH AIDE', 'HOSPITAL ELIGIBILITY WORKER', 'HOSPITAL ELIGIBILITY WORKER SUPERVISOR', 'HOUSEKEEPER/FOOD SERVICE CLEANER', 'HOUSING INSPECTOR', 'HSA Emp & Training Spec II', 'HSA Social Worker', 'HSA Sr Eligibility Worker', 'HUMAN RESOURCES DIRECTOR', 'HUMAN SERVICES TECHNICIAN', 'Head Airport Electrician', 'Head Atty, Civil & Criminal', 'Head Park Patrol Officer', 'Head Photographer', 'Health Care Analyst', 'Health Care Billing Clerk 1', 'Health Care Billing Clerk 2', 'Health Educator', 'Health Program Coordinator 1', 'Health Program Coordinator 2', 'Health Program Coordinator 3', 'Health Program Planner', 'Health Worker 1', 'Health Worker 2', 'Health Worker 3', 'Health Worker 4', 'Heating/Ventilating Inspector', 'Heavy Equip Ops Asst Sprv', 'Heavy Equipment Ops Sprv', 'Hodcarrier', 'Home Health Aide', 'Hospital Elig Wrk Supervisor', 'Hospital Eligibility Worker', 'Hospital Eligiblity Worker', 'Housekeeper/Food Service Clnr', 'Housing Inspector', 'Human Resources Director', 'Human Services Technician', 'ILLUSTRATOR AND ART DESIGNER', 'INCIDENT SUPPORT SPECIALIST', 'INDUSTRIAL HYGIENIST', 'INDUSTRIAL INJURY INVESTIGATOR', 'INFORMATION SERVICES MANAGER', 'INSPECTOR II, (POLICE DEPARTMENT)', 'INSPECTOR III, (POLICE DEPARTMENT)', 'INSPECTOR OF WEIGHTS AND MEASURES', 'INSPECTOR, (POLICE DEPARTMENT)', 'INSPECTOR, BUREAU OF FIRE PREVENTION AND PUBLIC SA', 'INSTITUTION UTILITY WORKER', 'INSTITUTIONAL POLICE LIEUTENANT', 'INSTITUTIONAL POLICE OFFICER', 'INSTITUTIONAL POLICE SERGEANT', 'INVENTORY CLERK', 'INVESTIGATOR, BUREAU OF FIRE INVESTIGATION', 'INVESTIGATOR, OFFICE OF CITIZEN COMPLAINTS', 'INVESTIGATOR, TAX COLLECTOR', 'INVESTIGATOR, TAXI & ACCESS SVCS', 'IS ADMINISTRATOR - SUPERVISOR', 'IS ADMINISTRATOR I', 'IS ADMINISTRATOR II', 'IS ADMINISTRATOR III', 'IS Administrator 1', 'IS Administrator 2', 'IS Administrator 3', 'IS Administrator-Supervisor', 'IS BUSINESS ANALYST', 'IS BUSINESS ANALYST - ASSISTANT', 'IS BUSINESS ANALYST - PRINCIPAL', 'IS BUSINESS ANALYST - SENIOR', 'IS Business Analyst', 'IS Business Analyst-Assistant', 'IS Business Analyst-Principal', 'IS Business Analyst-Senior', 'IS ENGINEER - ASSISTANT', 'IS ENGINEER - JOURNEY', 'IS ENGINEER - PRINCIPAL', 'IS ENGINEER - SENIOR', 'IS Engineer-Assistant', 'IS Engineer-Journey', 'IS Engineer-Principal', 'IS Engineer-Senior', 'IS Manager', 'IS OPERATOR - ANALYST', 'IS OPERATOR - JOURNEY', 'IS OPERATOR - SENIOR', 'IS OPERATOR - SUPERVISOR', 'IS Operator-Analyst', 'IS Operator-Journey', 'IS Operator-Senior', 'IS PROGRAMMER ANALYST', 'IS PROGRAMMER ANALYST - ASSISTANT', 'IS PROGRAMMER ANALYST - PRINCIPAL', 'IS PROGRAMMER ANALYST - SENIOR', 'IS PROJECT DIRECTOR', 'IS Prg Analyst-Principal', 'IS Program Analyst-Assistant', 'IS Programmer Analyst', 'IS Programmer Analyst-Senior', 'IS Project Director', 'IS TECHNICIAN - ASSISTANT', 'IS TECHNICIAN - JOURNEY', 'IS TECHNICIAN - SENIOR', 'IS TECHNICIAN - SUPERVISOR', 'IS TRAINER - ASSISTANT', 'IS TRAINER - JOURNEY', 'IS TRAINER - SENIOR', 'IS Technical-Journey', 'IS Technician Assistant', 'IS Technician-Senior', 'IS Technician-Supervisor', 'IS Trainer-Assistant', 'IS Trainer-Journey', 'IS Trainer-Senior', 'IT Operations Support Admin I', 'IT Operations Support Admin II', 'IT Operations Support Admin IV', 'IT Operations Support Admin V', 'IT Operations Support Admn III', 'Illustrator and Art Designer', 'Incident Support Specialist', 'Industrial Engineer', 'Industrial Hygienist', 'Industrial Injury Investigator', 'Insp, Fire Dept', 'Inspector 2', 'Inspector 3', 'Inspector, (Police Department)', 'Inspector, Weights & Measures', 'Institution Utility Worker', 'Institutional Police Officer', 'Institutional Police Sergeant', 'Instructional Designer', 'Integrated Pest Mgmt Specialst', 'Inventory Clerk', 'Investigator, Tax Collector', 'Investigator,Taxi & AccessSvcs', 'Investigator/Transit Fare Supv', 'Invstgtor Ofc Citizen Cmplnts', 'Invstgtor,Fire Dept', 'JANITORIAL SERVICES ASSISTANT SUPERVISOR', 'JANITORIAL SERVICES SUPERVISOR', 'JUNIOR ADMINISTRATIVE ANALYST', 'JUNIOR CLERK', 'JUNIOR CLERK TYPIST', 'JUNIOR ENGINEER', 'JUNIOR MANAGEMENT ASSISTANT', 'Janitorial Services Supervisor', 'Janitorial Svcs Asst Sprv', 'Junior Administrative Analyst', 'Junior Clerk', 'Junior Clerk Typist', 'Junior Engineer', 'Junior Management Assistant', 'LABORATORY HELPER', 'LABORATORY SERVICES MANAGER', 'LANDSCAPE ARCHITECT', 'LANDSCAPE ARCHITECTURAL ASSOCIATE I', 'LANDSCAPE ARCHITECTURAL ASSOCIATE II', 'LAW LIBRARIAN', 'LEGAL ASSISTANT', 'LEGAL PROCESS CLERK', 'LEGAL RESEARCH ASSISTANT', 'LEGAL SECRETARY I', 'LEGAL SECRETARY II', 'LEGISLATION CLERK', 'LEGISLATIVE ASSISTANT', 'LEGISLATIVE ASSISTANT, CITY ATTORNEY'S OFFICE', 'LEGISLATIVE CALENDAR CLERK', 'LIBRARIAN I', 'LIBRARIAN II', 'LIBRARIAN II - ASIAN ARTS', 'LIBRARIAN III', 'LIBRARY ASSISTANT', 'LIBRARY PAGE', 'LIBRARY TECHNICAL ASSISTANT I', 'LIBRARY TECHNICAL ASSISTANT II', 'LICENSED VOCATIONAL NURSE', 'LIEUTENANT I, (POLICE DEPARTMENT)', 'LIEUTENANT II (POLICE DEPARTMENT)', 'LIEUTENANT III (POLICE DEPARTMENT)', 'LIEUTENANT, BUREAU OF FIRE PREVENTION AND PUBLIC S', 'LIEUTENANT, FIRE DEPARTMENT', 'LIGHTING FIXTURE MAINTENANCE WORKER', 'LINE INSPECTOR', 'LOCKSMITH', 'LOCKSMITH SUPERVISOR I', 'Lab Svcs Mgr', 'Laboratory Technician I', 'Laboratory Technician II', 'Landscape Architect', 'Landscape Architect Assoc 1', 'Landscape Architect Assoc 2', 'Law Librarian', 'Legal Assistant', 'Legal Process Clerk', 'Legal Secretary 1', 'Legal Secretary 2', 'Legislation Clerk', 'Legislative Assistant', 'Legislative Asst City Atty Ofc', 'Legislative Calendar Clerk', 'Legislative Clerk', 'Librarian 1', 'Librarian 2', 'Librarian 2 - Asian Arts', 'Librarian 3', 'Library Assistant', 'Library Page', 'Library Technical Assistant 1', 'Library Technical Assistant 2', 'Licensed Vocational Nurse', 'Lieut,Fire Prev', 'Lieutenant (Police Department)', 'Lieutenant 2', 'Lieutenant 3', 'Lieutenant, Fire Suppression', 'Light Rail Vehicle Equip Eng', 'Lighting Fixture Maint Worker', 'Line Inspector', 'Locksmith', 'Locksmith Supervisor 1', 'MAIL AND REPRODUCTION SERVICE SUPERVISOR', 'MAINTENANCE CONTROLLER', 'MAINTENANCE ESTIMATOR AND SCHEDULER', 'MAINTENANCE MACHINIST', 'MAINTENANCE MACHINIST ASSISTANT SUPERVISOR', 'MAINTENANCE MACHINIST SUPERVISOR I', 'MAINTENANCE MANAGER', 'MAINTENANCE PLANNER', 'MANAGEMENT ASSISTANT', 'MANAGER I', 'MANAGER I - MUNICIPAL TRANSPORTATION AGENCY', 'MANAGER II', 'MANAGER II - MUNICIPAL TRANSPORTATION AGENCY', 'MANAGER III', 'MANAGER III - MUNICIPAL TRANSPORTATION AGENCY', 'MANAGER IV', 'MANAGER IV - MUNICIPAL TRANSPORTATION AGENCY', 'MANAGER V', 'MANAGER V - MUNICIPAL TRANSPORTATION AGENCY', 'MANAGER VI', 'MANAGER VI - MUNICIPAL TRANSPORTATION AGENCY', 'MANAGER VII', 'MANAGER VII - MUNICIPAL TRANSPORTATION AGENCY', 'MANAGER VIII', 'MANAGER VIII - MUNICIPAL TRANSPORTATION AGENCY', 'MANAGER, EMPLOYEE RELATIONS DIV', 'MANAGER, UNIFIED FAMILY COURT SERVICES', 'MARINA ASSISTANT MANAGER', 'MARINE ENGINEER OF FIRE BOATS', 'MARITIME MARKETING REPRESENTATIVE', 'MARKET RESEARCH SPECIALISTS, PORT', 'MARRIAGE, FAMILY & CHILD COUNSELOR (MFCC)', 'MATERIALS AND SUPPLIES SUPERVISOR', 'MATERIALS COORDINATOR', 'MATERIALS TESTING AIDE', 'MATERIALS TESTING TECHNICIAN', 'MAYOR', 'MAYOR'S PROGRAM MANAGER', 'MAYORAL STAFF II', 'MAYORAL STAFF IV', 'MAYORAL STAFF IX', 'MAYORAL STAFF V', 'MAYORAL STAFF VII', 'MAYORAL STAFF X', 'MAYORAL STAFF XI', 'MAYORAL STAFF XII', 'MAYORAL STAFF XIII', 'MAYORAL STAFF XIV', 'MAYORAL STAFF XV', 'MAYORAL STAFF XVI', 'MAYORAL STAFF XVII', 'MECHANICAL SHOP AND EQUIPMENT SUPERINTENDENT', 'MEDIA PRODUCTION SUPERVISOR', 'MEDIA PRODUCTION TECHNICIAN', 'MEDIA PROGRAMMING SPECIALIST', 'MEDIA TRAINING SPECIALIST', 'MEDIA/SECURITY SYSTEMS SPECIALIST', 'MEDIA/SECURITY SYSTEMS SUPERVISOR', 'MEDICAL EVALUATIONS ASSISTANT', 'MEDICAL EXAMINER'S INVESTIGATOR I', 'MEDICAL EXAMINER'S INVESTIGATOR II', 'MEDICAL EXAMINER'S INVESTIGATOR III', 'MEDICAL RECORDS CLERK', 'MEDICAL RECORDS TECHNICIAN', 'MEDICAL RECORDS TECHNICIAN SUPERVISOR', 'MEDICAL SOCIAL WORK SUPERVISOR', 'MEDICAL SOCIAL WORKER', 'MEDICAL STAFF SERVICES DEPARTMENT ANALYST', 'MEDICAL STAFF SERVICES DEPARTMENT SPECIALIST', 'MEDICAL TRANSCRIBER TYPIST', 'MEMBER, BOARD OF SUPERVISORS', 'MENTAL HEALTH HEARING OFFICER', 'MENTAL HEALTH REHABILITATION WORKER', 'MENTAL HEALTH TREATMENT SPECIALIST', 'METAL FABRICATOR', 'METALSMITH', 'METER READER', 'MICROBIOLOGIST', 'MICROPHOTO/IMAGING TECHNICIAN', 'MOBILE EQUIPMENT ASSISTANT SUPERVISOR', 'MOBILE EQUIPMENT SUPERVISOR', 'MORGUE ATTENDANT', 'MUNICIPAL STADIUM GROUNDSKEEPER', 'MUSEUM GUARD', 'MUSEUM PREPARATOR', 'MUSEUM REGISTRAR', 'MUSEUM SECURITY SUPERVISOR', 'Mail & Reproduction Svc Sprv', 'Main Machinist Asst Sprv', 'Maintenance Controller', 'Maintenance Machinist', 'Maintenance Machinist Sprv 1', 'Maintenance Manager', 'Maintenance Planner', 'Maintenance Scheduler', 'Management Assistant', 'Manager I', 'Manager II', 'Manager II, MTA', 'Manager III', 'Manager III, MTA', 'Manager IV', 'Manager IV, MTA', 'Manager V', 'Manager V, MTA', 'Manager VI', 'Manager VI, MTA', 'Manager VII', 'Manager VII, MTA', 'Manager VIII', 'Manager VIII, MTA', 'Manager, Dept Public Health', 'Manager,Employee Relations Div', 'Managing Attorney', 'Marina Assistant', 'Marina Assistant Manager', 'Marina Associate Manager', 'Marine Engineer of Fire Boats', 'Maritime Marketing Repr', 'Market Research Spec, Port', 'Marriage, Family & Child Cnslr', 'Materials Coordinator', 'Materials Testing Aide', 'Materials Testing Technician', 'Materials/Supplies Supervisor', 'Mayor', 'Mayoral Staff II', 'Mayoral Staff IV', 'Mayoral Staff IX', 'Mayoral Staff V', 'Mayoral Staff VII', 'Mayoral Staff X', 'Mayoral Staff XI', 'Mayoral Staff XII', 'Mayoral Staff XIII', 'Mayoral Staff XIV', 'Mayoral Staff XV', 'Mayoral Staff XVI', 'Mayoral Staff XVII', 'Mech Shop & Equip Supt', 'Med Examiner's Investigator I', 'Med Examiner's Investigator II', 'Med Examiner's InvestigatorIII', 'Med Staff Svcs Dept Anl', 'Med Staff Svcs Dept Spc', 'Media Production Specialist', 'Media Production Supv', 'Media Production Tech', 'Media Programming Spec', 'Media Training Specialist', 'Media/Security Sys Spec', 'Media/Security Syst Supv', 'Medical Evaluations Assistant', 'Medical Records Clerk', 'Medical Records Tech Sprv', 'Medical Records Technician', 'Medical Social Work Supervisor', 'Medical Social Worker', 'Medical Transcriber Typist', 'Member, Board of Supervisors', 'Mental Health Hearing Officer', 'Mental Hlth Treatment Spec', 'Metalsmith', 'Meter Reader', 'Mgr Museum Security Services', 'Mgr, Unified Family Court Svcs', 'Microbiologist', 'Microphoto/Imaging Technician', 'Mobile Equipment Supervisor', 'Morgue Attendant', 'Municipal Stadium Groundskpr', 'Museum Guard', 'Museum Preparator', 'Museum Registrar', 'Museum Sec Supv', 'Musm Exhibit Packer & Repairer', 'NURSE MANAGER', 'NURSE MIDWIFE', 'NURSE PRACTITIONER', 'NURSERY SPECIALIST', 'NURSES STAFFING ASSISTANT', 'NURSING ASSISTANT', 'NURSING SUPERVISOR', 'NURSING SUPERVISOR PSYCHIATRIC', 'NUTRITIONIST', 'Not provided', 'Nurse Manager', 'Nurse Midwife', 'Nurse Practitioner', 'Nursery Specialist', 'Nurses Staffing Assistant', 'Nursing Assistant', 'Nursing Supervisor', 'Nursing Supervisor Psychiatric', 'Nutritionist', 'OCCUPATIONAL THERAPIST', 'OFFSET MACHINE OPERATOR', 'OPERATING ENGINEER, UNIVERSAL', 'OPERATING ROOM NURSE', 'ORNAMENTAL IRON WORKER', 'ORNAMENTAL IRON WORKER SUPERVISOR I', 'ORTHOPEDIC TECHNICIAN I', 'ORTHOPEDIC TECHNICIAN II', 'Occupational Therapist', 'Offset Machine Operator', 'Operating Engineer, Universal', 'Operating Room Nurse', 'Ornamental Iron Worker', 'Ornamental Iron Wrk Sprv 1', 'Orthopedic Technician 1', 'Orthopedic Technician 2', 'PAINTER', 'PAINTER SUPERVISOR I', 'PAINTER SUPERVISOR II', 'PARK PATROL OFFICER', 'PARK SECTION SUPERVISOR', 'PARKING CONTROL OFFICER', 'PARKING ENFORCEMENT ADMINISTRATOR', 'PARKING HEARING EXAMINER', 'PARKING METER REPAIRER', 'PARKING METER REPAIRER SUPERVISOR I', 'PARTS STOREKEEPER', 'PATIENT ACCOUNTS ASSISTANT SUPERVISOR', 'PATIENT ACCOUNTS CLERK', 'PATIENT ACCOUNTS MANAGER', 'PATIENT ACCOUNTS SUPERVISOR', 'PATIENT SERVICES FINANCE TECHNICIAN', 'PATTERN MAKER', 'PAYROLL CLERK', 'PAYROLL SUPERVISOR', 'PERFORMANCE ANALYST III - PROJECT MANAGER', 'PERFORMING ARTS CENTER AIDE', 'PERMIT AND CITATION CLERK', 'PERSONAL PROPERTY AUDITOR', 'PERSONNEL ANALYST', 'PERSONNEL CLERK', 'PERSONNEL PAYROLL REPRESENTATIVE', 'PERSONNEL TECHNICIAN', 'PEST CONTROL SPECIALIST', 'PHARMACIST', 'PHARMACY HELPER', 'PHARMACY TECHNICIAN', 'PHOTOGRAPHER', 'PHYSICAL THERAPIST', 'PHYSICAL THERAPIST ASSISTANT', 'PHYSICAL THERAPY AIDE', 'PHYSICIAN ASSISTANT', 'PHYSICIAN SPECIALIST', 'PIANIST', 'PILE WORKER', 'PILEDRIVER ENGINE OPERATOR', 'PILEDRIVER SUPERVISOR I', 'PILOT OF FIRE BOATS', 'PIPE WELDER', 'PLANNER I', 'PLANNER II', 'PLANNER III', 'PLANNER III-ENVIRONMENTAL REVIEW', 'PLANNER IV', 'PLANNER IV-ENVIRONMENTAL REVIEW', 'PLANNER TECHNICIAN', 'PLANNER V', 'PLUMBER', 'PLUMBER SUPERVISOR I', 'PLUMBER SUPERVISOR II', 'PLUMBING INSPECTOR', 'POLICE COMMUNICATIONS SHIFT SUPERVISOR', 'POLICE OFFICER I', 'POLICE OFFICER II', 'POLICE OFFICER III', 'POLICE SERVICES AIDE', 'PORT DIRECTOR', 'PORTER', 'PORTER ASSISTANT SUPERVISOR', 'PORTER SUPERVISOR I', 'POWER GENERATION SUPERVISOR', 'POWER GENERATION TECHNICIAN I', 'POWER GENERATION TECHNICIAN II', 'POWER HOUSE ELECTRICIAN SUPERVISOR I', 'POWER HOUSE OPERATOR', 'POWER PLANT SUPERVISOR I', 'POWERHOUSE ELECTRICIAN SUPERVISOR II', 'PRINCIPAL ACCOUNT CLERK', 'PRINCIPAL ACCOUNTANT', 'PRINCIPAL ADMINISTRATIVE ANALYST', 'PRINCIPAL ADMINISTRATIVE ANAYLST II', 'PRINCIPAL CIVIL ENGINEER', 'PRINCIPAL CLERK', 'PRINCIPAL DISTRICT ATTORNEY'S INVESTIGATOR', 'PRINCIPAL ENVIRONMENTAL HEALTH INSPECTOR', 'PRINCIPAL ENVIRONMENTAL SPECIALIST', 'PRINCIPAL FARE COLLECTIONS RECEIVER', 'PRINCIPAL INVESTIGATOR, TAX COLLECTOR', 'PRINCIPAL MANAGEMENT ANALYST', 'PRINCIPAL MUSEUM PREPARATOR', 'PRINCIPAL PARTS STOREKEEPER', 'PRINCIPAL PAYROLL AND PERSONNEL CLERK', 'PRINCIPAL PERMIT AND CITATION CLERK', 'PRINCIPAL PERSONAL PROPERTY AUDITOR', 'PRINCIPAL PERSONNEL ANALYST', 'PRINCIPAL REAL PROPERTY APPRAISER', 'PRINCIPAL REAL PROPERTY OFFICER', 'PRINCIPAL RECREATION SUPERVISOR', 'PRINCIPAL WATER SERVICES CLERK', 'PROBATE EXAMINER', 'PROGRAM SPECIALIST', 'PROGRAM SPECIALIST SUPERVISOR', 'PROGRAM SUPPORT ANALYST', 'PROJECT MANAGER I', 'PROJECT MANAGER II', 'PROJECT MANAGER III', 'PROJECT MANAGER IV', 'PROTECTIVE SERVICES SUPERVISOR', 'PROTECTIVE SERVICES WORKER', 'PS Aide Health Services', 'PS Aide to Prof', 'PSYCHIATRIC SOCIAL WORKER', 'PSYCHIATRIC TECHNICIAN', 'PUBLIC DEFENDER', 'PUBLIC DEFENDER'S INVESTIGATOR', 'PUBLIC HEALTH NURSE', 'PUBLIC HEALTH TEAM LEADER', 'PUBLIC INFORMATION OFFICER', 'PUBLIC RELATIONS ASSISTANT', 'PUBLIC RELATIONS MANAGER', 'PUBLIC RELATIONS OFFICER', 'PUBLIC SAFETY COMMUNICATIONS DISPATCHER', 'PUBLIC SAFETY COMMUNICATIONS TECHNICIAN', 'PUBLIC SERVICE AIDE-ADMINISTRATIVE', 'PUBLIC SERVICE AIDE-ASSISTANT TO PROFESSIONALS', 'PUBLIC SERVICE AIDE-ASSOCIATE TO PROFESSIONALS', 'PUBLIC SERVICE AIDE-HEALTH SERVICES', 'PUBLIC SERVICE AIDE-SPECIAL PROGRAMS', 'PUBLIC SERVICE TRAINEE', 'PURCHASER', 'Painter', 'Painter Supervisor 1', 'Painter Supervisor 2', 'Park Patrol Officer', 'Park Section Supervisor', 'Parking Control Officer', 'Parking Enforcement Admin', 'Parking Hearing Examiner', 'Parking Meter Repairer', 'Parking Meter Repairer Sprv 1', 'Parts Storekeeper', 'Patient Accounts Asst Sprv', 'Patient Accounts Clerk', 'Patient Accounts Manager', 'Patient Accounts Supervisor', 'Patient Care Assistant', 'Patient Svcs Finance Tech', 'Pattern Maker', 'Payroll Clerk', 'Payroll Supervisor', 'Perf Analyst III Project Mgr', 'Performance Analyst I', 'Performance Analyst II', 'Permit and Citation Clerk', 'Personal Property Auditor', 'Personnel Analyst', 'Personnel Clerk', 'Personnel Technician', 'Personnel Trainee', 'Personnel/Payroll Repres', 'Pharmacist', 'Pharmacy Helper', 'Pharmacy Technician', 'Photographer', 'Physical Therapist', 'Physical Therapist Assistant', 'Physician Assistant', 'Physician Specialist', 'Pianist', 'Pile Worker', 'Piledriver Engine Operator', 'Piledriver Supervisor 1', 'Pilot of Fire Boats', 'Pipe Welder', 'Planner 1', 'Planner 2', 'Planner 3', 'Planner 3-Environmental Review', 'Planner 4', 'Planner 4-Environmental Review', 'Planner 5', 'Planner Technician', 'Plumber', 'Plumber Supervisor 1', 'Plumber Supervisor 2', 'Plumbing Inspector', 'Police Officer', 'Police Officer 2', 'Police Officer 3', 'Police Services Aide', 'Pool Lifeguard', 'Port Director', 'Porter', 'Porter Assistant Supervisor', 'Porter Supervisor 1', 'Power Generation Supervisor', 'Power Generation Technician 1', 'Power Generation Technician 2', 'Power House Operator', 'Power Plant Supervisor 1', 'Pr Administrative Analyst', 'Pr DistAtty Invstgtor,SpecUnit', 'Pr Environmental Hlth Insp', 'Pr Fare Collections Receiver', 'Pr Investigator, Tax Collector', 'Pr Payroll & Personnel Clerk', 'Pr Personal Property Auditor', 'Pr Real Property Appraiser', 'PrDAInvest,SpecUnit (SFERS)', 'Principal Account Clerk', 'Principal Clerk', 'Principal Environ Specialist', 'Principal Mgmt Analyst', 'Principal Museum Preparator', 'Principal Parts Storekeeper', 'Principal Personnel Analyst', 'Principal Real Property Ofc', 'Principal Recreation Sprv', 'Principal Water Services Clerk', 'Prnpl Admin Analyst II', 'Probate Examiner', 'Program Specialist', 'Program Specialist Supervisor', 'Program Support Analyst', 'Project Manager 1', 'Project Manager 2', 'Project Manager 3', 'Project Manager 4', 'Property Manager, Port', 'Protective Services Supervisor', 'Protective Services Worker', 'Prpl Permit and Citation Clerk', 'Psychiatric Social Worker', 'Psychiatric Technician', 'Pub Safety Communication Coord', 'Publ Svc Aide-Asst to Prof', 'Public Defender', 'Public Defender's Investigator', 'Public Health Nurse', 'Public Health Team Leader', 'Public Information Officer', 'Public Relations Assistant', 'Public Relations Mgr', 'Public Relations Officer', 'Public Safety Comm Tech', 'Public SafetyComm Disp', 'Public SafetyComm Supv', 'Public Service Aide-Admin', 'Public Service Aide-Technical', 'Public Service Trainee', 'Public Svc Aide-Public Works', 'Purchaser', 'RADIOLOGIC TECHNOLOGIST SUPERVISOR', 'REAL PROPERTY APPRAISER', 'REAL PROPERTY APPRAISER TRAINEE', 'REAL PROPERTY OFFICER', 'RECREATION COORDINATOR', 'RECREATION DIRECTOR', 'RECREATION LEADER', 'RECREATION SPECIALIST', 'RECREATION SUPERVISOR', 'REGISTERED NURSE', 'REGULATORY SPECIALIST', 'REHABILITATION COUNSELOR', 'REHABILITATION SERVICES COORDINATOR', 'RENT BOARD SUPERVISOR', 'REPRESENTATIVE, COMMISSION ON THE STATUS OF WOMEN', 'REPRESENTATIVE, HUMAN RIGHTS COMMISSION', 'RESEARCH ASSISTANT', 'RESEARCH PSYCHOLOGIST', 'RESPIRATORY CARE PRACTITIONER', 'RETIREMENT ANALYST', 'ROOFER', 'ROOFER SUPERVISOR I', 'Radiologic Tech Sprv', 'Real Estate Devt. Mgr, SFMTA', 'Real Property Appraiser', 'Real Property Manager', 'Recreation Coordinator', 'Recreation Director', 'Recreation Leader', 'Recreation Specialist', 'Recreation Supervisor', 'Registered Nurse', 'Regulatory Specialist', 'Rehabilitation Counselor', 'Rehabilitation Svcs Coord', 'Rent Board Supervisor', 'Rep, Comm Status of Women', 'Rep, Human Rights Comm', 'Research Assistant', 'Research Asst, Superior Court', 'Research Psychologist', 'Respiratory Care Practitioner', 'Roofer', 'Roofer Supervisor 1', 'SAFETY ANALYST', 'SAFETY OFFICER', 'SCHOOL CROSSING GUARD', 'SECRETARY I', 'SECRETARY II', 'SECRETARY TO THE PRESIDING JUDGE', 'SECRETARY, BUILDING INSPECTION COMMISSION', 'SECRETARY, COMMISSION ON THE ENVIRONMENT', 'SECRETARY, HEALTH COMMISSION', 'SECRETARY, HUMAN SERVICES COMMISSION', 'SECRETARY, LIBRARY COMMISSION', 'SECRETARY,JUVENILE PROBATION COMMISSION', 'SECURITY ANALYST', 'SECURITY GUARD', 'SENIOR ACCOUNT CLERK', 'SENIOR ACCOUNTANT', 'SENIOR ADMINISTRATIVE ANALYST', 'SENIOR AIRPORT COMMUNICATIONS DISPATCHER', 'SENIOR ASSESSMENT CLERK', 'SENIOR BOOK REPAIRER', 'SENIOR BUILDING INSPECTOR', 'SENIOR CENTRAL PROCESSING AND DISTRIBUTION TECHNIC', 'SENIOR CLAIMS INVESTIGATOR', 'SENIOR CLAIMS INVESTIGATOR,CITY ATTORNEY'S OFFICE', 'SENIOR CLERK', 'SENIOR CLERK TYPIST', 'SENIOR COLLECTIONS OFFICER', 'SENIOR COMMUNITY DEVELOPMENT SPECIALIST I', 'SENIOR COMMUNITY DEVELOPMENT SPECIALIST II', 'SENIOR CONSTRUCTION INSPECTOR', 'SENIOR COUNSELOR, JUVENILE HALL', 'SENIOR COURT STAFF ATTORNEY', 'SENIOR CUSTOMER SERVICE AGENT', 'SENIOR DATA ENTRY OPERATOR', 'SENIOR DEPUTY SHERIFF', 'SENIOR DISTRICT ATTORNEY'S INVESTIGATOR', 'SENIOR ELECTRICAL INSPECTOR', 'SENIOR ELIGIBILITY WORKER', 'SENIOR EMPLOYEE ASSISTANCE COUNSELOR', 'SENIOR EMPLOYEE RELATIONS REPRESENTATIVE', 'SENIOR ENGINEER', 'SENIOR ENVIRONMENT SPECIALIST', 'SENIOR ENVIRONMENTAL HEALTH INSPECTOR', 'SENIOR ESTATE INVESTIGATOR', 'SENIOR FARE COLLECTIONS RECEIVER', 'SENIOR FISCAL TECHNICIAN', 'SENIOR FOOD SERVICE SUPERVISOR', 'SENIOR FOOD SERVICE WORKER', 'SENIOR GENERAL UTILITY MECHANIC', 'SENIOR HEALTH EDUCATOR', 'SENIOR HEALTH PROGRAM PLANNER', 'SENIOR HOUSING INSPECTOR', 'SENIOR HUMAN RESOURCES ANALYST', 'SENIOR INDUSTRIAL HYGIENIST DEPT OF PUBLIC HEALTH', 'SENIOR INVESTIGATOR, OFFICE OF CITIZEN'S COMPLAINT', 'SENIOR LAUNDRY WORKER', 'SENIOR LEGAL PROCESS CLERK', 'SENIOR LIGHT RAIL VEHICLE EQUIPMENT ENGINEER', 'SENIOR MAINTENANCE CONTROLLER', 'SENIOR MANAGEMENT ASSISTANT', 'SENIOR MARRIAGE, FAMILY & CHILD COUNSELOR (MFCC)', 'SENIOR MATERIALS AND SUPPLIES SUPERVISOR', 'SENIOR MEDICAL SOCIAL WORKER', 'SENIOR MEDICAL TRANSCRIBER TYPIST', 'SENIOR MICROBIOLOGIST', 'SENIOR MICROPHOTO/IMAGING TECHNICIAN', 'SENIOR MORGUE ATTENDANT', 'SENIOR MUSEUM PREPARATOR', 'SENIOR MUSEUM REGISTRAR', 'SENIOR OCCUPATIONAL THERAPIST', 'SENIOR OFFSET MACHINE OPERATOR', 'SENIOR OPERATIONS MANAGER', 'SENIOR PARKING CONTROL OFFICER', 'SENIOR PARTS STOREKEEPER', 'SENIOR PAYROLL AND PERSONNEL CLERK', 'SENIOR PERMIT AND CITATION CLERK', 'SENIOR PERSONAL PROPERTY AUDITOR', 'SENIOR PERSONNEL ANALYST', 'SENIOR PERSONNEL CLERK', 'SENIOR PHARMACY HELPER', 'SENIOR PHYSICAL THERAPIST', 'SENIOR PHYSICIAN SPECIALIST', 'SENIOR PLAN CHECKER', 'SENIOR PLUMBING INSPECTOR', 'SENIOR POLICE COMMUNICATIONS DISPATCHER', 'SENIOR POWER GENERATION TECHNICIAN', 'SENIOR POWER HOUSE OPERATOR', 'SENIOR PROPERTY MANAGER, PORT', 'SENIOR PSYCHIATRIC ORDERLY', 'SENIOR PSYCHIATRIC SOCIAL WORKER', 'SENIOR PUBLIC DEFENDER'S INVESTIGATOR', 'SENIOR PURCHASER', 'SENIOR RADIO TECHNICIAN', 'SENIOR REAL PROPERTY APPRAISER', 'SENIOR REAL PROPERTY OFFICER', 'SENIOR SOCIAL WORKER', 'SENIOR STATIONARY ENGINEER', 'SENIOR STATIONARY ENGINEER, SEWAGE PLANT', 'SENIOR STATIONARY ENGINEER, WATER TREATMENT PLANT', 'SENIOR STOREKEEPER', 'SENIOR STREET INSPECTOR', 'SENIOR SUPERVISING PROBATION OFFICER, JUVENILE POU', 'SENIOR SWIMMING INSTRUCTOR', 'SENIOR SYSTEMS ACCOUNTANT', 'SENIOR TELEPHONE OPERATOR', 'SENIOR TRANSCRIBER TYPIST', 'SENIOR TRANSIT INFORMATION CLERK', 'SENIOR TRANSIT TRAFFIC CHECKER', 'SENIOR UNIT CLERK', 'SENIOR WATER SERVICE INSPECTOR', 'SENIOR WATER SERVICES CLERK', 'SERGEANT I (POLICE DEPARTMENT)', 'SERGEANT II (POLICE DEPARTMENT)', 'SERGEANT III (POLICE DEPARTMENT)', 'SEWAGE TREATMENT PLANT SUPERINTENDENT', 'SEWER MAINTENANCE WORKER', 'SEWER REPAIR SUPERVISOR', 'SEWER SERVICE WORKER', 'SHADE AND DRAPERY WORKER', 'SHEET METAL SUPERVISOR I', 'SHEET METAL WORKER', 'SHEET METAL WORKER SUPERVISOR II', 'SHELTER OFFICE ASSISTANT SUPERVISOR', 'SHELTER OFFICE SUPERVISOR', 'SHELTER SERVICE REPRESENTATIVE', 'SHELTER VETERINARIAN', 'SHERIFF', 'SHERIFF'S CADET', 'SHERIFF'S CAPTAIN', 'SHERIFF'S LIEUTENANT', 'SHERIFF'S PROPERTY KEEPER', 'SHERIFF'S SERGEANT', 'SIGN WORKER', 'SIGNAL AND SYSTEMS ENGINEER', 'SOCIAL WORK SPECIALIST', 'SOCIAL WORK SUPERVISOR', 'SOCIAL WORKER', 'SOFT FLOOR COVERER', 'SOFT FLOOR COVERER SUPERVISOR', 'SPECIAL ASSISTANT III', 'SPECIAL ASSISTANT XIV', 'SPECIAL ASSISTANT XV', 'SPECIAL ASSISTANT XVI', 'SPECIAL ASSISTANT XVIII', 'SPECIAL ASSISTANT XXII', 'SPECIAL EXAMINER', 'SPECIAL NURSE', 'SPECIALIST IN AGING II', 'SPEECH PATHOLOGIST', 'STABLE ATTENDANT', 'STAGE ELECTRICIAN', 'STATION AGENT, MUNICIPAL RAILWAY', 'STATION OFFICER', 'STATIONARY ENGINEER', 'STATIONARY ENGINEER, SEWAGE PLANT', 'STATIONARY ENGINEER, WATER TREATMENT PLANT', 'STATISTICIAN', 'STEAMFITTER', 'STEAMFITTER ASSISTANT SUPERVISOR', 'STOREKEEPER', 'STORES AND EQUIPMENT ASSISTANT SUPERVISOR', 'STREET ENVIRONMENTAL SERVICES OPERATIONS SUPERVI', 'STREET INSPECTION SUPERVISOR', 'STREET INSPECTOR', 'STREET REPAIR SUPERVISOR II', 'STRUCTURAL ENGINEER', 'STUDENT DESIGN TRAINEE 1/ARC-ENG-PLNG', 'STUDENT DESIGN TRAINEE 2/ARC-ENG-PLNG', 'STUDENT DESIGN TRAINEE 3/ARC-ENG-PLNG', 'SUPERINTENDENT OF WATER TREATMENT FACILITIES', 'SUPERIOR COURT JUDGE', 'SUPERVISING ADULT PROBATION OFFICER', 'SUPERVISING AUDITOR', 'SUPERVISING BIOLOGIST', 'SUPERVISING BUILDING AND GROUNDS PATROL OFFICER', 'SUPERVISING CHEMIST', 'SUPERVISING CLINICAL PSYCHOLOGIST', 'SUPERVISING COURT ADMINISTRATIVE SECRETARY', 'SUPERVISING ELECTRONIC MAINTENANCE TECHNICIAN', 'SUPERVISING PARTS STOREKEEPER', 'SUPERVISING PHARMACIST', 'SUPERVISING PHYSICIAN SPECIALIST', 'SUPERVISING PROBATION OFFICER, JUVENILE COURT', 'SUPERVISING PURCHASER', 'SUPERVISING WASTEWATER CONTROL INSPECTOR', 'SUPERVISING WELFARE FRAUD INVESTIGATOR', 'SUPERVISOR, TRAFFIC AND STREET SIGNS', 'SUPPLY ROOM ATTENDENT', 'SURGICAL PROCEDURES TECHNICIAN', 'SURVEY ASSISTANT II', 'SURVEY ASSISTNAT I', 'SURVEY ASSOCIATE', 'SWIMMING INSTRUCTOR/POOL LIFEGUARD', 'SWITCH REPAIRER', 'Safety Analyst', 'Safety Officer', 'School Crossing Guard', 'Sctry, Bldg Inspection Comm', 'Sctry, Human Svcs. Commission', 'Sctry, Juv Probation Comm', 'Secretary 1', 'Secretary 2', 'Secretary, Comm on the Environ', 'Secretary, Health Commission', 'Secretary, Library Commission', 'Security Analyst', 'Security Guard', 'Sen Hospital Eligibility Wrkr', 'Senior Account Clerk', 'Senior Administrative Analyst', 'Senior Assessment Clerk', 'Senior Benefits Analyst', 'Senior Book Repairer', 'Senior Building Inspector', 'Senior Claims Investigator', 'Senior Clerk', 'Senior Clerk Typist', 'Senior Collections Officer', 'Senior Comm Systems Technican', 'Senior Const Inspector', 'Senior Data Entry Operator', 'Senior Deputy Sheriff', 'Senior Electrical Inpsector', 'Senior Eligibility Worker', 'Senior Emp Relations Repres', 'Senior Estate Investigator', 'Senior Fiscal Technician', 'Senior Food Service Supervisor', 'Senior Food Service Worker', 'Senior Health Educator', 'Senior Health Program Planner', 'Senior Housing Inspector', 'Senior Industrial Hygienist', 'Senior Laundry Worker', 'Senior Legal Process Clerk', 'Senior Maintenance Controller', 'Senior Management Assistant', 'Senior Medical Social Worker', 'Senior Microbiologist', 'Senior Morgue Attendant', 'Senior Museum Preparator', 'Senior Museum Registrar', 'Senior Occupational Therapist', 'Senior Offset Machine Operator', 'Senior Parking Control Officer', 'Senior Parts Storekeeper', 'Senior Personnel Analyst', 'Senior Personnel Clerk', 'Senior Pharmacy Helper', 'Senior Physical Therapist', 'Senior Physician Specialist', 'Senior Plan Checker', 'Senior Plumbing Inspector', 'Senior Power House Operator', 'Senior Property Manager, Port', 'Senior Psychiatric Orderly', 'Senior Purchaser', 'Senior Real Property Appraiser', 'Senior Real Property Officer', 'Senior Social Worker', 'Senior Stationary Engineer', 'Senior Storekeeper', 'Senior Street Inspector', 'Senior Telephone Operator', 'Senior Transcriber Typist', 'Senior Transit Traffic Checker', 'Senior Unit Clerk', 'Senior Water Service Inspector', 'Senior Water Services Clerk', 'Sergeant 2', 'Sergeant 3', 'Sergeant, (Police Department)', 'Sewage Treatment Plant Supt', 'Sewer Maintenance Worker', 'Sewer Repair Supervisor', 'Sewer Service Worker', 'Shade and Drapery Worker', 'Sheet Metal Supervisor 1', 'Sheet Metal Worker', 'Sheet Metal Wrk Supervisor 2', 'Shelter Office Asst Supv', 'Shelter Officer Supervisor', 'Shelter Service Rep', 'Shelter Veterinarian', 'Sheriff', 'Sheriff (SFERS)', 'Sheriff's Cadet', 'Sheriff's Captain', 'Sheriff's Lieutenant', 'Sheriff's Property Keeper', 'Sheriff's Sergeant', 'Sign Worker', 'Signal and Systems Engineer', 'Snr Permit and Citation Clerk', 'Social Work Specialist', 'Social Work Supervisor', 'Social Worker', 'Soft Floor Coverer', 'Soft Floor Coverer Supvr I', 'Special Assistant 10', 'Special Assistant 11', 'Special Assistant 13', 'Special Assistant 14', 'Special Assistant 15', 'Special Assistant 16', 'Special Assistant 18', 'Special Assistant 19', 'Special Assistant 21', 'Special Assistant 22', 'Special Assistant 3', 'Special Assistant 8', 'Special Examiner', 'Special Nurse', 'Specialist in Aging 2', 'Speech Pathologist', 'Sprv Adult Prob Ofc (SFERS)', 'Sprv Adult Probation Ofc', 'Sprv Clincal Psychologist', 'Sprv Electronic Main Tech', 'Sprv Prob Ofc, Juv Court', 'Sprv Wastewater Cont Inspector', 'Sprv, Traffic & Street Signs', 'Sr Airport Communications Disp', 'Sr Cent Proc & Dist Tech', 'Sr Cnselor, Juv Hall (SFERS)', 'Sr Community Dev Spec 2', 'Sr Counselor, Juvenile Hall', 'Sr Court Staff Attorney', 'Sr District Atty Investigator', 'Sr Employee Asst Counselor', 'Sr Environmental Hlth Insp', 'Sr Fare Collections Receiver', 'Sr General Utility Mechanic', 'Sr Human Resources Analyst', 'Sr Investigator, OCC', 'Sr Light Rail Veh Equip Eng', 'Sr Marriage, Fam & Cld Cnslr', 'Sr Materials & Supplies Sprv', 'Sr Medical Transcriber Typist', 'Sr Opers Mgr', 'Sr Payroll & Personnel Clerk', 'Sr Personal Property Auditor', 'Sr Power Generation Tech', 'Sr Psychiatric Social Worker', 'Sr Public Defenders Invstgtor', 'Sr Sprv Prob Ofc, Juv Prob', 'Sr Statnry Eng, Wtr Treat Plnt', 'Sr Transit Information Clerk', 'Sr. Community Devl Spc 1', 'Sr. Environmental Spec', 'Sr. Microphoto/Imaging Tech.', 'Sr. Stationary Eng, Sew Plant', 'SrClaimsInvstgtor,Cty Atty Ofc', 'Stable Attendant', 'Stage Electrician', 'Station Agent, Muni Railway', 'Stationary Eng, Sewage Plant', 'Stationary Engineer', 'Statistician', 'Statnry Eng Water Treat Plant', 'StdntDsgn Train2/Arch/Eng/Plng', 'StdntDsgnTrain1, Arch/Eng/Plng', 'StdntDsgnTrain3, Arch/Eng/Plng', 'Steamfitter', 'Steamfitter Supervisor I', 'Storekeeper', 'Stores & Equip Asst Sprv', 'Street Environ Svcs Oprs Supv', 'Street Inspection Supervisor', 'Street Inspector', 'Street Repair Supervisor 2', 'Structural Engineer', 'Sup Ct Admin Secretary', 'Sup Welfare Fraud Investigator', 'Superior Court Judge', 'Supervising Mediator, UFCS', 'Supervising Parts Storekeeper', 'Supervising Pharmacist', 'Supervising Physician Spec', 'Supervising Purchaser', 'Supply Room Attendant', 'Supt Water Treatment Fac', 'Supv Biologist', 'Supv Bldg Grounds Patrol Ofcr', 'Supv Chemist', 'Surgical Procedures Technician', 'Survey Assistant I', 'Survey Assistant II', 'Survey Associate', 'Swimming Instr/Pool Lifeguard', 'Swimming Instructor', 'Switch Repairer', 'TELECOMMUNICATIONS TECHNICIAN SUPERVISOR', 'TELEPHONE OPERATOR', 'TESTING TECHNICIAN', 'TILE SETTER', 'TRACK MAINTENANCE SUPERINTENDENT,MUNICIPAL RAILWAY', 'TRACK MAINTENANCE WORKER', 'TRACK MAINTENANCE WORKER SUPERVISOR I', 'TRAF SIGNAL ELECTRICIAN SUP I', 'TRAF SIGNAL ELECTRICIAN SUP II', 'TRAFFIC HEARING OFFICER', 'TRAFFIC SIGN MANAGER', 'TRAFFIC SIGNAL ELECTRICIAN', 'TRAFFIC SIGNAL OPERATOR', 'TRAFFIC SURVEY TECHNICIAN', 'TRAIN CONTROLLER', 'TRAINING COORDINATOR', 'TRAINING OFFICER', 'TRAINING TECHNICIAN', 'TRANSCRIBER TYPIST', 'TRANSIT CAR CLEANER', 'TRANSIT CAR CLEANER ASSISTANT SUPERVISOR', 'TRANSIT FARE INSPECTOR', 'TRANSIT INFORMATION CLERK', 'TRANSIT MANAGER I', 'TRANSIT MANAGER II', 'TRANSIT OPERATIONS SPECIALIST', 'TRANSIT OPERATOR', 'TRANSIT PAINT SHOP SUPERVISOR I', 'TRANSIT PLANNER II', 'TRANSIT PLANNER III', 'TRANSIT PLANNER IV', 'TRANSIT POWER LINE SUPERVISOR I', 'TRANSIT POWER LINE WORKER', 'TRANSIT POWER LINE WORKER SUPERVISOR II', 'TRANSIT SUPERVISOR', 'TRANSIT TRAFFIC CHECKER', 'TRANSMISSION AND DISTRIBUTION LINE WORKER', 'TRANSMISSION LINE SUPERVISOR I', 'TRANSPORTATION SAFETY SPECIALIST', 'TREASURER', 'TREE TOPPER', 'TREE TOPPER SUPERVISOR I', 'TREE TOPPER SUPERVISOR II', 'TRIAL DELAY REDUCTION COORDINATOR', 'TRUCK DRIVER', 'Telecommunications Tech Supv', 'Telephone Operator', 'Testing Technician', 'Therapy Aide', 'Tile Setter', 'Track Maint Supt, Muni Railway', 'Track Maint Wrk Sprv 1', 'Track Maintenance Worker', 'Traf Signal Electrician Sup I', 'Traf Signal Electrician Sup II', 'Traffic Sign Manager', 'Traffic Signal Electrician', 'Traffic Signal Operator', 'Traffic Survey Technician', 'Train Controller', 'Training Coordinator', 'Training Officer', 'Training Technician', 'Trans Safety Specialist', 'Trans and Dist Line Worker', 'Transcriber Typist', 'Transit Car Cleaner', 'Transit Car Cleaner Asst Sprv', 'Transit Fare Insp. Sup/Invst.', 'Transit Fare Inspector', 'Transit Information Clerk', 'Transit Manager 1', 'Transit Manager 2', 'Transit Operations Specialist', 'Transit Operator', 'Transit Paint Shop Sprv1', 'Transit Planner 2', 'Transit Planner 4', 'Transit Planner III', 'Transit Power Cable Splicer', 'Transit Power Line Sprv1', 'Transit Power Line Worker', 'Transit Supervisor', 'Transit Traffic Checker', 'Transmission Line Supervisor 1', 'Transportation Planner II', 'Transportation Planner III', 'Transportation Planner IV', 'Treasurer', 'Trnst Power Line Wrk Sprv 2', 'Truck Driver', 'UNDERSHERIFF', 'UNIT CLERK', 'URBAN FORESTRY INSPECTOR', 'UTILITY ANALYST', 'UTILITY PLUMBER', 'UTILITY PLUMBER APPRENTICE', 'UTILITY PLUMBER SUPERVISOR I', 'UTILITY PLUMBER SUPERVISOR II', 'UTILITY SPECIALIST', 'Undersheriff', 'Undersheriff (SFERS)', 'Unit Clerk', 'Urban Forestry Inspector', 'Utility Analyst', 'Utility Plumber', 'Utility Plumber Apprentice', 'Utility Plumber Supervisor 1', 'Utility Plumber Supervisor 2', 'Utility Specialist', 'VENDOR', 'VETERNIARY LABORATORY TECHNOLOGIST', 'VICTIM & WITNESS TECHNICIAN', 'VICTIM/WITNESS INVESTIGATOR I', 'VICTIM/WITNESS INVESTIGATOR II', 'VICTIM/WITNESS INVESTIGATOR III', 'VOLUNTEER/OUTREACH COORDINATOR', 'Vet Laboratory Technologist', 'Victim & Witness Technician', 'Victim/Witness Investigator 1', 'Victim/Witness Investigator 2', 'Victim/Witness Investigator 3', 'Volunteer/Outreach Coord', 'WAREHOUSE WORKER', 'WASTEWATER CONTROL INSPECTOR', 'WATER AND POWER MAINTENANCE SUPERVISOR I', 'WATER CONSERVATION ADMINISTRATOR', 'WATER CONSTRUCTION AND MAINTENANCE SUPERINTENDENT', 'WATER METER REPAIRER', 'WATER OPERATIONS ANALYST', 'WATER QUALITY TECHNICIAN I/II', 'WATER QUALITY TECHNICIAN III', 'WATER SERVICE INSPECTOR', 'WATERSHED FORESTER MANAGER', 'WATERSHED KEEPER', 'WATERSHED KEEPER SUPERVISOR', 'WATERSHED WORKER (SEASONAL)', 'WELDER', 'WELFARE FRAUD INVESTIGATOR', 'WHARFINGER I', 'WHARFINGER II', 'WINDOW CLEANER', 'WINDOW CLEANER SUPERVISOR', 'WIRE ROPE CABLE MAINTENANCE MECHANIC', 'WIRE ROPE CABLE MAINTENANCE SUPERVISOR', 'WORKER'S COMPENSATION ADJUSTER', 'WORKER'S COMPENSATION SUPERVISOR I', 'Wastewater Control Inspector', 'Water & Power Maint Sprv 1', 'Water Conservation Admin', 'Water Const&Main Supt', 'Water Meter Repairer', 'Water Meter Shop Supervisor 1', 'Water Operations Analyst', 'Water Quality Tech III', 'Water Quality Technician', 'Water QualityTech I/II', 'Water Service Inspector', 'Watershed Forester', 'Watershed Keeper', 'Watershed Keeper Supervisor', 'Watershed Worker (Seasonal)', 'Welder', 'Welfare Fraud Investigator', 'Wharfinger 1', 'Wharfinger 2', 'Window Cleaner', 'Window Cleaner Supervisor', 'Wire Rope Cable Maint Mechanic', 'Wire Rope Cable Maint Sprv', 'Worker's Comp Supervisor 1', 'Worker's Compensation Adjuster', 'X-RAY LABORATORY AIDE', 'X-Ray Laboratory Aide', 'YOUTH COMMISSION ADVISOR, BOARD OF SUPERVISORS', 'Youth Comm Advisor', 'ZOO CURATOR']],\n",
            "           codes=[[2056, 1902, 1577, 1544, 1482], [2056, 1902, 1577, 1544, 1482]],\n",
            "           names=['JobTitle', 'JobTitle'])\n"
          ],
          "name": "stdout"
        }
      ]
    },
    {
      "cell_type": "markdown",
      "metadata": {
        "id": "25fCX21U9nO-",
        "colab_type": "text"
      },
      "source": [
        "**How many Job Titles were represented by only one person in 2013? (e.g. Job Titles with only one occurence in 2013?)**"
      ]
    },
    {
      "cell_type": "code",
      "metadata": {
        "id": "e9vr6BKD9nPA",
        "colab_type": "code",
        "outputId": "1d785ac9-49d9-4ce1-bd64-63ce28387187",
        "colab": {
          "base_uri": "https://localhost:8080/",
          "height": 34
        }
      },
      "source": [
        "jobCount=sal.groupby('JobTitle')['JobTitle'].count().reset_index(name='count')\n",
        "#print(jobCount)\n",
        "onePerson=jobCount[jobCount['count']==1]\n",
        "print('Numer of JobTitles represented by only one person is: ', len(onePerson))"
      ],
      "execution_count": 0,
      "outputs": [
        {
          "output_type": "stream",
          "text": [
            "numer of JobTitles represented by only one person is:  239\n"
          ],
          "name": "stdout"
        }
      ]
    },
    {
      "cell_type": "markdown",
      "metadata": {
        "id": "HoiNghja9nPD",
        "colab_type": "text"
      },
      "source": [
        "**How many people have the word Chief in their job title?**"
      ]
    },
    {
      "cell_type": "code",
      "metadata": {
        "id": "mBc0hzan9nPE",
        "colab_type": "code",
        "outputId": "29b6ff5e-e832-4d64-ae55-3a994713282a",
        "colab": {
          "base_uri": "https://localhost:8080/",
          "height": 34
        }
      },
      "source": [
        "sub='Chief'\n",
        "wordChief=sal['JobTitle'].astype(str).str.contains(sub).reset_index(name='result')\n",
        "result=wordChief.loc[wordChief['result']==True]\n",
        "print(len(result))"
      ],
      "execution_count": 0,
      "outputs": [
        {
          "output_type": "stream",
          "text": [
            "0\n"
          ],
          "name": "stdout"
        }
      ]
    },
    {
      "cell_type": "code",
      "metadata": {
        "id": "u40e_Ua89nPF",
        "colab_type": "code",
        "colab": {}
      },
      "source": [
        ""
      ],
      "execution_count": 0,
      "outputs": []
    },
    {
      "cell_type": "code",
      "metadata": {
        "id": "SA7QNzVq9nPI",
        "colab_type": "code",
        "colab": {}
      },
      "source": [
        ""
      ],
      "execution_count": 0,
      "outputs": []
    },
    {
      "cell_type": "markdown",
      "metadata": {
        "id": "5G094gws9nPL",
        "colab_type": "text"
      },
      "source": [
        "## Data Visualization\n",
        "\n",
        "**Implement seaborn's countplot with x='Year'**"
      ]
    },
    {
      "cell_type": "code",
      "metadata": {
        "id": "56GKG4UD9nPM",
        "colab_type": "code",
        "outputId": "0f444a4b-b8b7-45f0-cbae-495b0a7f475e",
        "colab": {
          "base_uri": "https://localhost:8080/",
          "height": 436
        }
      },
      "source": [
        "import seaborn as sns\n",
        "#data_home = \"https://s3-ap-southeast-1.amazonaws.com/intro-to-ml-minhdh/\"\n",
        "data=pd.DataFrame(data=sal)\n",
        "print(data.head(5))\n",
        "sns.countplot(x=data['Year'])"
      ],
      "execution_count": 9,
      "outputs": [
        {
          "output_type": "stream",
          "text": [
            "   Id       EmployeeName  ...         Agency  Status\n",
            "0   1     NATHANIEL FORD  ...  San Francisco     NaN\n",
            "1   2       GARY JIMENEZ  ...  San Francisco     NaN\n",
            "2   3     ALBERT PARDINI  ...  San Francisco     NaN\n",
            "3   4  CHRISTOPHER CHONG  ...  San Francisco     NaN\n",
            "4   5    PATRICK GARDNER  ...  San Francisco     NaN\n",
            "\n",
            "[5 rows x 13 columns]\n"
          ],
          "name": "stdout"
        },
        {
          "output_type": "execute_result",
          "data": {
            "text/plain": [
              "<matplotlib.axes._subplots.AxesSubplot at 0x7fab239059b0>"
            ]
          },
          "metadata": {
            "tags": []
          },
          "execution_count": 9
        },
        {
          "output_type": "display_data",
          "data": {
            "image/png": "[encoded data removed]",
            "text/plain": [
              "<Figure size 432x288 with 1 Axes>"
            ]
          },
          "metadata": {
            "tags": []
          }
        }
      ]
    },
    {
      "cell_type": "markdown",
      "metadata": {
        "id": "orQACfVP9nPP",
        "colab_type": "text"
      },
      "source": [
        "**Implement seaborn's distplot for BasePay of Year 2011**"
      ]
    },
    {
      "cell_type": "code",
      "metadata": {
        "id": "JYPrrLW19nPQ",
        "colab_type": "code",
        "outputId": "cff223a9-952d-48d3-f455-e4fa434d6afb",
        "colab": {
          "base_uri": "https://localhost:8080/",
          "height": 289
        }
      },
      "source": [
        "data2=data[data['Year']==2011]\n",
        "data2.head(5)\n",
        "sns."
      ],
      "execution_count": 14,
      "outputs": [
        {
          "output_type": "execute_result",
          "data": {
            "text/html": [
              "<div>\n",
              "<style scoped>\n",
              "    .dataframe tbody tr th:only-of-type {\n",
              "        vertical-align: middle;\n",
              "    }\n",
              "\n",
              "    .dataframe tbody tr th {\n",
              "        vertical-align: top;\n",
              "    }\n",
              "\n",
              "    .dataframe thead th {\n",
              "        text-align: right;\n",
              "    }\n",
              "</style>\n",
              "<table border=\"1\" class=\"dataframe\">\n",
              "  <thead>\n",
              "    <tr style=\"text-align: right;\">\n",
              "      <th></th>\n",
              "      <th>Id</th>\n",
              "      <th>EmployeeName</th>\n",
              "      <th>JobTitle</th>\n",
              "      <th>BasePay</th>\n",
              "      <th>OvertimePay</th>\n",
              "      <th>OtherPay</th>\n",
              "      <th>Benefits</th>\n",
              "      <th>TotalPay</th>\n",
              "      <th>TotalPayBenefits</th>\n",
              "      <th>Year</th>\n",
              "      <th>Notes</th>\n",
              "      <th>Agency</th>\n",
              "      <th>Status</th>\n",
              "    </tr>\n",
              "  </thead>\n",
              "  <tbody>\n",
              "    <tr>\n",
              "      <th>0</th>\n",
              "      <td>1</td>\n",
              "      <td>NATHANIEL FORD</td>\n",
              "      <td>GENERAL MANAGER-METROPOLITAN TRANSIT AUTHORITY</td>\n",
              "      <td>167411.18</td>\n",
              "      <td>0.00</td>\n",
              "      <td>400184.25</td>\n",
              "      <td>NaN</td>\n",
              "      <td>567595.43</td>\n",
              "      <td>567595.43</td>\n",
              "      <td>2011</td>\n",
              "      <td>NaN</td>\n",
              "      <td>San Francisco</td>\n",
              "      <td>NaN</td>\n",
              "    </tr>\n",
              "    <tr>\n",
              "      <th>1</th>\n",
              "      <td>2</td>\n",
              "      <td>GARY JIMENEZ</td>\n",
              "      <td>CAPTAIN III (POLICE DEPARTMENT)</td>\n",
              "      <td>155966.02</td>\n",
              "      <td>245131.88</td>\n",
              "      <td>137811.38</td>\n",
              "      <td>NaN</td>\n",
              "      <td>538909.28</td>\n",
              "      <td>538909.28</td>\n",
              "      <td>2011</td>\n",
              "      <td>NaN</td>\n",
              "      <td>San Francisco</td>\n",
              "      <td>NaN</td>\n",
              "    </tr>\n",
              "    <tr>\n",
              "      <th>2</th>\n",
              "      <td>3</td>\n",
              "      <td>ALBERT PARDINI</td>\n",
              "      <td>CAPTAIN III (POLICE DEPARTMENT)</td>\n",
              "      <td>212739.13</td>\n",
              "      <td>106088.18</td>\n",
              "      <td>16452.60</td>\n",
              "      <td>NaN</td>\n",
              "      <td>335279.91</td>\n",
              "      <td>335279.91</td>\n",
              "      <td>2011</td>\n",
              "      <td>NaN</td>\n",
              "      <td>San Francisco</td>\n",
              "      <td>NaN</td>\n",
              "    </tr>\n",
              "    <tr>\n",
              "      <th>3</th>\n",
              "      <td>4</td>\n",
              "      <td>CHRISTOPHER CHONG</td>\n",
              "      <td>WIRE ROPE CABLE MAINTENANCE MECHANIC</td>\n",
              "      <td>77916.00</td>\n",
              "      <td>56120.71</td>\n",
              "      <td>198306.90</td>\n",
              "      <td>NaN</td>\n",
              "      <td>332343.61</td>\n",
              "      <td>332343.61</td>\n",
              "      <td>2011</td>\n",
              "      <td>NaN</td>\n",
              "      <td>San Francisco</td>\n",
              "      <td>NaN</td>\n",
              "    </tr>\n",
              "    <tr>\n",
              "      <th>4</th>\n",
              "      <td>5</td>\n",
              "      <td>PATRICK GARDNER</td>\n",
              "      <td>DEPUTY CHIEF OF DEPARTMENT,(FIRE DEPARTMENT)</td>\n",
              "      <td>134401.60</td>\n",
              "      <td>9737.00</td>\n",
              "      <td>182234.59</td>\n",
              "      <td>NaN</td>\n",
              "      <td>326373.19</td>\n",
              "      <td>326373.19</td>\n",
              "      <td>2011</td>\n",
              "      <td>NaN</td>\n",
              "      <td>San Francisco</td>\n",
              "      <td>NaN</td>\n",
              "    </tr>\n",
              "  </tbody>\n",
              "</table>\n",
              "</div>"
            ],
            "text/plain": [
              "   Id       EmployeeName  ...         Agency  Status\n",
              "0   1     NATHANIEL FORD  ...  San Francisco     NaN\n",
              "1   2       GARY JIMENEZ  ...  San Francisco     NaN\n",
              "2   3     ALBERT PARDINI  ...  San Francisco     NaN\n",
              "3   4  CHRISTOPHER CHONG  ...  San Francisco     NaN\n",
              "4   5    PATRICK GARDNER  ...  San Francisco     NaN\n",
              "\n",
              "[5 rows x 13 columns]"
            ]
          },
          "metadata": {
            "tags": []
          },
          "execution_count": 14
        }
      ]
    },
    {
      "cell_type": "markdown",
      "metadata": {
        "id": "Ea9OFiqK9nPS",
        "colab_type": "text"
      },
      "source": [
        "**How about other Year**"
      ]
    },
    {
      "cell_type": "code",
      "metadata": {
        "id": "orRMn0X89nPT",
        "colab_type": "code",
        "colab": {}
      },
      "source": [
        ""
      ],
      "execution_count": 0,
      "outputs": []
    },
    {
      "cell_type": "markdown",
      "metadata": {
        "id": "00EkkG_s9nPV",
        "colab_type": "text"
      },
      "source": [
        "## Bonus\n",
        "\n",
        "**Visualize top 5 Jobs with BasePay, Benefits and OvertimePay**\n",
        "\n",
        "Keyword: *index, isin, groupby, mean, plot*"
      ]
    },
    {
      "cell_type": "code",
      "metadata": {
        "id": "LoZm87Bu9nPV",
        "colab_type": "code",
        "colab": {}
      },
      "source": [
        ""
      ],
      "execution_count": 0,
      "outputs": []
    },
    {
      "cell_type": "code",
      "metadata": {
        "id": "C-nKGOA-9nPY",
        "colab_type": "code",
        "outputId": "a4a94735-1f45-4d7c-dc75-3606cfd52969",
        "colab": {}
      },
      "source": [
        ""
      ],
      "execution_count": 0,
      "outputs": [
        {
          "output_type": "execute_result",
          "data": {
            "text/html": [
              "<div>\n",
              "<style scoped>\n",
              "    .dataframe tbody tr th:only-of-type {\n",
              "        vertical-align: middle;\n",
              "    }\n",
              "\n",
              "    .dataframe tbody tr th {\n",
              "        vertical-align: top;\n",
              "    }\n",
              "\n",
              "    .dataframe thead th {\n",
              "        text-align: right;\n",
              "    }\n",
              "</style>\n",
              "<table border=\"1\" class=\"dataframe\">\n",
              "  <thead>\n",
              "    <tr style=\"text-align: right;\">\n",
              "      <th></th>\n",
              "      <th>BasePay</th>\n",
              "      <th>Benefits</th>\n",
              "      <th>OvertimePay</th>\n",
              "    </tr>\n",
              "    <tr>\n",
              "      <th>JobTitle</th>\n",
              "      <th></th>\n",
              "      <th></th>\n",
              "      <th></th>\n",
              "    </tr>\n",
              "  </thead>\n",
              "  <tbody>\n",
              "    <tr>\n",
              "      <th>Police Officer 3</th>\n",
              "      <td>108508.662621</td>\n",
              "      <td>32829.713693</td>\n",
              "      <td>16418.062615</td>\n",
              "    </tr>\n",
              "    <tr>\n",
              "      <th>Public Svc Aide-Public Works</th>\n",
              "      <td>8091.876070</td>\n",
              "      <td>1379.748050</td>\n",
              "      <td>60.017744</td>\n",
              "    </tr>\n",
              "    <tr>\n",
              "      <th>Registered Nurse</th>\n",
              "      <td>102650.396486</td>\n",
              "      <td>35950.834170</td>\n",
              "      <td>4204.840575</td>\n",
              "    </tr>\n",
              "    <tr>\n",
              "      <th>Special Nurse</th>\n",
              "      <td>29929.166718</td>\n",
              "      <td>3210.342240</td>\n",
              "      <td>651.723372</td>\n",
              "    </tr>\n",
              "    <tr>\n",
              "      <th>Transit Operator</th>\n",
              "      <td>51772.154465</td>\n",
              "      <td>27355.597533</td>\n",
              "      <td>11143.260866</td>\n",
              "    </tr>\n",
              "  </tbody>\n",
              "</table>\n",
              "</div>"
            ],
            "text/plain": [
              "                                    BasePay      Benefits   OvertimePay\n",
              "JobTitle                                                               \n",
              "Police Officer 3              108508.662621  32829.713693  16418.062615\n",
              "Public Svc Aide-Public Works    8091.876070   1379.748050     60.017744\n",
              "Registered Nurse              102650.396486  35950.834170   4204.840575\n",
              "Special Nurse                  29929.166718   3210.342240    651.723372\n",
              "Transit Operator               51772.154465  27355.597533  11143.260866"
            ]
          },
          "metadata": {
            "tags": []
          },
          "execution_count": 8
        }
      ]
    },
    {
      "cell_type": "markdown",
      "metadata": {
        "id": "V2Lz3SGu9nPc",
        "colab_type": "text"
      },
      "source": [
        "**Fun Fact: Is there a correlation between length of the Job Title string and Salary?**\n",
        "\n",
        "*Hint: corr()*"
      ]
    },
    {
      "cell_type": "code",
      "metadata": {
        "id": "CgcrtPdJ9nPd",
        "colab_type": "code",
        "colab": {}
      },
      "source": [
        ""
      ],
      "execution_count": 0,
      "outputs": []
    },
    {
      "cell_type": "code",
      "metadata": {
        "id": "G8SQ0NhI9nPe",
        "colab_type": "code",
        "colab": {}
      },
      "source": [
        ""
      ],
      "execution_count": 0,
      "outputs": []
    },
    {
      "cell_type": "markdown",
      "metadata": {
        "id": "gY4kMupD9nPg",
        "colab_type": "text"
      },
      "source": [
        "# Great Job!"
      ]
    }
  ]
}